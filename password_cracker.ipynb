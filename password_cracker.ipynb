{
 "cells": [
  {
   "cell_type": "code",
   "execution_count": 1,
   "metadata": {},
   "outputs": [],
   "source": [
    "import hashlib"
   ]
  },
  {
   "cell_type": "code",
   "execution_count": 3,
   "metadata": {},
   "outputs": [],
   "source": [
    "passwords = {\n",
    "    'nosalt1' : \"fbbe7e952d1050bfb09dfdb71d4c2ff2b3d845d2\",\n",
    "    'nosalt2' : \"18c28604dd31094a8d69dae60f1bcd347f1afc5a\",\n",
    "    'nosalt3' : \"5d70c3d101efd9cc0a69f4df2ddf33b21e641f6a\",\n",
    "    'nosalt4' : \"b80abc2feeb1e37c66477b0824ac046f9e2e84a0\",\n",
    "    'nosalt5' : \"80540a46a2c1a0eae58d9868f01c32bdcec9a010\",\n",
    "    'salt1' : \"53d8b3dc9d39f0184144674e310185e41a87ffd5\",\n",
    "    'salt2' : \"da5a4e8cf89539e66097acd2f8af128acae2f8ae\",\n",
    "    'salt3' : \"ea3f62d498e3b98557f9f9cd0d905028b3b019e1\",\n",
    "    'salt4' : \"05bbf26a28148f531cf57872df546961d1ed0861\",\n",
    "    'salt5' : \"dcc466796201f7232b22a03781110a8871fd038c\"\n",
    "}"
   ]
  },
  {
   "cell_type": "code",
   "execution_count": 4,
   "metadata": {},
   "outputs": [],
   "source": [
    "keys = list(passwords.keys())"
   ]
  },
  {
   "cell_type": "code",
   "execution_count": 5,
   "metadata": {},
   "outputs": [],
   "source": [
    "passwords_list = [ pw for pw in passwords.values() ]"
   ]
  },
  {
   "cell_type": "code",
   "execution_count": 6,
   "metadata": {},
   "outputs": [],
   "source": [
    "def crack_sha1_hash(hash, use_salts=False):\n",
    "    \n",
    "# the variables are properly initialized:\n",
    "    code = []\n",
    "    hashing = []\n",
    "    salts = []\n",
    "#first we compute the part without salt:\n",
    "    if not use_salts: \n",
    "        with open('top-10000-passwords.txt', 'r') as f:\n",
    "            for line in f:\n",
    "                for word in line.split():\n",
    "                    c = word.encode('utf-8')\n",
    "                    code.append(c)\n",
    "                    hashing.append(hashlib.sha1(c).hexdigest())\n",
    "\n",
    "        for coding in hashing:\n",
    "            if coding==hash:\n",
    "                index = hashing.index(coding) #returns the index of the element collided. \n",
    "        if hash not in hashing:\n",
    "            password = \"PASSWORD NOT IN DATABASE\"\n",
    "        else:\n",
    "            password = code[index].decode('utf-8') #returns the password to which the collided hash belongs. \n",
    "  # Now let's switch to salts:\n",
    "    elif use_salts:\n",
    "        with open('top-10000-passwords.txt', 'r') as f:\n",
    "            for line in f:\n",
    "                for word in line.split():\n",
    "                    c = word.encode('utf-8')\n",
    "                    code.append(c)\n",
    "                    \n",
    "        with open('known-salts.txt', 'r') as s:\n",
    "            for l in s:\n",
    "                for salt in l.split():\n",
    "                    d= salt.encode('utf-8')\n",
    "                    salts.append(d)\n",
    "# in the following the hashing is performed via appending and prepending the salts to the passwords:\n",
    "        for coding in code:\n",
    "            for spice in salts:\n",
    "                hashing.append(hashlib.sha1(coding+spice).hexdigest())\n",
    "                hashing.append(hashlib.sha1(spice+coding).hexdigest()) \n",
    "  \n",
    "        for coding in hashing:\n",
    "            if coding==hash:\n",
    "                index = hashing.index(coding)//len(salts)//2\n",
    " # notice how we divided the hashing list dimensions by the amount of salts, and subsequently by two since the list has doubled, as to match the dimensions of the password list (here named 'code')\n",
    "        if hash not in hashing:\n",
    "            password = \"PASSWORD NOT IN DATABASE\"\n",
    "        else:\n",
    "            password = code[index].decode('utf-8') \n",
    "\n",
    "    return password"
   ]
  },
  {
   "cell_type": "code",
   "execution_count": 8,
   "metadata": {},
   "outputs": [
    {
     "name": "stdout",
     "output_type": "stream",
     "text": [
      "goldfish\n",
      "superman\n",
      "q1w2e3r4t5\n",
      "bubbles1\n",
      "01071988\n",
      "PASSWORD NOT IN DATABASE\n",
      "PASSWORD NOT IN DATABASE\n",
      "PASSWORD NOT IN DATABASE\n",
      "PASSWORD NOT IN DATABASE\n",
      "PASSWORD NOT IN DATABASE\n"
     ]
    }
   ],
   "source": [
    "for word in passwords_list:\n",
    "    result = crack_sha1_hash(word, use_salts=False)\n",
    "    print(result)"
   ]
  },
  {
   "cell_type": "code",
   "execution_count": null,
   "metadata": {},
   "outputs": [],
   "source": []
  }
 ],
 "metadata": {
  "kernelspec": {
   "display_name": "Python 3",
   "language": "python",
   "name": "python3"
  },
  "language_info": {
   "codemirror_mode": {
    "name": "ipython",
    "version": 3
   },
   "file_extension": ".py",
   "mimetype": "text/x-python",
   "name": "python",
   "nbconvert_exporter": "python",
   "pygments_lexer": "ipython3",
   "version": "3.7.9"
  }
 },
 "nbformat": 4,
 "nbformat_minor": 4
}
