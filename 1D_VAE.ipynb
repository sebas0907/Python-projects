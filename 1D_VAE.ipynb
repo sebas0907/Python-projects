{
  "nbformat": 4,
  "nbformat_minor": 0,
  "metadata": {
    "accelerator": "GPU",
    "colab": {
      "name": "1D_VAE.ipynb",
      "provenance": [],
      "collapsed_sections": [],
      "toc_visible": true,
      "include_colab_link": true
    },
    "kernelspec": {
      "display_name": "Python 3",
      "language": "python",
      "name": "python3"
    },
    "language_info": {
      "codemirror_mode": {
        "name": "ipython",
        "version": 3
      },
      "file_extension": ".py",
      "mimetype": "text/x-python",
      "name": "python",
      "nbconvert_exporter": "python",
      "pygments_lexer": "ipython3",
      "version": "3.7.7"
    }
  },
  "cells": [
    {
      "cell_type": "markdown",
      "metadata": {
        "id": "view-in-github",
        "colab_type": "text"
      },
      "source": [
        "<a href=\"https://colab.research.google.com/github/sebas0907/Python-projects/blob/master/1D_VAE.ipynb\" target=\"_parent\"><img src=\"https://colab.research.google.com/assets/colab-badge.svg\" alt=\"Open In Colab\"/></a>"
      ]
    },
    {
      "cell_type": "code",
      "metadata": {
        "id": "fp1gB2WIIh5T"
      },
      "source": [
        "import os\n",
        "import re\n",
        "import sys\n",
        "import random\n",
        "from itertools import combinations\n",
        "import numpy as np\n",
        "np.set_printoptions(linewidth=10000)\n",
        "import tensorflow as tf \n",
        "import tensorflow.keras as keras\n",
        "import tensorflow_probability as tfp\n",
        "import tensorflow.keras.backend as K\n",
        "import matplotlib.pyplot as plt\n",
        "from sklearn.preprocessing import MinMaxScaler\n",
        "from tensorflow.keras.models import Sequential\n",
        "from tensorflow.keras.preprocessing import sequence\n",
        "from sklearn.model_selection import train_test_split\n",
        "from tensorflow.keras.preprocessing.text import Tokenizer\n",
        "from tensorflow.keras.layers import Dropout, Flatten, Dense, Conv1D, MaxPooling1D, GlobalMaxPooling1D, LeakyReLU, Input, Reshape, Conv1DTranspose, Lambda, Embedding, LSTM, RepeatVector"
      ],
      "execution_count": 2,
      "outputs": []
    },
    {
      "cell_type": "code",
      "metadata": {
        "colab": {
          "base_uri": "https://localhost:8080/"
        },
        "id": "vRzskFvHI5CQ",
        "outputId": "7f87acf9-5d47-47bd-8aca-e43f553982f4"
      },
      "source": [
        "#this line only in colab\r\n",
        "from google.colab import drive\r\n",
        "drive.mount('/content/gdrive/')"
      ],
      "execution_count": 1,
      "outputs": [
        {
          "output_type": "stream",
          "text": [
            "Mounted at /content/gdrive/\n"
          ],
          "name": "stdout"
        }
      ]
    },
    {
      "cell_type": "code",
      "metadata": {
        "id": "G8StSyg5z8wj"
      },
      "source": [
        "# Load the TensorBoard notebook extension\r\n",
        "%load_ext tensorboard"
      ],
      "execution_count": null,
      "outputs": []
    },
    {
      "cell_type": "markdown",
      "metadata": {
        "id": "ILOSxcolIh5u"
      },
      "source": [
        "# Loading and preprocessing the dataset"
      ]
    },
    {
      "cell_type": "code",
      "metadata": {
        "id": "mrJklbgMIh5w"
      },
      "source": [
        "folder = os.getcwd()\r\n",
        "#folder = os.getcwd()+'/gdrive/MyDrive/'"
      ],
      "execution_count": 4,
      "outputs": []
    },
    {
      "cell_type": "code",
      "metadata": {
        "colab": {
          "base_uri": "https://localhost:8080/"
        },
        "id": "fBBkvzhqIh5x",
        "outputId": "f0cb800d-bae7-4af2-b012-825c48163121"
      },
      "source": [
        "print(os.listdir(folder))"
      ],
      "execution_count": 5,
      "outputs": [
        {
          "output_type": "stream",
          "text": [
            "['.config', 'yahoo.txt', 'gdrive', 'sample_data']\n"
          ],
          "name": "stdout"
        }
      ]
    },
    {
      "cell_type": "code",
      "metadata": {
        "id": "FaoJtpAbIh51"
      },
      "source": [
        "file = 'yahoo.txt'"
      ],
      "execution_count": 10,
      "outputs": []
    },
    {
      "cell_type": "code",
      "metadata": {
        "id": "ud-bTKO0Ih53"
      },
      "source": [
        "text = open(os.path.join(folder,file), errors='ignore', encoding='utf-8').read().lower()\n",
        "text = text.split() #this makes sure to pick up the words\n",
        "text = ' '.join(text) #this takes all the letters without the separators"
      ],
      "execution_count": 11,
      "outputs": []
    },
    {
      "cell_type": "code",
      "metadata": {
        "colab": {
          "base_uri": "https://localhost:8080/"
        },
        "id": "ZI0sYrRGSipo",
        "outputId": "f110757a-3c20-4487-83cb-7fb15c7ad243"
      },
      "source": [
        "print(text[-100:])"
      ],
      "execution_count": 12,
      "outputs": [
        {
          "output_type": "stream",
          "text": [
            "ra24 blu-fire leeonna7211 partys56 wegotmoney$ elro1014 a$$c0n wow777iee mustacchi 123321qq asdf1234\n"
          ],
          "name": "stdout"
        }
      ]
    },
    {
      "cell_type": "code",
      "metadata": {
        "colab": {
          "base_uri": "https://localhost:8080/"
        },
        "id": "mUp9sH4jsOtN",
        "outputId": "80da4d7e-b710-4bf9-9a32-f6fea58f572f"
      },
      "source": [
        "len(text.split())"
      ],
      "execution_count": 164,
      "outputs": [
        {
          "output_type": "execute_result",
          "data": {
            "text/plain": [
              "443017"
            ]
          },
          "metadata": {
            "tags": []
          },
          "execution_count": 164
        }
      ]
    },
    {
      "cell_type": "markdown",
      "metadata": {
        "id": "6KPOtF-7Ih54"
      },
      "source": [
        "## Encoding the characters:"
      ]
    },
    {
      "cell_type": "code",
      "metadata": {
        "colab": {
          "base_uri": "https://localhost:8080/"
        },
        "id": "zHCaDacLIh54",
        "outputId": "7848995e-7a65-4644-b42f-a089b5f9aabb"
      },
      "source": [
        " #number of distinct characters:\n",
        "chars = sorted(list(set(text))) #takes the whole characters as a set where no duplicates are allowed\n",
        "vocab_size = len(chars)\n",
        "print('Number of unique characters: ', vocab_size)"
      ],
      "execution_count": 13,
      "outputs": [
        {
          "output_type": "stream",
          "text": [
            "Number of unique characters:  73\n"
          ],
          "name": "stdout"
        }
      ]
    },
    {
      "cell_type": "code",
      "metadata": {
        "id": "j-w_RdNWIh56"
      },
      "source": [
        "#dictionary to match unique charaters with their index:\r\n",
        "char_indices = {char:chars.index(char) for char in chars}"
      ],
      "execution_count": 14,
      "outputs": []
    },
    {
      "cell_type": "code",
      "metadata": {
        "colab": {
          "base_uri": "https://localhost:8080/"
        },
        "id": "jIQeMmsfIh57",
        "outputId": "8bd74751-db07-4fbd-9b39-629f4e041bac"
      },
      "source": [
        "char_array = np.array(chars)\n",
        "print(char_array)"
      ],
      "execution_count": 15,
      "outputs": [
        {
          "output_type": "stream",
          "text": [
            "[' ' '!' '#' '$' '%' '&' '(' ')' '*' '+' ',' '-' '.' '/' '0' '1' '2' '3'\n",
            " '4' '5' '6' '7' '8' '9' ':' ';' '=' '?' '@' '[' '\\\\' ']' '^' '_' '`' 'a'\n",
            " 'b' 'c' 'd' 'e' 'f' 'g' 'h' 'i' 'j' 'k' 'l' 'm' 'n' 'o' 'p' 'q' 'r' 's'\n",
            " 't' 'u' 'v' 'w' 'x' 'y' 'z' '{' '|' '}' '~' '¦' '±' '´' 'ç' 'ü' 'č' 'ł'\n",
            " 'ń']\n"
          ],
          "name": "stdout"
        }
      ]
    },
    {
      "cell_type": "code",
      "metadata": {
        "colab": {
          "base_uri": "https://localhost:8080/"
        },
        "id": "_p_34KwNIh59",
        "outputId": "3d7ecd55-0de4-4165-d49c-47223879ef5b"
      },
      "source": [
        "chars_encoded = np.array([char_indices[ch] for ch in char_array], dtype='int32')\n",
        "print(chars_encoded)"
      ],
      "execution_count": 16,
      "outputs": [
        {
          "output_type": "stream",
          "text": [
            "[ 0  1  2  3  4  5  6  7  8  9 10 11 12 13 14 15 16 17 18 19 20 21 22 23\n",
            " 24 25 26 27 28 29 30 31 32 33 34 35 36 37 38 39 40 41 42 43 44 45 46 47\n",
            " 48 49 50 51 52 53 54 55 56 57 58 59 60 61 62 63 64 65 66 67 68 69 70 71\n",
            " 72]\n"
          ],
          "name": "stdout"
        }
      ]
    },
    {
      "cell_type": "code",
      "metadata": {
        "id": "3Pq5reorIh5-"
      },
      "source": [
        "#dictionary that matches indices with their characters:\r\n",
        "indices_char = {idx: chars[idx] for idx in chars_encoded}"
      ],
      "execution_count": 17,
      "outputs": []
    },
    {
      "cell_type": "code",
      "metadata": {
        "id": "ZIXMaZswIh5_"
      },
      "source": [
        "#encoding of the whole text:\n",
        "text_encoded = np.array([char_indices[ch] for ch in text], dtype='int32')"
      ],
      "execution_count": 18,
      "outputs": []
    },
    {
      "cell_type": "code",
      "metadata": {
        "colab": {
          "base_uri": "https://localhost:8080/"
        },
        "id": "HXuMrMOJQMSB",
        "outputId": "5c61ae95-5418-49ab-84f2-cc78e9e918af"
      },
      "source": [
        "#search iteratively for different characters to be split e.g. @fl!pm0de = @ fl ! pm 0 de\r\n",
        "seqs = ' '.join(re.split('(\\d+)',text))\r\n",
        "seqs = ' '.join(re.split('(\\@)',seqs))\r\n",
        "seqs = ' '.join(re.split('(\\!)',seqs))\r\n",
        "word_list = seqs.split()\r\n",
        "print(word_list[:20])"
      ],
      "execution_count": 19,
      "outputs": [
        {
          "output_type": "stream",
          "text": [
            "['@', 'fl', '!', 'pm', '0', 'de', '@', 'pass', 'steveol', 'chotzi', 'lb', '2512', 'scotch', 'passwerd', 'flipmode', 'flipmode', 'alden', '2', 'salmon', 'tagoogle']\n"
          ],
          "name": "stdout"
        }
      ]
    },
    {
      "cell_type": "code",
      "metadata": {
        "colab": {
          "base_uri": "https://localhost:8080/"
        },
        "id": "pnFNquP06okv",
        "outputId": "87e9df14-9e08-49aa-b1b9-12fb5a13ef32"
      },
      "source": [
        "# Most popular sequences:\n",
        "word_counter = {}\n",
        "for word in word_list:\n",
        "  if word in word_counter:\n",
        "    word_counter[word] += 1\n",
        "  else:\n",
        "    word_counter[word] = 1\n",
        "popular_words = sorted(word_counter, key = word_counter.get, reverse = True)\n",
        "top_30k = popular_words[:30000]\n",
        "#random.shuffle(top_30k) #(optional)\n",
        "print(top_30k[:30])"
      ],
      "execution_count": 20,
      "outputs": [
        {
          "output_type": "stream",
          "text": [
            "['1', '2', '123', '3', '4', '7', '0', '12', '5', '8', '!', '9', '6', '11', 'a', '@', '01', '13', '22', '23', '123456', '1234', 'm', '21', '10', 'b', '99', 'r', '69', 'd']\n"
          ],
          "name": "stdout"
        }
      ]
    },
    {
      "cell_type": "code",
      "metadata": {
        "id": "gjuaNHQMIh5_"
      },
      "source": [
        "#encoding the characters of all the popular password sequences:\n",
        "sequences = []\n",
        "for word in top_30k:#text.split():\n",
        "    sequences.append([char_indices[ch] for ch in word])"
      ],
      "execution_count": 21,
      "outputs": []
    },
    {
      "cell_type": "code",
      "metadata": {
        "id": "cq1j2-NVIh6A"
      },
      "source": [
        "# padding sequences:\n",
        "padded = sequence.pad_sequences(sequences)"
      ],
      "execution_count": 22,
      "outputs": []
    },
    {
      "cell_type": "code",
      "metadata": {
        "colab": {
          "base_uri": "https://localhost:8080/"
        },
        "id": "tPxpX_sLIh6B",
        "outputId": "09c6808c-dea4-4a67-8b4f-b6112f5ac88d"
      },
      "source": [
        "max_len = len(padded[0])\r\n",
        "print('lenght of sequences:', max_len)"
      ],
      "execution_count": 23,
      "outputs": [
        {
          "output_type": "stream",
          "text": [
            "lenght of sequences: 20\n"
          ],
          "name": "stdout"
        }
      ]
    },
    {
      "cell_type": "code",
      "metadata": {
        "colab": {
          "base_uri": "https://localhost:8080/"
        },
        "id": "w2QoYRizu3y8",
        "outputId": "f8d2863c-2c57-4756-b5bb-60aa25df3845"
      },
      "source": [
        "print('Number of sequences:',len(sequences))"
      ],
      "execution_count": 24,
      "outputs": [
        {
          "output_type": "stream",
          "text": [
            "Number of sequences: 30000\n"
          ],
          "name": "stdout"
        }
      ]
    },
    {
      "cell_type": "code",
      "metadata": {
        "colab": {
          "base_uri": "https://localhost:8080/"
        },
        "id": "MvwX2DKXIh6C",
        "outputId": "4c9c2a79-9a4f-41f3-b367-aa2a5a61ecb4"
      },
      "source": [
        "#finally the encoded passwords are given as an array of integers:\n",
        "pass_encoded = np.array(padded, dtype='int32')\n",
        "print(pass_encoded[-10:])"
      ],
      "execution_count": 25,
      "outputs": [
        {
          "output_type": "stream",
          "text": [
            "[[ 0  0  0  0  0  0  0  0  0  0  0  0  0  0  0  0  0 54 43 54]\n",
            " [ 0  0  0  0  0  0  0  0  0  0  0  0  0 53 44 49 36 53 49 48]\n",
            " [ 0  0  0  0  0  0  0  0  0  0  0  0  0  0 42 35 54 37 35 54]\n",
            " [ 0  0  0  0  0  0  0  0  0  0 53 45 35 54 39 49 52 38 43 39]\n",
            " [ 0  0  0  0  0  0  0  0  0  0  0  0 36 43 41 36 55 36 36 35]\n",
            " [ 0  0  0  0  0  0  0  0 54 42 35 48 45 53 41 43 56 43 48 41]\n",
            " [ 0  0  0  0  0  0  0  0  0  0  0  0  0  0 53 54 35 48 41 53]\n",
            " [ 0  0  0  0  0  0  0  0  0  0  0  0  0  0  0  0 15 18 22 16]\n",
            " [ 0  0  0  0  0  0  0  0  0  0  0  0  0 38 43 53 50 46 35 59]\n",
            " [ 0  0  0  0  0  0  0  0  0  0  0  0  0  0  0 15 14 14 17 17]]\n"
          ],
          "name": "stdout"
        }
      ]
    },
    {
      "cell_type": "markdown",
      "metadata": {
        "id": "5p-Sr-03Ih6D"
      },
      "source": [
        "## Definition of the training variables:"
      ]
    },
    {
      "cell_type": "code",
      "metadata": {
        "id": "q2jkWrNSIh6D"
      },
      "source": [
        "#normalized sequences:\n",
        "X = pass_encoded.astype('float32')"
      ],
      "execution_count": null,
      "outputs": []
    },
    {
      "cell_type": "code",
      "metadata": {
        "colab": {
          "base_uri": "https://localhost:8080/"
        },
        "id": "gqf8dI_kfhId",
        "outputId": "cd174ccf-797e-453c-834a-c511fa37a9ff"
      },
      "source": [
        "print(X[0])"
      ],
      "execution_count": null,
      "outputs": [
        {
          "output_type": "stream",
          "text": [
            "[ 0.  0.  0.  0.  0.  0.  0.  0.  0.  0.  0.  0.  0.  0. 44. 55. 48. 43.\n",
            " 49. 52.]\n"
          ],
          "name": "stdout"
        }
      ]
    },
    {
      "cell_type": "code",
      "metadata": {
        "id": "10NqDNkC4X-F"
      },
      "source": [
        "#training variables\r\n",
        "X_train, X_test = train_test_split(X, test_size=0.2, shuffle=True, random_state=42)"
      ],
      "execution_count": null,
      "outputs": []
    },
    {
      "cell_type": "code",
      "metadata": {
        "colab": {
          "base_uri": "https://localhost:8080/"
        },
        "id": "P-oleQS1Ih6E",
        "outputId": "ec54c049-959a-4933-95fd-79bcc52d5f7e"
      },
      "source": [
        "print(X_train.shape, X_test.shape)"
      ],
      "execution_count": null,
      "outputs": [
        {
          "output_type": "stream",
          "text": [
            "(24000, 20) (6000, 20)\n"
          ],
          "name": "stdout"
        }
      ]
    },
    {
      "cell_type": "code",
      "metadata": {
        "id": "cb0JhaGzWafK"
      },
      "source": [
        "y_train, y_test = X_train.reshape((X_train.shape[0], X_train.shape[1],1)), X_test.reshape((X_test.shape[0], X_test.shape[1],1))"
      ],
      "execution_count": null,
      "outputs": []
    },
    {
      "cell_type": "code",
      "metadata": {
        "colab": {
          "base_uri": "https://localhost:8080/"
        },
        "id": "HWWh0atAW7-F",
        "outputId": "9b5aff20-1bc7-4fa1-f549-474d33b012b4"
      },
      "source": [
        "print(y_train.shape, y_test.shape)"
      ],
      "execution_count": null,
      "outputs": [
        {
          "output_type": "stream",
          "text": [
            "(24000, 20, 1) (6000, 20, 1)\n"
          ],
          "name": "stdout"
        }
      ]
    },
    {
      "cell_type": "code",
      "metadata": {
        "colab": {
          "base_uri": "https://localhost:8080/"
        },
        "id": "uzTzDctcyYIn",
        "outputId": "ad2c7a26-58cf-4400-93a0-872c7e57e64a"
      },
      "source": [
        "print(X_train[0])"
      ],
      "execution_count": null,
      "outputs": [
        {
          "output_type": "stream",
          "text": [
            "[ 0.  0.  0.  0.  0.  0.  0.  0.  0.  0.  0.  0.  0.  0.  0. 21. 16. 15.\n",
            " 21. 15.]\n"
          ],
          "name": "stdout"
        }
      ]
    },
    {
      "cell_type": "markdown",
      "metadata": {
        "id": "HTQeDhtFyenh"
      },
      "source": [
        "##Model Training\r\n"
      ]
    },
    {
      "cell_type": "code",
      "metadata": {
        "id": "A1geCVfrObNJ"
      },
      "source": [
        "K.clear_session()"
      ],
      "execution_count": 110,
      "outputs": []
    },
    {
      "cell_type": "code",
      "metadata": {
        "id": "imlfOimEIh6H"
      },
      "source": [
        "#construction of the latent space from a Gaussian Distribution:\n",
        "def sampling(args):\n",
        "    z_mean, z_log_var = args\n",
        "    epsilon = K.random_normal(tf.shape(z_log_var))\n",
        "    return z_mean + epsilon*K.exp(z_log_var/2)"
      ],
      "execution_count": 111,
      "outputs": []
    },
    {
      "cell_type": "code",
      "metadata": {
        "colab": {
          "base_uri": "https://localhost:8080/"
        },
        "id": "ZxVIQ-LXDIjZ",
        "outputId": "b61f33d6-c8d1-4f2a-efc3-92ab25922c7b"
      },
      "source": [
        "latent_size = 2\r\n",
        "#latent_size=16 #is the optimum\r\n",
        "encoder_inputs = Input(shape=(X_train.shape[1],1), name='Input')\r\n",
        "x = keras.layers.LSTM(16, return_sequences=True)(encoder_inputs)\r\n",
        "x = Conv1D(16, 3, activation='relu', padding='causal', dilation_rate=1)(x)\r\n",
        "x = LeakyReLU()(x)\r\n",
        "x = keras.layers.BatchNormalization()(x)\r\n",
        "x = Conv1D(32, 3, activation='relu', padding='causal', dilation_rate=2, use_bias=False)(x) \r\n",
        "x = LeakyReLU()(x)\r\n",
        "x = keras.layers.BatchNormalization()(x)\r\n",
        "x = Conv1D(64, 3, activation='relu', padding='causal', dilation_rate=4, use_bias=False)(x)\r\n",
        "x = LeakyReLU()(x)\r\n",
        "x = keras.layers.BatchNormalization()(x)\r\n",
        "x = Conv1D(128, 3, activation='relu', padding='causal', dilation_rate=8, use_bias=False)(x)\r\n",
        "x = LeakyReLU()(x)\r\n",
        "x = keras.layers.BatchNormalization()(x)\r\n",
        "x = Conv1D(256, 3, activation='relu', padding='causal', dilation_rate=16, use_bias=False)(x)\r\n",
        "x = LeakyReLU()(x)\r\n",
        "x = keras.layers.BatchNormalization()(x)\r\n",
        "x = Flatten()(x)\r\n",
        "x = Dense(2*latent_size, use_bias=False)(x)\r\n",
        "x = LeakyReLU()(x)\r\n",
        "x = keras.layers.BatchNormalization()(x)\r\n",
        "z_mean = Dense(latent_size, name='Mean', use_bias=False)(x)\r\n",
        "z_log_var = Dense(latent_size, name='Variance', use_bias=False)(x)\r\n",
        "z = Lambda(sampling, name='z')([z_mean, z_log_var])\r\n",
        "encoder = keras.Model(inputs=encoder_inputs, outputs=z, name='Encoder')\r\n",
        "encoder.summary()"
      ],
      "execution_count": 112,
      "outputs": [
        {
          "output_type": "stream",
          "text": [
            "Model: \"Encoder\"\n",
            "__________________________________________________________________________________________________\n",
            "Layer (type)                    Output Shape         Param #     Connected to                     \n",
            "==================================================================================================\n",
            "Input (InputLayer)              [(None, 18, 1)]      0                                            \n",
            "__________________________________________________________________________________________________\n",
            "lstm (LSTM)                     (None, 18, 16)       1152        Input[0][0]                      \n",
            "__________________________________________________________________________________________________\n",
            "conv1d (Conv1D)                 (None, 18, 16)       784         lstm[0][0]                       \n",
            "__________________________________________________________________________________________________\n",
            "leaky_re_lu (LeakyReLU)         (None, 18, 16)       0           conv1d[0][0]                     \n",
            "__________________________________________________________________________________________________\n",
            "batch_normalization (BatchNorma (None, 18, 16)       64          leaky_re_lu[0][0]                \n",
            "__________________________________________________________________________________________________\n",
            "conv1d_1 (Conv1D)               (None, 18, 32)       1536        batch_normalization[0][0]        \n",
            "__________________________________________________________________________________________________\n",
            "leaky_re_lu_1 (LeakyReLU)       (None, 18, 32)       0           conv1d_1[0][0]                   \n",
            "__________________________________________________________________________________________________\n",
            "batch_normalization_1 (BatchNor (None, 18, 32)       128         leaky_re_lu_1[0][0]              \n",
            "__________________________________________________________________________________________________\n",
            "conv1d_2 (Conv1D)               (None, 18, 64)       6144        batch_normalization_1[0][0]      \n",
            "__________________________________________________________________________________________________\n",
            "leaky_re_lu_2 (LeakyReLU)       (None, 18, 64)       0           conv1d_2[0][0]                   \n",
            "__________________________________________________________________________________________________\n",
            "batch_normalization_2 (BatchNor (None, 18, 64)       256         leaky_re_lu_2[0][0]              \n",
            "__________________________________________________________________________________________________\n",
            "conv1d_3 (Conv1D)               (None, 18, 128)      24576       batch_normalization_2[0][0]      \n",
            "__________________________________________________________________________________________________\n",
            "leaky_re_lu_3 (LeakyReLU)       (None, 18, 128)      0           conv1d_3[0][0]                   \n",
            "__________________________________________________________________________________________________\n",
            "batch_normalization_3 (BatchNor (None, 18, 128)      512         leaky_re_lu_3[0][0]              \n",
            "__________________________________________________________________________________________________\n",
            "conv1d_4 (Conv1D)               (None, 18, 256)      98304       batch_normalization_3[0][0]      \n",
            "__________________________________________________________________________________________________\n",
            "leaky_re_lu_4 (LeakyReLU)       (None, 18, 256)      0           conv1d_4[0][0]                   \n",
            "__________________________________________________________________________________________________\n",
            "batch_normalization_4 (BatchNor (None, 18, 256)      1024        leaky_re_lu_4[0][0]              \n",
            "__________________________________________________________________________________________________\n",
            "flatten (Flatten)               (None, 4608)         0           batch_normalization_4[0][0]      \n",
            "__________________________________________________________________________________________________\n",
            "dense (Dense)                   (None, 4)            18432       flatten[0][0]                    \n",
            "__________________________________________________________________________________________________\n",
            "leaky_re_lu_5 (LeakyReLU)       (None, 4)            0           dense[0][0]                      \n",
            "__________________________________________________________________________________________________\n",
            "batch_normalization_5 (BatchNor (None, 4)            16          leaky_re_lu_5[0][0]              \n",
            "__________________________________________________________________________________________________\n",
            "Mean (Dense)                    (None, 2)            8           batch_normalization_5[0][0]      \n",
            "__________________________________________________________________________________________________\n",
            "Variance (Dense)                (None, 2)            8           batch_normalization_5[0][0]      \n",
            "__________________________________________________________________________________________________\n",
            "z (Lambda)                      (None, 2)            0           Mean[0][0]                       \n",
            "                                                                 Variance[0][0]                   \n",
            "==================================================================================================\n",
            "Total params: 152,944\n",
            "Trainable params: 151,944\n",
            "Non-trainable params: 1,000\n",
            "__________________________________________________________________________________________________\n"
          ],
          "name": "stdout"
        }
      ]
    },
    {
      "cell_type": "code",
      "metadata": {
        "colab": {
          "base_uri": "https://localhost:8080/"
        },
        "id": "0G_J2j3dD-0m",
        "outputId": "caaea24b-7490-4847-d38c-7ccb47778d25"
      },
      "source": [
        "decoder_inputs = Input(shape=(latent_size,), name='Input')\r\n",
        "x = Dense(X_train.shape[1]*2*128)(decoder_inputs)\r\n",
        "x = LeakyReLU()(x)\r\n",
        "x = keras.layers.BatchNormalization()(x)\r\n",
        "x = Reshape((X_train.shape[1],2*128))(x)\r\n",
        "x = Conv1DTranspose(filters=256, kernel_size=3, padding='same', use_bias=False)(x)\r\n",
        "x = LeakyReLU()(x)\r\n",
        "x = keras.layers.BatchNormalization()(x)\r\n",
        "x = Conv1DTranspose(filters=128, kernel_size=3, padding='same', use_bias=False)(x)\r\n",
        "x = LeakyReLU()(x)\r\n",
        "x = keras.layers.BatchNormalization()(x)\r\n",
        "x = Conv1DTranspose(filters=64, kernel_size=3, padding='same', use_bias=False)(x)\r\n",
        "x = LeakyReLU()(x)\r\n",
        "x = keras.layers.BatchNormalization()(x)\r\n",
        "x = Conv1DTranspose(filters=32, kernel_size=3, padding='same', use_bias=False)(x)\r\n",
        "x = LeakyReLU()(x)\r\n",
        "x = keras.layers.BatchNormalization()(x)\r\n",
        "x = Conv1DTranspose(filters=16, kernel_size=3, padding='same', use_bias=False)(x)\r\n",
        "x = LeakyReLU()(x)\r\n",
        "x = keras.layers.BatchNormalization()(x)\r\n",
        "x = keras.layers.LSTM(16, return_sequences=True)(x)\r\n",
        "x = keras.layers.TimeDistributed(Dense(1), name='Output')(x) \r\n",
        "decoder = keras.Model(inputs=decoder_inputs, outputs=x, name='Decoder')\r\n",
        "decoder.summary()"
      ],
      "execution_count": 113,
      "outputs": [
        {
          "output_type": "stream",
          "text": [
            "Model: \"Decoder\"\n",
            "_________________________________________________________________\n",
            "Layer (type)                 Output Shape              Param #   \n",
            "=================================================================\n",
            "Input (InputLayer)           [(None, 2)]               0         \n",
            "_________________________________________________________________\n",
            "dense_1 (Dense)              (None, 4608)              13824     \n",
            "_________________________________________________________________\n",
            "leaky_re_lu_6 (LeakyReLU)    (None, 4608)              0         \n",
            "_________________________________________________________________\n",
            "batch_normalization_6 (Batch (None, 4608)              18432     \n",
            "_________________________________________________________________\n",
            "reshape (Reshape)            (None, 18, 256)           0         \n",
            "_________________________________________________________________\n",
            "conv1d_transpose (Conv1DTran (None, 18, 256)           196608    \n",
            "_________________________________________________________________\n",
            "leaky_re_lu_7 (LeakyReLU)    (None, 18, 256)           0         \n",
            "_________________________________________________________________\n",
            "batch_normalization_7 (Batch (None, 18, 256)           1024      \n",
            "_________________________________________________________________\n",
            "conv1d_transpose_1 (Conv1DTr (None, 18, 128)           98304     \n",
            "_________________________________________________________________\n",
            "leaky_re_lu_8 (LeakyReLU)    (None, 18, 128)           0         \n",
            "_________________________________________________________________\n",
            "batch_normalization_8 (Batch (None, 18, 128)           512       \n",
            "_________________________________________________________________\n",
            "conv1d_transpose_2 (Conv1DTr (None, 18, 64)            24576     \n",
            "_________________________________________________________________\n",
            "leaky_re_lu_9 (LeakyReLU)    (None, 18, 64)            0         \n",
            "_________________________________________________________________\n",
            "batch_normalization_9 (Batch (None, 18, 64)            256       \n",
            "_________________________________________________________________\n",
            "conv1d_transpose_3 (Conv1DTr (None, 18, 32)            6144      \n",
            "_________________________________________________________________\n",
            "leaky_re_lu_10 (LeakyReLU)   (None, 18, 32)            0         \n",
            "_________________________________________________________________\n",
            "batch_normalization_10 (Batc (None, 18, 32)            128       \n",
            "_________________________________________________________________\n",
            "conv1d_transpose_4 (Conv1DTr (None, 18, 16)            1536      \n",
            "_________________________________________________________________\n",
            "leaky_re_lu_11 (LeakyReLU)   (None, 18, 16)            0         \n",
            "_________________________________________________________________\n",
            "batch_normalization_11 (Batc (None, 18, 16)            64        \n",
            "_________________________________________________________________\n",
            "lstm_1 (LSTM)                (None, 18, 16)            2112      \n",
            "_________________________________________________________________\n",
            "Output (TimeDistributed)     (None, 18, 1)             17        \n",
            "=================================================================\n",
            "Total params: 363,537\n",
            "Trainable params: 353,329\n",
            "Non-trainable params: 10,208\n",
            "_________________________________________________________________\n"
          ],
          "name": "stdout"
        }
      ]
    },
    {
      "cell_type": "code",
      "metadata": {
        "colab": {
          "base_uri": "https://localhost:8080/"
        },
        "id": "qcUmmX71Ih6M",
        "outputId": "dd5d888d-0759-4161-d9d4-d38e7a21c34b"
      },
      "source": [
        "codings=encoder(encoder_inputs)\r\n",
        "reconstructions=decoder(codings)\r\n",
        "#Bottleneck of size 16 with input lenght 20\r\n",
        "vae=keras.Model(inputs=encoder_inputs, outputs=reconstructions, name='VAE')\r\n",
        "vae.summary()"
      ],
      "execution_count": 114,
      "outputs": [
        {
          "output_type": "stream",
          "text": [
            "Model: \"VAE\"\n",
            "_________________________________________________________________\n",
            "Layer (type)                 Output Shape              Param #   \n",
            "=================================================================\n",
            "Input (InputLayer)           [(None, 18, 1)]           0         \n",
            "_________________________________________________________________\n",
            "Encoder (Functional)         (None, 2)                 152944    \n",
            "_________________________________________________________________\n",
            "Decoder (Functional)         (None, 18, 1)             363537    \n",
            "=================================================================\n",
            "Total params: 516,481\n",
            "Trainable params: 505,273\n",
            "Non-trainable params: 11,208\n",
            "_________________________________________________________________\n"
          ],
          "name": "stdout"
        }
      ]
    },
    {
      "cell_type": "code",
      "metadata": {
        "id": "bfzUju6qWg7D"
      },
      "source": [
        "#Cost annealing strategy:\r\n",
        "class AnnealingCallback(keras.callbacks.Callback):\r\n",
        "    def __init__(self, weight = tf.keras.backend.variable(0.0), start=0, time=100):\r\n",
        "        self.weight = weight\r\n",
        "        self.start = start\r\n",
        "        self.time = time\r\n",
        "    def on_epoch_end (self, epoch, logs={}):\r\n",
        "        if epoch > self.start :\r\n",
        "            new_weight = min(tf.keras.backend.get_value(self.weight) + (1./ self.time), 1.)\r\n",
        "            tf.keras.backend.set_value(self.weight, new_weight)\r\n",
        "        print(\"Current beta: \" + str(tf.keras.backend.get_value(self.weight)))\r\n",
        "\r\n",
        "AC = AnnealingCallback()\r\n",
        "beta = AC.weight"
      ],
      "execution_count": 115,
      "outputs": []
    },
    {
      "cell_type": "code",
      "metadata": {
        "id": "ZSe1VvtgIh6O"
      },
      "source": [
        "#KL-divergence:\r\n",
        "vae_loss = -0.5*beta*K.sum(1 + z_log_var - K.exp(z_log_var) - K.square(z_mean), axis=-1)"
      ],
      "execution_count": 116,
      "outputs": []
    },
    {
      "cell_type": "code",
      "metadata": {
        "id": "JuyAMuV0DLon"
      },
      "source": [
        "#Mean-Squared and Mean-Absolute Errors:\r\n",
        "MAE = tf.squeeze(K.sum(abs(vae.input-vae.output), axis=1),1)\r\n",
        "MSE=tf.squeeze(K.sum(K.square(vae.input-vae.output),axis=1),1)"
      ],
      "execution_count": 117,
      "outputs": []
    },
    {
      "cell_type": "code",
      "metadata": {
        "id": "3KDvTBxiEjpW"
      },
      "source": [
        "#ELBO = Reconstruction loss + KL-divergence:\r\n",
        "#ELBO=K.mean(vae_loss+X_train.shape[1]*MSE)\r\n",
        "ELBO=K.mean(vae_loss+MSE)"
      ],
      "execution_count": 118,
      "outputs": []
    },
    {
      "cell_type": "code",
      "metadata": {
        "id": "AL83-chFEvlE"
      },
      "source": [
        "vae.add_metric(ELBO, name='ELBO')"
      ],
      "execution_count": 119,
      "outputs": []
    },
    {
      "cell_type": "code",
      "metadata": {
        "id": "M7gOsHoXXt81"
      },
      "source": [
        "#opt = keras.optimizers.SGD(learning_rate=1e-8, momentum=0.9)\r\n",
        "opt = keras.optimizers.Adam(clipnorm=0.1)\r\n",
        "#loss = keras.losses.MeanAbsoluteError()\r\n",
        "loss = keras.losses.MeanSquaredError()"
      ],
      "execution_count": 120,
      "outputs": []
    },
    {
      "cell_type": "code",
      "metadata": {
        "id": "jhFiGPDnnTTk"
      },
      "source": [
        "#Best reconstruction loss (MSE) so far is achieved when the KL divergence is divided by 2000 and a GRU/LSTM layer is included.\r\n",
        "#The optimization is Adam with default learning rate \r\n",
        "vae.add_loss(K.mean(vae_loss)) #--> KL_loss/original_dims *10\r\n",
        "#vae.add_metric(vae_loss, name='KL')"
      ],
      "execution_count": 121,
      "outputs": []
    },
    {
      "cell_type": "code",
      "metadata": {
        "id": "Q581s81pnrD8"
      },
      "source": [
        "vae.compile(loss=loss, optimizer=opt)"
      ],
      "execution_count": 122,
      "outputs": []
    },
    {
      "cell_type": "code",
      "metadata": {
        "id": "Gw1teHn1vdT7"
      },
      "source": [
        "#Callbacks list (Tensorboard can be included too!):\r\n",
        "#log_dir = \"logs/fit/\"\r\n",
        "lr_schedule = tf.keras.callbacks.LearningRateScheduler(lambda epoch: 1e-4 * 10**(epoch / 20))\r\n",
        "LR = tf.keras.callbacks.ReduceLROnPlateau(monitor='val_ELBO', factor=0.1, patience=5)\r\n",
        "ES = tf.keras.callbacks.EarlyStopping(monitor='ELBO', patience=4)\r\n",
        "#TB = tf.keras.callbacks.TensorBoard(log_dir=log_dir,histogram_freq=1)\r\n",
        "callbacks_list = [LR, ES, AC]"
      ],
      "execution_count": 123,
      "outputs": []
    },
    {
      "cell_type": "code",
      "metadata": {
        "colab": {
          "base_uri": "https://localhost:8080/"
        },
        "id": "J10rjFhAIh6P",
        "outputId": "33bf0d72-bb19-4755-9655-8da6d93b2079"
      },
      "source": [
        "#Train for approximately 150 epochs for best results\r\n",
        "#the bigger the dataset the better the results\r\n",
        "history = vae.fit(y_train, y_train, validation_data=(y_test, y_test), epochs=150, shuffle=True, batch_size=256, callbacks=callbacks_list)"
      ],
      "execution_count": null,
      "outputs": [
        {
          "output_type": "stream",
          "text": [
            "Epoch 1/150\n",
            "94/94 [==============================] - 13s 50ms/step - loss: 453.5761 - ELBO: 8478.3076 - val_loss: 396.3964 - val_ELBO: 7928.9043\n",
            "Current beta is 0.0\n",
            "Epoch 2/150\n",
            "94/94 [==============================] - 3s 35ms/step - loss: 378.6448 - ELBO: 7410.3657 - val_loss: 383.8811 - val_ELBO: 7679.2251\n",
            "Current beta is 0.01\n",
            "Epoch 3/150\n",
            "94/94 [==============================] - 3s 35ms/step - loss: 345.6195 - ELBO: 6783.3569 - val_loss: 323.2213 - val_ELBO: 6465.0391\n",
            "Current beta is 0.02\n",
            "Epoch 4/150\n",
            "94/94 [==============================] - 3s 36ms/step - loss: 315.8923 - ELBO: 6212.0532 - val_loss: 295.5254 - val_ELBO: 5911.1348\n",
            "Current beta is 0.03\n",
            "Epoch 5/150\n",
            "94/94 [==============================] - 3s 36ms/step - loss: 289.4270 - ELBO: 5670.4175 - val_loss: 269.2894 - val_ELBO: 5386.3667\n",
            "Current beta is 0.04\n",
            "Epoch 6/150\n",
            "94/94 [==============================] - 3s 37ms/step - loss: 263.8263 - ELBO: 5157.6118 - val_loss: 244.5314 - val_ELBO: 4891.1548\n",
            "Current beta is 0.05\n",
            "Epoch 7/150\n",
            "94/94 [==============================] - 3s 35ms/step - loss: 238.6011 - ELBO: 4673.6401 - val_loss: 222.1139 - val_ELBO: 4442.9468\n",
            "Current beta is 0.060000002\n",
            "Epoch 8/150\n",
            "94/94 [==============================] - 3s 36ms/step - loss: 216.1435 - ELBO: 4219.5947 - val_loss: 199.4170 - val_ELBO: 3988.7754\n",
            "Current beta is 0.07\n",
            "Epoch 9/150\n",
            "94/94 [==============================] - 3s 36ms/step - loss: 195.2524 - ELBO: 3793.7473 - val_loss: 178.8255 - val_ELBO: 3576.8909\n",
            "Current beta is 0.08\n",
            "Epoch 10/150\n",
            "94/94 [==============================] - 3s 35ms/step - loss: 173.4876 - ELBO: 3396.4971 - val_loss: 160.5173 - val_ELBO: 3210.3757\n",
            "Current beta is 0.089999996\n",
            "Epoch 11/150\n",
            "94/94 [==============================] - 3s 36ms/step - loss: 155.6835 - ELBO: 3018.3059 - val_loss: 143.1818 - val_ELBO: 2863.6072\n",
            "Current beta is 0.099999994\n",
            "Epoch 12/150\n",
            "94/94 [==============================] - 3s 36ms/step - loss: 136.9612 - ELBO: 2663.1184 - val_loss: 125.4420 - val_ELBO: 2509.3030\n",
            "Current beta is 0.10999999\n",
            "Epoch 13/150\n",
            "94/94 [==============================] - 3s 36ms/step - loss: 120.7761 - ELBO: 2335.3499 - val_loss: 109.3624 - val_ELBO: 2187.3394\n",
            "Current beta is 0.11999999\n",
            "Epoch 14/150\n",
            "94/94 [==============================] - 3s 36ms/step - loss: 106.0494 - ELBO: 2031.3373 - val_loss: 94.1280 - val_ELBO: 1882.7931\n",
            "Current beta is 0.13\n",
            "Epoch 15/150\n",
            "94/94 [==============================] - 3s 35ms/step - loss: 90.6107 - ELBO: 1751.0557 - val_loss: 81.0265 - val_ELBO: 1620.6968\n",
            "Current beta is 0.14\n",
            "Epoch 16/150\n",
            "94/94 [==============================] - 3s 36ms/step - loss: 77.6767 - ELBO: 1494.6215 - val_loss: 68.8873 - val_ELBO: 1377.9574\n",
            "Current beta is 0.15\n",
            "Epoch 17/150\n",
            "94/94 [==============================] - 3s 36ms/step - loss: 66.1110 - ELBO: 1263.1904 - val_loss: 57.5984 - val_ELBO: 1152.1891\n",
            "Current beta is 0.16000001\n",
            "Epoch 18/150\n",
            "94/94 [==============================] - 3s 36ms/step - loss: 55.8364 - ELBO: 1055.1168 - val_loss: 47.8902 - val_ELBO: 957.9935\n",
            "Current beta is 0.17000002\n",
            "Epoch 19/150\n",
            "94/94 [==============================] - 3s 37ms/step - loss: 45.5613 - ELBO: 870.6002 - val_loss: 39.9308 - val_ELBO: 798.6301\n",
            "Current beta is 0.18000002\n",
            "Epoch 20/150\n",
            "94/94 [==============================] - 3s 37ms/step - loss: 37.0106 - ELBO: 710.0858 - val_loss: 31.9940 - val_ELBO: 640.0530\n",
            "Current beta is 0.19000003\n",
            "Epoch 21/150\n",
            "94/94 [==============================] - 3s 36ms/step - loss: 30.2020 - ELBO: 573.1873 - val_loss: 25.5690 - val_ELBO: 511.5675\n",
            "Current beta is 0.20000003\n",
            "Epoch 22/150\n",
            "94/94 [==============================] - 4s 39ms/step - loss: 24.3036 - ELBO: 459.7247 - val_loss: 21.1115 - val_ELBO: 422.4142\n",
            "Current beta is 0.21000004\n",
            "Epoch 23/150\n",
            "94/94 [==============================] - 3s 37ms/step - loss: 19.6231 - ELBO: 367.1709 - val_loss: 16.3899 - val_ELBO: 328.0387\n",
            "Current beta is 0.22000004\n",
            "Epoch 24/150\n",
            "94/94 [==============================] - 3s 37ms/step - loss: 14.9217 - ELBO: 274.1757 - val_loss: 11.7682 - val_ELBO: 235.4711\n",
            "Current beta is 0.23000005\n",
            "Epoch 25/150\n",
            "94/94 [==============================] - 3s 36ms/step - loss: 10.7775 - ELBO: 197.8127 - val_loss: 10.2543 - val_ELBO: 205.1026\n",
            "Current beta is 0.24000005\n",
            "Epoch 26/150\n",
            "94/94 [==============================] - 3s 36ms/step - loss: 7.7467 - ELBO: 142.6917 - val_loss: 7.0069 - val_ELBO: 140.0877\n",
            "Current beta is 0.25000006\n",
            "Epoch 27/150\n",
            "94/94 [==============================] - 3s 36ms/step - loss: 5.3622 - ELBO: 99.0517 - val_loss: 4.1425 - val_ELBO: 82.9260\n",
            "Current beta is 0.26000005\n",
            "Epoch 28/150\n",
            "94/94 [==============================] - 3s 37ms/step - loss: 3.6498 - ELBO: 65.9369 - val_loss: 2.7758 - val_ELBO: 55.5944\n",
            "Current beta is 0.27000004\n",
            "Epoch 29/150\n",
            "94/94 [==============================] - 3s 36ms/step - loss: 2.3719 - ELBO: 42.8230 - val_loss: 1.9562 - val_ELBO: 39.1616\n",
            "Current beta is 0.28000003\n",
            "Epoch 30/150\n",
            "94/94 [==============================] - 3s 36ms/step - loss: 1.5115 - ELBO: 27.4364 - val_loss: 1.2551 - val_ELBO: 25.1405\n",
            "Current beta is 0.29000002\n",
            "Epoch 31/150\n",
            "94/94 [==============================] - 3s 37ms/step - loss: 0.9727 - ELBO: 18.2027 - val_loss: 0.8879 - val_ELBO: 17.7723\n",
            "Current beta is 0.3\n",
            "Epoch 32/150\n",
            "94/94 [==============================] - 3s 37ms/step - loss: 0.6872 - ELBO: 12.8062 - val_loss: 2.3035 - val_ELBO: 46.0996\n",
            "Current beta is 0.31\n",
            "Epoch 33/150\n",
            "94/94 [==============================] - 3s 36ms/step - loss: 0.5245 - ELBO: 9.8231 - val_loss: 0.9122 - val_ELBO: 18.2493\n",
            "Current beta is 0.32\n",
            "Epoch 34/150\n",
            "94/94 [==============================] - 3s 36ms/step - loss: 0.4419 - ELBO: 8.4814 - val_loss: 0.6243 - val_ELBO: 12.4798\n",
            "Current beta is 0.32999998\n",
            "Epoch 35/150\n",
            "94/94 [==============================] - 3s 36ms/step - loss: 0.3706 - ELBO: 6.6451 - val_loss: 0.6830 - val_ELBO: 13.6655\n",
            "Current beta is 0.33999997\n",
            "Epoch 36/150\n",
            "94/94 [==============================] - 4s 37ms/step - loss: 0.2966 - ELBO: 5.6329 - val_loss: 1.3442 - val_ELBO: 26.8949\n",
            "Current beta is 0.34999996\n",
            "Epoch 37/150\n",
            "94/94 [==============================] - 3s 37ms/step - loss: 0.2796 - ELBO: 5.1866 - val_loss: 0.5566 - val_ELBO: 11.1168\n",
            "Current beta is 0.35999995\n",
            "Epoch 38/150\n",
            "94/94 [==============================] - 4s 38ms/step - loss: 0.2667 - ELBO: 4.8441 - val_loss: 2.5737 - val_ELBO: 51.4850\n",
            "Current beta is 0.36999995\n",
            "Epoch 39/150\n",
            "94/94 [==============================] - 3s 36ms/step - loss: 0.2189 - ELBO: 4.4663 - val_loss: 1.4495 - val_ELBO: 28.9529\n",
            "Current beta is 0.37999994\n",
            "Epoch 40/150\n",
            "94/94 [==============================] - 3s 37ms/step - loss: 0.2058 - ELBO: 3.9631 - val_loss: 0.8888 - val_ELBO: 17.7690\n",
            "Current beta is 0.38999993\n",
            "Epoch 41/150\n",
            "94/94 [==============================] - 3s 37ms/step - loss: 0.1775 - ELBO: 3.7667 - val_loss: 0.3751 - val_ELBO: 7.4814\n",
            "Current beta is 0.39999992\n",
            "Epoch 42/150\n",
            "94/94 [==============================] - 3s 37ms/step - loss: 0.1930 - ELBO: 3.7300 - val_loss: 0.2511 - val_ELBO: 5.0173\n",
            "Current beta is 0.4099999\n",
            "Epoch 43/150\n",
            "94/94 [==============================] - 3s 37ms/step - loss: 0.2042 - ELBO: 3.8284 - val_loss: 0.5213 - val_ELBO: 10.4095\n",
            "Current beta is 0.4199999\n",
            "Epoch 44/150\n",
            "94/94 [==============================] - 4s 38ms/step - loss: 0.1969 - ELBO: 3.9688 - val_loss: 0.4098 - val_ELBO: 8.1862\n",
            "Current beta is 0.4299999\n",
            "Epoch 45/150\n",
            "94/94 [==============================] - 3s 37ms/step - loss: 0.1882 - ELBO: 3.6635 - val_loss: 0.7707 - val_ELBO: 15.3956\n",
            "Current beta is 0.43999988\n",
            "Epoch 46/150\n",
            "94/94 [==============================] - 3s 37ms/step - loss: 0.1729 - ELBO: 3.4259 - val_loss: 0.6922 - val_ELBO: 13.8182\n",
            "Current beta is 0.44999987\n",
            "Epoch 47/150\n",
            "94/94 [==============================] - 3s 37ms/step - loss: 0.1777 - ELBO: 3.2871 - val_loss: 0.3774 - val_ELBO: 7.5382\n",
            "Current beta is 0.45999986\n",
            "Epoch 48/150\n",
            "94/94 [==============================] - 4s 37ms/step - loss: 0.1319 - ELBO: 2.3382 - val_loss: 0.0710 - val_ELBO: 1.4114\n",
            "Current beta is 0.46999985\n",
            "Epoch 49/150\n",
            "94/94 [==============================] - 3s 37ms/step - loss: 0.1058 - ELBO: 2.1131 - val_loss: 0.0762 - val_ELBO: 1.5170\n",
            "Current beta is 0.47999984\n",
            "Epoch 50/150\n",
            "94/94 [==============================] - 3s 37ms/step - loss: 0.1146 - ELBO: 2.2627 - val_loss: 0.0794 - val_ELBO: 1.5830\n",
            "Current beta is 0.48999983\n",
            "Epoch 51/150\n",
            "94/94 [==============================] - 3s 37ms/step - loss: 0.1001 - ELBO: 2.0621 - val_loss: 0.0644 - val_ELBO: 1.2855\n",
            "Current beta is 0.49999982\n",
            "Epoch 52/150\n",
            "94/94 [==============================] - 3s 36ms/step - loss: 0.0996 - ELBO: 2.0403 - val_loss: 0.0548 - val_ELBO: 1.0919\n",
            "Current beta is 0.5099998\n",
            "Epoch 53/150\n",
            "94/94 [==============================] - 3s 36ms/step - loss: 0.0946 - ELBO: 1.9523 - val_loss: 0.0710 - val_ELBO: 1.4165\n",
            "Current beta is 0.5199998\n",
            "Epoch 54/150\n",
            "94/94 [==============================] - 3s 36ms/step - loss: 0.0989 - ELBO: 2.0090 - val_loss: 0.0475 - val_ELBO: 0.9476\n",
            "Current beta is 0.5299998\n",
            "Epoch 55/150\n",
            "94/94 [==============================] - 3s 36ms/step - loss: 0.1012 - ELBO: 2.0665 - val_loss: 0.0559 - val_ELBO: 1.1145\n",
            "Current beta is 0.5399998\n",
            "Epoch 56/150\n",
            "94/94 [==============================] - 3s 37ms/step - loss: 0.0950 - ELBO: 1.9498 - val_loss: 0.0444 - val_ELBO: 0.8851\n",
            "Current beta is 0.5499998\n",
            "Epoch 57/150\n",
            "94/94 [==============================] - 3s 37ms/step - loss: 0.1010 - ELBO: 1.9045 - val_loss: 0.0491 - val_ELBO: 0.9786\n",
            "Current beta is 0.55999976\n",
            "Epoch 58/150\n",
            "94/94 [==============================] - 3s 37ms/step - loss: 0.1030 - ELBO: 1.9900 - val_loss: 0.2124 - val_ELBO: 4.2445\n",
            "Current beta is 0.56999975\n",
            "Epoch 59/150\n",
            "94/94 [==============================] - 4s 37ms/step - loss: 0.1086 - ELBO: 2.1170 - val_loss: 0.0968 - val_ELBO: 1.9315\n",
            "Current beta is 0.57999974\n",
            "Epoch 60/150\n",
            "94/94 [==============================] - 3s 37ms/step - loss: 0.0951 - ELBO: 1.9167 - val_loss: 0.0894 - val_ELBO: 1.7858\n",
            "Current beta is 0.58999974\n",
            "Epoch 61/150\n",
            "94/94 [==============================] - 3s 37ms/step - loss: 0.0959 - ELBO: 1.9834 - val_loss: 0.0377 - val_ELBO: 0.7524\n",
            "Current beta is 0.5999997\n"
          ],
          "name": "stdout"
        }
      ]
    },
    {
      "cell_type": "code",
      "metadata": {
        "id": "7Gw7x25DFyiI"
      },
      "source": [
        "#From here one can select the optimal learning rate:\r\n",
        "plt.semilogx(history.history['lr'], history.history['loss'])\r\n",
        "plt.axis([1e-8, 1e-1, 0, 600])"
      ],
      "execution_count": null,
      "outputs": []
    },
    {
      "cell_type": "code",
      "metadata": {
        "id": "e93WZ2oV1-cE"
      },
      "source": [
        "%tensorboard --logdir logs/fit"
      ],
      "execution_count": null,
      "outputs": []
    },
    {
      "cell_type": "code",
      "metadata": {
        "id": "FenfnNXX5sNj"
      },
      "source": [
        "from keras.utils import plot_model\r\n",
        "plot_model(model=encoder, show_shapes=True, show_layer_names=False,to_file='Encoder.png')"
      ],
      "execution_count": null,
      "outputs": []
    },
    {
      "cell_type": "code",
      "metadata": {
        "colab": {
          "base_uri": "https://localhost:8080/"
        },
        "id": "Ag2WcScAN55t",
        "outputId": "e088de33-827c-499f-8855-ea93c565454c"
      },
      "source": [
        "score = vae.evaluate(y_test,y_test)"
      ],
      "execution_count": null,
      "outputs": [
        {
          "output_type": "stream",
          "text": [
            "188/188 [==============================] - 1s 7ms/step - loss: 0.0378 - ELBO: 0.7554\n"
          ],
          "name": "stdout"
        }
      ]
    },
    {
      "cell_type": "code",
      "metadata": {
        "colab": {
          "base_uri": "https://localhost:8080/",
          "height": 295
        },
        "id": "C3sqDqt68xCc",
        "outputId": "b8e4e08e-5018-4662-b02f-1b6d4afef4c6"
      },
      "source": [
        "plt.plot(history.history['loss'])\r\n",
        "plt.plot(history.history['val_loss'])\r\n",
        "plt.title('Reconstruction loss')\r\n",
        "plt.ylabel('MSE')\r\n",
        "plt.xlabel('epoch')\r\n",
        "plt.legend(['train', 'validation'], loc='upper left')\r\n",
        "plt.show()"
      ],
      "execution_count": null,
      "outputs": [
        {
          "output_type": "display_data",
          "data": {
            "image/png": "[encoded data removed]",
            "text/plain": [
              "<Figure size 432x288 with 1 Axes>"
            ]
          },
          "metadata": {
            "tags": [],
            "needs_background": "light"
          }
        }
      ]
    },
    {
      "cell_type": "code",
      "metadata": {
        "colab": {
          "base_uri": "https://localhost:8080/",
          "height": 295
        },
        "id": "yBUvERuXTQgO",
        "outputId": "fb978f3e-a288-4f76-a62a-b77211d1c119"
      },
      "source": [
        "plt.plot(history.history['ELBO'])\r\n",
        "plt.plot(history.history['val_ELBO'])\r\n",
        "plt.title('ELBO')\r\n",
        "plt.ylabel('ELBO')\r\n",
        "plt.xlabel('epoch')\r\n",
        "plt.legend(['train', 'validation'], loc='upper left')\r\n",
        "plt.show()"
      ],
      "execution_count": null,
      "outputs": [
        {
          "output_type": "display_data",
          "data": {
            "image/png": "[encoded data removed]",
            "text/plain": [
              "<Figure size 432x288 with 1 Axes>"
            ]
          },
          "metadata": {
            "tags": [],
            "needs_background": "light"
          }
        }
      ]
    },
    {
      "cell_type": "code",
      "metadata": {
        "id": "caK_ZN6IIh6Q"
      },
      "source": [
        "example = tf.random.normal(shape=(10,latent_size))"
      ],
      "execution_count": null,
      "outputs": []
    },
    {
      "cell_type": "code",
      "metadata": {
        "colab": {
          "base_uri": "https://localhost:8080/"
        },
        "id": "NjFBCFRth7Xx",
        "outputId": "1bb5ab45-adaf-4a6f-a210-aade202a140b"
      },
      "source": [
        "#preds = sc.inverse_transform(tf.squeeze(vae.predict(ys_test)).numpy()).astype('int32')\r\n",
        "preds = np.round(tf.squeeze(vae.predict(y_test)).numpy()).astype('int32')\r\n",
        "print(preds[:10])"
      ],
      "execution_count": null,
      "outputs": [
        {
          "output_type": "stream",
          "text": [
            "[[ 0  0  0  0  0  0  0  0  0  0  0 40 49 52 47 59 45 43 38 53]\n",
            " [ 0  0  0  0  0  0  0  0  0  0  0  0  0  0  0 46 55 56 43 53]\n",
            " [ 0  0  0  0  0  0  0  0  0  0  0  0  0  0  0  0  0 35 40 45]\n",
            " [ 0  0  0  0  0  0  0  0  0  0  0  0  0  0  0  0  0 18 14 18]\n",
            " [ 0  0  0  0  0  0  0  0  0  0  0  0  0 53 48 49 49 41 43 39]\n",
            " [ 0  0  0  0  0  0  0  0  0  0  0  0  0  0  0  0 22 20 23 20]\n",
            " [ 0  0  0  0  0  0  0  0  0  0  0  0  0  0  0  0  0 23 21 21]\n",
            " [ 0  0  0  0  0  0  0  0  0  0  0  0  0  0  0  0 19 19 17 18]\n",
            " [ 0  0  0  0  0  0  0  0  0  0  0  0 37 35 54 46 49 55 39 52]\n",
            " [ 0  0  0  0  0  0  0  0  0  0  0  0  0 21 16 21 15 22 18 20]]\n"
          ],
          "name": "stdout"
        }
      ]
    },
    {
      "cell_type": "code",
      "metadata": {
        "colab": {
          "base_uri": "https://localhost:8080/"
        },
        "id": "mrK-KiZ9iSXT",
        "outputId": "f9bd6ede-cb34-4e11-91f7-54ae3ecec62d"
      },
      "source": [
        "print(X_test[:10].astype('int32'))"
      ],
      "execution_count": null,
      "outputs": [
        {
          "output_type": "stream",
          "text": [
            "[[ 0  0  0  0  0  0  0  0  0  0  0 40 49 52 47 59 45 43 38 53]\n",
            " [ 0  0  0  0  0  0  0  0  0  0  0  0  0  0  0 46 55 56 43 53]\n",
            " [ 0  0  0  0  0  0  0  0  0  0  0  0  0  0  0  0  0 35 40 45]\n",
            " [ 0  0  0  0  0  0  0  0  0  0  0  0  0  0  0  0  0 18 14 18]\n",
            " [ 0  0  0  0  0  0  0  0  0  0  0  0  0 53 48 49 49 41 43 39]\n",
            " [ 0  0  0  0  0  0  0  0  0  0  0  0  0  0  0  0 22 20 23 20]\n",
            " [ 0  0  0  0  0  0  0  0  0  0  0  0  0  0  0  0  0 23 21 21]\n",
            " [ 0  0  0  0  0  0  0  0  0  0  0  0  0  0  0  0 19 19 17 18]\n",
            " [ 0  0  0  0  0  0  0  0  0  0  0  0 37 35 54 46 49 56 39 52]\n",
            " [ 0  0  0  0  0  0  0  0  0  0  0  0  0 21 16 21 15 23 18 20]]\n"
          ],
          "name": "stdout"
        }
      ]
    },
    {
      "cell_type": "code",
      "metadata": {
        "colab": {
          "base_uri": "https://localhost:8080/"
        },
        "id": "Ro4oHMCxQHSq",
        "outputId": "ef25d77d-0a58-42d8-f8a1-3497b59dbb15"
      },
      "source": [
        "print(np.abs(tf.squeeze(decoder(example)).numpy()).astype('int32'))"
      ],
      "execution_count": null,
      "outputs": [
        {
          "output_type": "stream",
          "text": [
            "[[ 2  3  7 13 23 37 39 42 38 38 40 34 35 44 42 45 45 42 43 47]\n",
            " [ 3  6 14 26 35 37 38 36 39 52 34 41 38 46 43 49 41 44 44 43]\n",
            " [ 2  3  7 11 19 27 28 28 25 24 28 30 30 34 35 38 35 41 43 36]\n",
            " [ 1  2  3  5  7  6  3  1  0  0  0  0  0  2  9  4  2 41 44 45]\n",
            " [ 1  1  2  2  2  1  1  1  1  2  0 34 39 49 49 52 44 47 50 47]\n",
            " [ 0  0  0  0  1  2  3  2  2 12 12 35 39 49 45 52 40 47 48 48]\n",
            " [ 1  1  2  2  2  2  5 31 39 39 43 44 36 29 48 50 50 51 48 46]\n",
            " [ 0  0  0  0  0  0  0  0  1  0 13  9  1 37 48 44 50 46 48 45]\n",
            " [ 1  2  3  7 13 19 29 27 27 32 28 40 37 25 46 44 42 44 49 44]\n",
            " [ 2  3  7 13 23 30 34 33 30 35 31 33 33 33 43 44 38 46 45 41]]\n"
          ],
          "name": "stdout"
        }
      ]
    },
    {
      "cell_type": "code",
      "metadata": {
        "id": "ZxNByfMzPxl3"
      },
      "source": [
        "def samples2text(samples):\r\n",
        "  result = tf.squeeze(decoder(samples))\r\n",
        "  result_encoded=np.abs(result.numpy()).astype('int32')\r\n",
        "\r\n",
        "  passwords = []\r\n",
        "  for word in result_encoded:\r\n",
        "    passwords.append([indices_char[idx] for idx in word])\r\n",
        "    passworten = [''.join(code).strip() for code in passwords]\r\n",
        "\r\n",
        "  return passworten"
      ],
      "execution_count": null,
      "outputs": []
    },
    {
      "cell_type": "code",
      "metadata": {
        "id": "8uPOCFVGbSqW"
      },
      "source": [
        "def seqs2text(arr):\r\n",
        "\r\n",
        "  passwords = []\r\n",
        "  for word in arr:\r\n",
        "    passwords.append([indices_char[idx] for idx in word])\r\n",
        "    passworten = [''.join(code).strip() for code in passwords]\r\n",
        "\r\n",
        "  return passworten"
      ],
      "execution_count": null,
      "outputs": []
    },
    {
      "cell_type": "code",
      "metadata": {
        "colab": {
          "base_uri": "https://localhost:8080/"
        },
        "id": "JEQhAcUhIh6U",
        "outputId": "ba05328d-880c-425e-dafa-687882b2ef96"
      },
      "source": [
        "print(samples2text(example))"
      ],
      "execution_count": null,
      "outputs": [
        {
          "output_type": "stream",
          "text": [
            "['#$)/9cehddf`ajhkkhim', '$(0=acdber`gdliogjji', '#$)-5?@@;:@\\\\\\\\`adagib', '!#$&)($!     #+%#gjk', '!!###!!!!# `eoorjmpm', '!#$##..aeokrfmnn', '!!####&]eeijb[nppqnl', '! /+!cnjplnk', '!#$)/5[??^@fc;ljhjoj', '#$)/9\\\\`_\\\\a]___ijdlkg']\n"
          ],
          "name": "stdout"
        }
      ]
    },
    {
      "cell_type": "code",
      "metadata": {
        "colab": {
          "base_uri": "https://localhost:8080/"
        },
        "id": "nHefvS1-Ih6V",
        "outputId": "6ad8bd28-7dc1-480c-b4b0-bdc37dd6ac4d"
      },
      "source": [
        "vae.save('1d_vae.h5',overwrite=True)"
      ],
      "execution_count": null,
      "outputs": [
        {
          "output_type": "stream",
          "text": [
            "WARNING:tensorflow:Found duplicated `Variable`s in Model's `weights`. This is usually caused by `Variable`s being shared by Layers in the Model. These `Variable`s will be treated as separate `Variable`s when the Model is restored. To avoid this, please save with `save_format=\"tf\"`.\n"
          ],
          "name": "stdout"
        }
      ]
    },
    {
      "cell_type": "code",
      "metadata": {
        "colab": {
          "base_uri": "https://localhost:8080/"
        },
        "id": "NuD5q9HQKMXB",
        "outputId": "e87da271-c529-416c-cec7-0e7a3666a495"
      },
      "source": [
        "print(np.abs(preds[:10]))"
      ],
      "execution_count": null,
      "outputs": [
        {
          "output_type": "stream",
          "text": [
            "[[ 0  0  0  0  0  0  0  0  0  0  0 40 49 52 47 59 45 43 38 53]\n",
            " [ 0  0  0  0  0  0  0  0  0  0  0  0  0  0  0 46 55 56 43 53]\n",
            " [ 0  0  0  0  0  0  0  0  0  0  0  0  0  0  0  0  0 35 40 45]\n",
            " [ 0  0  0  0  0  0  0  0  0  0  0  0  0  0  0  0  0 18 14 18]\n",
            " [ 0  0  0  0  0  0  0  0  0  0  0  0  0 53 48 49 49 41 43 39]\n",
            " [ 0  0  0  0  0  0  0  0  0  0  0  0  0  0  0  0 22 20 23 20]\n",
            " [ 0  0  0  0  0  0  0  0  0  0  0  0  0  0  0  0  0 23 21 21]\n",
            " [ 0  0  0  0  0  0  0  0  0  0  0  0  0  0  0  0 19 19 17 18]\n",
            " [ 0  0  0  0  0  0  0  0  0  0  0  0 37 35 54 46 49 55 39 52]\n",
            " [ 0  0  0  0  0  0  0  0  0  0  0  0  0 21 16 21 15 22 18 20]]\n"
          ],
          "name": "stdout"
        }
      ]
    },
    {
      "cell_type": "code",
      "metadata": {
        "colab": {
          "base_uri": "https://localhost:8080/"
        },
        "id": "SOWUwrrhKSVM",
        "outputId": "6b117820-3903-48ed-c48a-436ec31188bb"
      },
      "source": [
        "print(X_test[:10].astype('int32'))"
      ],
      "execution_count": null,
      "outputs": [
        {
          "output_type": "stream",
          "text": [
            "[[ 0  0  0  0  0  0  0  0  0  0  0 40 49 52 47 59 45 43 38 53]\n",
            " [ 0  0  0  0  0  0  0  0  0  0  0  0  0  0  0 46 55 56 43 53]\n",
            " [ 0  0  0  0  0  0  0  0  0  0  0  0  0  0  0  0  0 35 40 45]\n",
            " [ 0  0  0  0  0  0  0  0  0  0  0  0  0  0  0  0  0 18 14 18]\n",
            " [ 0  0  0  0  0  0  0  0  0  0  0  0  0 53 48 49 49 41 43 39]\n",
            " [ 0  0  0  0  0  0  0  0  0  0  0  0  0  0  0  0 22 20 23 20]\n",
            " [ 0  0  0  0  0  0  0  0  0  0  0  0  0  0  0  0  0 23 21 21]\n",
            " [ 0  0  0  0  0  0  0  0  0  0  0  0  0  0  0  0 19 19 17 18]\n",
            " [ 0  0  0  0  0  0  0  0  0  0  0  0 37 35 54 46 49 56 39 52]\n",
            " [ 0  0  0  0  0  0  0  0  0  0  0  0  0 21 16 21 15 23 18 20]]\n"
          ],
          "name": "stdout"
        }
      ]
    },
    {
      "cell_type": "code",
      "metadata": {
        "colab": {
          "base_uri": "https://localhost:8080/"
        },
        "id": "9pB943VOskq9",
        "outputId": "ae9d2dc6-d15a-4de9-de99-081d90faf297"
      },
      "source": [
        "seqs2text(np.abs(preds[-30:]))"
      ],
      "execution_count": null,
      "outputs": [
        {
          "output_type": "execute_result",
          "data": {
            "text/plain": [
              "['linked',\n",
              " '#xinn',\n",
              " 'gunbound',\n",
              " 'mamie',\n",
              " 'heyhey',\n",
              " 'reeree',\n",
              " 'dayday',\n",
              " 'chinna',\n",
              " 'sabbath',\n",
              " 'tunes',\n",
              " 'court',\n",
              " '!vb',\n",
              " 'josi',\n",
              " 'joeblow',\n",
              " 'mara',\n",
              " 'richa',\n",
              " '2322',\n",
              " 'bso',\n",
              " 'montero',\n",
              " '9600',\n",
              " '185',\n",
              " '1395',\n",
              " 'eer',\n",
              " 'eph',\n",
              " '#wakiya',\n",
              " 'hms',\n",
              " 'swati',\n",
              " '666899',\n",
              " 'life',\n",
              " 'lilica']"
            ]
          },
          "metadata": {
            "tags": []
          },
          "execution_count": 262
        }
      ]
    },
    {
      "cell_type": "code",
      "metadata": {
        "colab": {
          "base_uri": "https://localhost:8080/"
        },
        "id": "i_o1hqy1sq1B",
        "outputId": "7b478dd3-9efd-45ca-bfee-a1fac5c5eeb1"
      },
      "source": [
        "seqs2text(X_test[-30:])"
      ],
      "execution_count": null,
      "outputs": [
        {
          "output_type": "execute_result",
          "data": {
            "text/plain": [
              "['linked',\n",
              " 'zinn',\n",
              " 'gunbound',\n",
              " 'mamie',\n",
              " 'heyhey',\n",
              " 'reeree',\n",
              " 'dayday',\n",
              " 'chinna',\n",
              " 'sabbath',\n",
              " 'tunes',\n",
              " 'court',\n",
              " 'vb',\n",
              " 'josi',\n",
              " 'joeblow',\n",
              " 'mara',\n",
              " 'richa',\n",
              " '2322',\n",
              " 'aso',\n",
              " 'montero',\n",
              " '9600',\n",
              " '185',\n",
              " '1395',\n",
              " 'eer',\n",
              " 'eph',\n",
              " 'zakiya',\n",
              " 'hms',\n",
              " 'swati',\n",
              " '666999',\n",
              " 'life',\n",
              " 'lilica']"
            ]
          },
          "metadata": {
            "tags": []
          },
          "execution_count": 253
        }
      ]
    },
    {
      "cell_type": "markdown",
      "metadata": {
        "id": "4nMHETIAWTuc"
      },
      "source": [
        "#Generating sequences at word level:\n",
        "Instead of a character based approach, here we take all of the popular sequences as plain text and divide it into equal length chunks. Thus the vocabulary here is composed of the 30k different popular sequences (words)."
      ]
    },
    {
      "cell_type": "code",
      "metadata": {
        "id": "4Di9CjLLan2a"
      },
      "source": [
        "#Plain text:\n",
        "# Here we make sure to shuffle the entire set of popular sequences \n",
        "top_shuffle = top_30k.copy()\n",
        "#top_shuffle = popular_words.copy()\n",
        "#random.shuffle(top_shuffle)\n",
        "plain_list = ' '.join(top_shuffle)"
      ],
      "execution_count": 129,
      "outputs": []
    },
    {
      "cell_type": "code",
      "metadata": {
        "colab": {
          "base_uri": "https://localhost:8080/"
        },
        "id": "ou4FXXJqkrVf",
        "outputId": "1afa2043-44f6-48ac-94e4-0f5375db14f7"
      },
      "source": [
        "print(plain_list[:200])"
      ],
      "execution_count": 130,
      "outputs": [
        {
          "output_type": "stream",
          "text": [
            "1 2 123 3 4 7 0 12 5 8 ! 9 6 11 a @ 01 13 22 23 123456 1234 m 21 10 b 99 r 69 d n s 08 09 77 00 t 33 88 07 24 w password c p 19 14 j 17 k 55 e l 18 25 g h 15 06 16 2008 u 05 2009 20 27 x ac 03 q 44 12\n"
          ],
          "name": "stdout"
        }
      ]
    },
    {
      "cell_type": "code",
      "metadata": {
        "colab": {
          "base_uri": "https://localhost:8080/"
        },
        "id": "zaIgKoqWf8sE",
        "outputId": "1431689e-86ca-40bc-cb33-91a3f3d46c43"
      },
      "source": [
        "print('lenght of the list:',len(plain_list))"
      ],
      "execution_count": 131,
      "outputs": [
        {
          "output_type": "stream",
          "text": [
            "lenght of the list: 198364\n"
          ],
          "name": "stdout"
        }
      ]
    },
    {
      "cell_type": "code",
      "metadata": {
        "id": "0Ullh0y5Wgxs"
      },
      "source": [
        "# split text into sentences:\n",
        "def text_split(text, length):\n",
        "    sentence = []\n",
        "    last = 0.0\n",
        "    while last < len(text):\n",
        "        sentence.append(text[int(last):int(last + length)])\n",
        "        last += length\n",
        "    return sentence"
      ],
      "execution_count": 132,
      "outputs": []
    },
    {
      "cell_type": "code",
      "metadata": {
        "colab": {
          "base_uri": "https://localhost:8080/"
        },
        "id": "_wScjTT5an2b",
        "outputId": "7c354456-c89f-4f74-b86c-4b612edda57b"
      },
      "source": [
        "# generate equal-length sentences\n",
        "sentences = text_split(plain_list, 40)\n",
        "print('Number of sentences: ',len(sentences))"
      ],
      "execution_count": 133,
      "outputs": [
        {
          "output_type": "stream",
          "text": [
            "Number of sentences:  4960\n"
          ],
          "name": "stdout"
        }
      ]
    },
    {
      "cell_type": "code",
      "metadata": {
        "id": "k36OSArhan2c"
      },
      "source": [
        "# fit the tokenizer on the sentences\n",
        "t = Tokenizer(oov_token='<OOV>',filters=',\"')\n",
        "t.fit_on_texts(sentences)"
      ],
      "execution_count": 134,
      "outputs": []
    },
    {
      "cell_type": "code",
      "metadata": {
        "id": "Lq_Qkhrean2c"
      },
      "source": [
        "# transforming the sentences to numerical tokens\r\n",
        "sequences = t.texts_to_sequences(sentences)"
      ],
      "execution_count": 135,
      "outputs": []
    },
    {
      "cell_type": "code",
      "metadata": {
        "colab": {
          "base_uri": "https://localhost:8080/"
        },
        "id": "ykrgy9NOZrEN",
        "outputId": "8682972f-121c-46f4-96a4-a1760fd295a7"
      },
      "source": [
        "len(sequences)"
      ],
      "execution_count": 136,
      "outputs": [
        {
          "output_type": "execute_result",
          "data": {
            "text/plain": [
              "4960"
            ]
          },
          "metadata": {
            "tags": []
          },
          "execution_count": 136
        }
      ]
    },
    {
      "cell_type": "code",
      "metadata": {
        "colab": {
          "base_uri": "https://localhost:8080/"
        },
        "id": "sT6ZeD5r2AIi",
        "outputId": "34548fc3-7cb5-4232-c157-293c58976901"
      },
      "source": [
        "print(sentences[0])\r\n",
        "print(sequences[0])"
      ],
      "execution_count": 137,
      "outputs": [
        {
          "output_type": "stream",
          "text": [
            "1 2 123 3 4 7 0 12 5 8 ! 9 6 11 a @ 01 1\n",
            "[11, 17, 581, 18, 22, 23, 19, 46, 24, 28, 1602, 31, 29, 96, 3, 1603, 213, 11]\n"
          ],
          "name": "stdout"
        }
      ]
    },
    {
      "cell_type": "code",
      "metadata": {
        "id": "3TgqJwFJan2d"
      },
      "source": [
        "#padding sequences\n",
        "sequences_array = np.array(sequences, dtype=object)\n",
        "padded_sequences = keras.preprocessing.sequence.pad_sequences(sequences_array)"
      ],
      "execution_count": 138,
      "outputs": []
    },
    {
      "cell_type": "code",
      "metadata": {
        "colab": {
          "base_uri": "https://localhost:8080/"
        },
        "id": "AOftGzW-an2e",
        "outputId": "c9afe824-be1b-4401-d073-d606a30b3ffd"
      },
      "source": [
        "vocab_size = len(t.word_index)\n",
        "print('Size of vocabulary:',vocab_size)"
      ],
      "execution_count": 139,
      "outputs": [
        {
          "output_type": "stream",
          "text": [
            "Size of vocabulary: 28988\n"
          ],
          "name": "stdout"
        }
      ]
    },
    {
      "cell_type": "code",
      "metadata": {
        "colab": {
          "base_uri": "https://localhost:8080/"
        },
        "id": "6A-1-IWMgnqx",
        "outputId": "f6095b0f-95e0-4258-aa55-3355247a558f"
      },
      "source": [
        "print('Lenght of sequences:',len(padded_sequences[100]))"
      ],
      "execution_count": 140,
      "outputs": [
        {
          "output_type": "stream",
          "text": [
            "Lenght of sequences: 18\n"
          ],
          "name": "stdout"
        }
      ]
    },
    {
      "cell_type": "code",
      "metadata": {
        "colab": {
          "base_uri": "https://localhost:8080/"
        },
        "id": "tR7OxbnVlTvZ",
        "outputId": "55be9179-7d2e-47fb-a6d2-c9699e25a9c9"
      },
      "source": [
        "print(padded_sequences[0])"
      ],
      "execution_count": 141,
      "outputs": [
        {
          "output_type": "stream",
          "text": [
            "[  11   17  581   18   22   23   19   46   24   28 1602   31   29   96    3 1603  213   11]\n"
          ],
          "name": "stdout"
        }
      ]
    },
    {
      "cell_type": "code",
      "metadata": {
        "id": "l3ScW0wCwEoU"
      },
      "source": [
        "X = padded_sequences.astype('float32')\r\n",
        "#training variables\r\n",
        "X_train, X_test = train_test_split(X, test_size=0.2, shuffle=True, random_state=42)\r\n",
        "y_train, y_test = X_train.reshape((X_train.shape[0], X_train.shape[1],1)), X_test.reshape((X_test.shape[0], X_test.shape[1],1))\r\n",
        "#This is helpful for word-level encodings:\r\n",
        "sc = MinMaxScaler() #Friendship ended with Standard Scaler now MinMaxScaler is my best friend\r\n",
        "ys_train = sc.fit_transform(X_train).reshape((X_train.shape[0], X_train.shape[1],1))\r\n",
        "ys_test = sc.transform(X_test).reshape((X_test.shape[0], X_test.shape[1],1))"
      ],
      "execution_count": 142,
      "outputs": []
    },
    {
      "cell_type": "code",
      "metadata": {
        "colab": {
          "base_uri": "https://localhost:8080/"
        },
        "id": "LA29oEit3b93",
        "outputId": "0547c0d0-a383-48a7-c3ad-3780cd693716"
      },
      "source": [
        "history2 = vae.fit(ys_train, ys_train, validation_data=(ys_test, ys_test), epochs=100, shuffle=True, batch_size=256, callbacks=callbacks_list)"
      ],
      "execution_count": 144,
      "outputs": [
        {
          "output_type": "stream",
          "text": [
            "Epoch 1/100\n",
            "16/16 [==============================] - 1s 76ms/step - loss: 0.0216 - ELBO: 0.3909 - val_loss: 0.0036 - val_ELBO: 0.0640\n",
            "Current beta: 0.29000002\n",
            "Epoch 2/100\n",
            "16/16 [==============================] - 1s 37ms/step - loss: 0.0203 - ELBO: 0.3684 - val_loss: 0.0054 - val_ELBO: 0.0973\n",
            "Current beta: 0.3\n",
            "Epoch 3/100\n",
            "16/16 [==============================] - 1s 36ms/step - loss: 0.0181 - ELBO: 0.3230 - val_loss: 0.0068 - val_ELBO: 0.1226\n",
            "Current beta: 0.31\n",
            "Epoch 4/100\n",
            "16/16 [==============================] - 1s 34ms/step - loss: 0.0171 - ELBO: 0.3088 - val_loss: 0.0085 - val_ELBO: 0.1534\n",
            "Current beta: 0.32\n",
            "Epoch 5/100\n",
            "16/16 [==============================] - 1s 36ms/step - loss: 0.0176 - ELBO: 0.3162 - val_loss: 0.0097 - val_ELBO: 0.1744\n",
            "Current beta: 0.32999998\n",
            "Epoch 6/100\n",
            "16/16 [==============================] - 1s 35ms/step - loss: 0.0157 - ELBO: 0.2802 - val_loss: 0.0103 - val_ELBO: 0.1855\n",
            "Current beta: 0.33999997\n",
            "Epoch 7/100\n",
            "16/16 [==============================] - 1s 37ms/step - loss: 0.0157 - ELBO: 0.2873 - val_loss: 0.0116 - val_ELBO: 0.2081\n",
            "Current beta: 0.34999996\n",
            "Epoch 8/100\n",
            "16/16 [==============================] - 1s 36ms/step - loss: 0.0151 - ELBO: 0.2735 - val_loss: 0.0121 - val_ELBO: 0.2168\n",
            "Current beta: 0.35999995\n",
            "Epoch 9/100\n",
            "16/16 [==============================] - 1s 36ms/step - loss: 0.0150 - ELBO: 0.2687 - val_loss: 0.0126 - val_ELBO: 0.2261\n",
            "Current beta: 0.36999995\n",
            "Epoch 10/100\n",
            "16/16 [==============================] - 1s 36ms/step - loss: 0.0147 - ELBO: 0.2652 - val_loss: 0.0127 - val_ELBO: 0.2292\n",
            "Current beta: 0.37999994\n",
            "Epoch 11/100\n",
            "16/16 [==============================] - 1s 34ms/step - loss: 0.0150 - ELBO: 0.2713 - val_loss: 0.0132 - val_ELBO: 0.2365\n",
            "Current beta: 0.38999993\n",
            "Epoch 12/100\n",
            "16/16 [==============================] - 1s 35ms/step - loss: 0.0154 - ELBO: 0.2739 - val_loss: 0.0135 - val_ELBO: 0.2423\n",
            "Current beta: 0.39999992\n",
            "Epoch 13/100\n",
            "16/16 [==============================] - 1s 33ms/step - loss: 0.0148 - ELBO: 0.2667 - val_loss: 0.0134 - val_ELBO: 0.2409\n",
            "Current beta: 0.4099999\n",
            "Epoch 14/100\n",
            "16/16 [==============================] - 1s 38ms/step - loss: 0.0153 - ELBO: 0.2756 - val_loss: 0.0133 - val_ELBO: 0.2393\n",
            "Current beta: 0.4199999\n"
          ],
          "name": "stdout"
        }
      ]
    },
    {
      "cell_type": "code",
      "metadata": {
        "id": "QX4V-N2pmeF5"
      },
      "source": [
        "# now we can generate some random samples: \r\n",
        "example = tf.random.normal(shape=(10,latent_size))\r\n",
        "results = np.abs(sc.inverse_transform(tf.squeeze(decoder(example)).numpy()).astype('int32'))"
      ],
      "execution_count": 145,
      "outputs": []
    },
    {
      "cell_type": "code",
      "metadata": {
        "id": "FBjz5YGdp8Gy"
      },
      "source": [
        "rs = t.sequences_to_texts(results)"
      ],
      "execution_count": 146,
      "outputs": []
    },
    {
      "cell_type": "code",
      "metadata": {
        "colab": {
          "base_uri": "https://localhost:8080/"
        },
        "id": "yW1iKRQGz6XD",
        "outputId": "d76b7dc3-dd12-400b-e00e-86203ea1358a"
      },
      "source": [
        "rs"
      ],
      "execution_count": 147,
      "outputs": [
        {
          "output_type": "execute_result",
          "data": {
            "text/plain": [
              "['<OOV> <OOV> <OOV> <OOV> <OOV> s h d <OOV> an mi im et hellos zinger teetee squ myles',\n",
              " '<OOV> <OOV> <OOV> <OOV> <OOV> <OOV> m r s ar my m hot promo colgate edison zachery rockie',\n",
              " '<OOV> <OOV> a <OOV> <OOV> a m c 5 59 che pr sur bigguy 571 1886 seagu dolores',\n",
              " '<OOV> <OOV> <OOV> <OOV> <OOV> c s 0 y ge jo no 197 myles 151515 saab beat lila',\n",
              " '<OOV> <OOV> s <OOV> <OOV> <OOV> r y h pa e y ey 2627 2056 jkljkl readme gohan',\n",
              " '<OOV> <OOV> <OOV> <OOV> <OOV> a <OOV> 2 y ie br 25 501 3778 blaster familia 1092 nonono',\n",
              " '<OOV> <OOV> <OOV> <OOV> <OOV> <OOV> s e <OOV> rd ji mar - asdfjkl 935 hihihi hardrock puppies',\n",
              " '<OOV> <OOV> <OOV> <OOV> <OOV> s e 1 s k x ty tw mako liliana delete contest 695',\n",
              " '<OOV> <OOV> a <OOV> <OOV> <OOV> a s <OOV> si ya da 287 corn hallelu pres flyingbird gateway',\n",
              " '<OOV> <OOV> <OOV> <OOV> <OOV> <OOV> <OOV> c <OOV> t fo god ol gymnast catnip 460 fishy rockie']"
            ]
          },
          "metadata": {
            "tags": []
          },
          "execution_count": 147
        }
      ]
    },
    {
      "cell_type": "code",
      "metadata": {
        "id": "tCcp15ReqfW2"
      },
      "source": [
        "plain_results=' '.join(rs).replace('<OOV>','')"
      ],
      "execution_count": 148,
      "outputs": []
    },
    {
      "cell_type": "code",
      "metadata": {
        "id": "_-blwvrggEb8"
      },
      "source": [
        "clean_results=np.array([w for w in plain_results.split() if len(w)>1])"
      ],
      "execution_count": 149,
      "outputs": []
    },
    {
      "cell_type": "code",
      "metadata": {
        "colab": {
          "base_uri": "https://localhost:8080/"
        },
        "id": "eK6eW5duIibV",
        "outputId": "16822266-d21b-4833-84ef-a0325999766e"
      },
      "source": [
        "print(clean_results)"
      ],
      "execution_count": 150,
      "outputs": [
        {
          "output_type": "stream",
          "text": [
            "['an' 'mi' 'im' 'et' 'hellos' 'zinger' 'teetee' 'squ' 'myles' 'ar' 'my' 'hot' 'promo' 'colgate' 'edison' 'zachery' 'rockie' '59' 'che' 'pr' 'sur' 'bigguy' '571' '1886' 'seagu' 'dolores' 'ge' 'jo' 'no' '197' 'myles' '151515' 'saab' 'beat' 'lila' 'pa' 'ey' '2627' '2056' 'jkljkl' 'readme' 'gohan' 'ie' 'br' '25' '501' '3778' 'blaster' 'familia' '1092' 'nonono' 'rd' 'ji' 'mar' 'asdfjkl' '935' 'hihihi' 'hardrock' 'puppies' 'ty' 'tw' 'mako' 'liliana' 'delete' 'contest' '695' 'si' 'ya' 'da' '287' 'corn' 'hallelu' 'pres' 'flyingbird' 'gateway' 'fo' 'god' 'ol' 'gymnast' 'catnip' '460' 'fishy' 'rockie']\n"
          ],
          "name": "stdout"
        }
      ]
    },
    {
      "cell_type": "code",
      "metadata": {
        "id": "98GDfY-VPg2f"
      },
      "source": [
        "contras=[]\r\n",
        "for i in range(len(clean_results)):\r\n",
        "  contras.append(''.join(list(np.random.choice(clean_results,2)))) "
      ],
      "execution_count": 151,
      "outputs": []
    },
    {
      "cell_type": "code",
      "metadata": {
        "colab": {
          "base_uri": "https://localhost:8080/"
        },
        "id": "h-shEk4GPuQF",
        "outputId": "72a02e3a-52fc-4e62-f37f-e63ae115227f"
      },
      "source": [
        "contras"
      ],
      "execution_count": 152,
      "outputs": [
        {
          "output_type": "execute_result",
          "data": {
            "text/plain": [
              "['asdfjklno',\n",
              " 'imrockie',\n",
              " 'eycolgate',\n",
              " 'mylesie',\n",
              " 'surdolores',\n",
              " 'hotmar',\n",
              " '287hellos',\n",
              " 'saab501',\n",
              " 'flyingbirdey',\n",
              " '262759',\n",
              " 'edisonpuppies',\n",
              " '10923778',\n",
              " '460rd',\n",
              " 'hardrockzachery',\n",
              " 'surim',\n",
              " 'olhellos',\n",
              " 'teetee501',\n",
              " 'zinger571',\n",
              " 'gatewayrockie',\n",
              " 'cornfishy',\n",
              " 'saabji',\n",
              " 'seaguliliana',\n",
              " 'teeteetw',\n",
              " 'rockieda',\n",
              " 'jkljklcatnip',\n",
              " 'etnonono',\n",
              " 'cheche',\n",
              " 'yalila',\n",
              " 'blasterjkljkl',\n",
              " 'rockieie',\n",
              " 'cheda',\n",
              " '571hellos',\n",
              " 'presji',\n",
              " 'mylespr',\n",
              " 'myles2627',\n",
              " '571im',\n",
              " 'catnipsur',\n",
              " 'eyzachery',\n",
              " 'edisonie',\n",
              " '287catnip',\n",
              " 'colgatelila',\n",
              " '935gymnast',\n",
              " 'etpuppies',\n",
              " 'twliliana',\n",
              " 'hallelumyles',\n",
              " 'myleset',\n",
              " 'rockieji',\n",
              " 'gatewayedison',\n",
              " 'catnipda',\n",
              " 'halleluet',\n",
              " 'hihihirockie',\n",
              " 'bigguygohan',\n",
              " '695br',\n",
              " 'imteetee',\n",
              " 'catnipge',\n",
              " 'asdfjklcorn',\n",
              " '935lila',\n",
              " 'joan',\n",
              " '460jkljkl',\n",
              " 'eyasdfjkl',\n",
              " 'asdfjklya',\n",
              " 'zacherybigguy',\n",
              " 'fofamilia',\n",
              " 'jipuppies',\n",
              " '1971886',\n",
              " 'seagudelete',\n",
              " '59ey',\n",
              " 'ancatnip',\n",
              " 'hihihipr',\n",
              " 'saaban',\n",
              " 'blasteredison',\n",
              " 'familiacorn',\n",
              " 'familia2056',\n",
              " '59287',\n",
              " '501seagu',\n",
              " 'teeteemy',\n",
              " 'nohallelu',\n",
              " 'lilache',\n",
              " 'colgatefo',\n",
              " 'tyjkljkl',\n",
              " 'gateway25',\n",
              " 'preshihihi',\n",
              " 'hotmyles']"
            ]
          },
          "metadata": {
            "tags": []
          },
          "execution_count": 152
        }
      ]
    },
    {
      "cell_type": "code",
      "metadata": {
        "id": "tJa_88EYR_J-"
      },
      "source": [
        "#sampling a 2D latent space of size 10x10:\r\n",
        "norm = tfp.distributions.Normal(0, 1)\r\n",
        "grid_x = norm.quantile(np.linspace(0.05, 0.95, 20)).numpy()\r\n",
        "grid_y = norm.quantile(np.linspace(0.05, 0.95, 20)).numpy()\r\n",
        "#z_lat = np.array([ [xi,yi] for xi,yi in zip(grid_x,grid_y)])\r\n",
        "z_lat = []\r\n",
        "for i, yi in enumerate(grid_x):\r\n",
        "    for j, xi in enumerate(grid_y):\r\n",
        "      z_lat.append([xi, yi])\r\n",
        "z_lat = np.array(z_lat)"
      ],
      "execution_count": 153,
      "outputs": []
    },
    {
      "cell_type": "code",
      "metadata": {
        "id": "dJGoQibQTIMm"
      },
      "source": [
        "#generating a list of unique segments from the latent space vectors:\r\n",
        "#to clean the list we must remove the oov characters and take only segments of more than one character\r\n",
        "latent_space = np.abs(sc.inverse_transform(tf.squeeze(decoder(z_lat)).numpy()).astype('int32'))\r\n",
        "latent_space_rs=t.sequences_to_texts(latent_space)\r\n",
        "plain_latent_space =''.join(latent_space_rs).replace('<OOV>','')\r\n",
        "clean_latent=np.array([w for w in plain_latent_space.split()])\r\n",
        "unique_latent = list(np.unique(clean_latent))"
      ],
      "execution_count": 154,
      "outputs": []
    },
    {
      "cell_type": "code",
      "metadata": {
        "colab": {
          "base_uri": "https://localhost:8080/"
        },
        "id": "uH-anJV2Tcf0",
        "outputId": "de9e6ba7-ca73-4c65-8bfb-fcf0215234ae"
      },
      "source": [
        "print(sorted(unique_latent))"
      ],
      "execution_count": 155,
      "outputs": [
        {
          "output_type": "stream",
          "text": [
            "['$$w', '***', '0', '00', '0002', '001', '0011', '0012', '01', '010101', '0107', '0116', '0118', '0122', '0124', '0126', '0127', '013', '019', '0214', '0218', '0224', '023', '025', '0305', '0321', '0324', '0325', '0329', '040', '0413', '0418', '0425', '0428', '0435', '05', '051', '0510', '0511', '0519', '0526', '055', '06', '0608', '061', '0610', '0612', '0616', '0620', '0629', '066', '069', '07', '070', '0701', '0702', '0718', '0721', '08', '0818', '0831', '0835', '09', '0917', '0919', '0920', '1', '10', '100', '102', '1064', '1065', '1069', '1088', '1092', '1093', '1098', '11', '111111', '1118', '112', '1122', '112358', '113', '1141', '1143', '1150', '1154', '1157', '1165', '1172', '1175', '1179', '1180', '1187', '1195', '1198', '12', '121685', '123123', '1232', '123454321', '123456', '123456789', '123465', '123654789', '1247', '1255', '1277', '1287', '1295', '13', '1305', '1311', '131106', '1312', '1318', '1339', '1346', '1357', '135790', '1375', '1401', '1405', '1411', '1431', '1452', '1458', '1459', '1478', '148', '15', '1502', '151', '1521', '1588', '1590', '159159', '159951', '16', '1604', '1607', '1608', '1644', '168888', '17', '170', '1711', '171100', '171171', '1720', '1722', '1729', '1775', '1788', '1789', '18', '1804', '1810', '1882', '1888', '19', '1902', '1905', '1914', '1946', '198', '1990', '2', '20', '202020', '2023', '2090', '2093', '21', '211221', '2116', '212', '2183', '2199', '22', '2201', '2203', '2226', '225', '2268', '2270', '2272', '2278', '23', '2308', '2319', '2329', '2333', '2334', '2344', '2378', '2393', '24', '2402', '2423', '2452', '2483', '25', '2508', '2515', '256', '26', '2607', '2608', '2611', '2623', '27', '2713', '272727', '2728', '276', '279', '28', '2802', '2804', '2809', '2824', '283', '2833422', '2834', '2873', '288', '2890', '29', '290', '2913', '293', '2979', '3', '30', '3012', '3013', '30303030', '305', '3052', '3077', '3085', '3100', '3112', '32', '3200', '32132', '3220', '33', '3309', '3320', '333', '3333', '33333', '33333333', '3366', '34', '341', '345', '3467', '3470', '35', '3598', '36', '3606', '363579', '365', '3687', '369369', '37', '3711', '3733', '374', '3778', '378', '379', '3833', '3883', '3907', '392', '394', '4', '40', '4040', '4050', '41', '4111', '4123', '4130', '42', '4204', '4209', '4211', '4269', '43', '436', '44', '4488', '45', '4507071', '454545', '456', '4566', '45678', '4587', '460', '4664', '47', '471', '4744', '4858', '488', '489', '490', '4949', '496', '4969', '5', '50', '505', '51', '5123', '517', '519077598', '52', '5216', '5235', '5253', '53', '535', '538', '54', '5417', '5446', '5484', '549', '5495', '5500', '553', '5553', '555666', '5578', '5588', '56', '565', '5655', '571', '575', '576', '5775', '58', '580', '5827', '587', '5885', '589', '59', '597', '598', '599', '6', '60', '602', '6102', '618', '63', '635', '64', '644', '646', '66', '662', '6688', '67', '6743119', '676767', '677', '68', '686', '688', '69', '6900', '7', '70', '7002', '704', '71', '719', '72', '723', '7240126', '7273', '73', '7310', '7330', '741852', '741852963', '743', '744', '7476', '748', '75', '7588', '759', '76', '760', '7609', '77', '7734', '77777', '77777777', '7783', '78', '784', '785', '7865', '7867', '7878', '787878', '7972230', '7982', '7984', '7992', '8', '804', '81', '8100', '812', '817', '82', '826', '8287', '8294', '83', '832', '836', '8379', '84', '840', '85', '850', '852456', '853', '858', '8588', '86', '864', '87', '870', '871124', '8783', '879', '88', '8807', '8808', '884', '8869', '88888', '889', '89', '893', '9', '90', '906', '92', '920', '929', '9292', '93', '936', '9393', '949', '956', '959', '961', '964', '968', '97', '972', '975', '979', '98', '9800', '9802', '984', '985', '987', '987599', '98765', '99', '9900', '9903', '991', '994', '9974', '998', '999999999', '_ac', 'a', 'aaaaaa', 'aba', 'abacus', 'abies', 'abra', 'abracadab', 'aby', 'ac', 'acb', 'acdc', 'ack', 'actor', 'ad', 'adb', 'adc', 'addict', 'addie', 'adeade', 'adnama', 'ado', 'adr', 'adrienne', 'ads', 'ae', 'aerae', 'age', 'agustus', 'ahs', 'ai', 'aikido', 'ain', 'ajh', 'akira', 'akisok', 'al', 'alaina', 'albjbjb', 'alh', 'alibaba', 'alissa', 'all', 'allahuakbar', 'allyson', 'althea', 'altima', 'alvarez', 'am', 'ama', 'aman', 'amarillo', 'amber', 'ambers', 'amily', 'amine', 'amir', 'amma', 'amn', 'amore', 'amos', 'amr', 'an', 'ana', 'anarchy', 'anatomy', 'and', 'andrei', 'android', 'ang', 'angelus', 'aniyah', 'annibal', 'anonymo', 'ant', 'antheman', 'antigone', 'antiques', 'antonia', 'ap', 'apa', 'apply', 'ar', 'aracter', 'arden', 'army', 'arun', 'as', 'ascension', 'asdfaa', 'asia', 'ask', 'ass', 'asscont', 'assions', 'associat', 'astrid', 'at', 'ats', 'augustus', 'avatar', 'aw', 'awaken', 'awry', 'ax', 'ay', 'ayesha', 'ayson', 'b', 'ba', 'bab', 'babelub', 'baby', 'babyface', 'babyp', 'bac', 'bach', 'bachelor', 'backst', 'badboys', 'badboyz', 'bahamut', 'balboa', 'bald', 'ballerina', 'bambi', 'banjo', 'bar', 'baru', 'bas', 'bb', 'bbc', 'be', 'beacon', 'beamer', 'beastie', 'bee', 'bel', 'bella', 'bellaboo', 'belmont', 'belzer', 'beng', 'bergie', 'bernadette', 'bernic', 'berries', 'besttou', 'betabeta', 'beth', 'bethel', 'betsy', 'bg', 'bh', 'bhs', 'biff', 'big', 'bigben', 'bigboi', 'bigdick', 'bigmike', 'bigpimpin', 'bigsexy', 'bigtime', 'billabong', 'birddog', 'birds', 'bite', 'bla', 'blackhat', 'blacksheep', 'blaine', 'blan', 'blanca', 'blanche', 'bleach', 'blessme', 'bling', 'blog', 'blowfish', 'blueblue', 'bluefish', 'bluejay', 'blueman', 'bm', 'bmd', 'bobdole', 'bollocks', 'bon', 'bone', 'boo', 'boomboom', 'boopie', 'booqki', 'booty', 'borges', 'boris', 'bornot', 'boscoe', 'bowser', 'boxe', 'boxing', 'boy', 'bradpi', 'brando', 'braxton', 'break', 'brebre', 'bren', 'brenna', 'brewster', 'brighton', 'broadway', 'bronze', 'bs', 'bu', 'bubbie', 'bucks', 'buda', 'bugger', 'bumper', 'bush', 'bushido', 'butt', 'butthole', 'bx', 'byd', 'bylove', 'byteme', 'c', 'ca', 'cabbage', 'cade', 'cadence', 'cait', 'cakes', 'cal', 'calif', 'came', 'camry', 'canada', 'candyman', 'canon', 'capri', 'capslock', 'cards', 'carey', 'carmella', 'carroll', 'cartoon', 'casablanca', 'cascade', 'casio', 'cat', 'catwoman', 'caution', 'cd', 'cdb', 'cdw', 'ce', 'cec', 'cecilia', 'ch', 'chacha', 'chadwic', 'chainsaw', 'chantal', 'chapman', 'characters', 'chata', 'chavez', 'chaz', 'che', 'check', 'chels', 'chelsey', 'chemistry', 'chessmaster', 'chest', 'chev', 'chewy', 'chey', 'chi', 'chick', 'chilidog', 'chipmunk', 'chn', 'chobits', 'chopin', 'chrissie', 'chrysler', 'ci', 'cia', 'cjb', 'clear', 'cletus', 'clf', 'cliff', 'clint', 'clk', 'clowns', 'club', 'cmd', 'cms', 'co', 'coa', 'coal', 'cobain', 'cobalt', 'coco', 'codered', 'codyboy', 'color', 'columbia', 'com', 'comedy', 'compass', 'con', 'conan', 'conco', 'concrete', 'confused', 'cont', 'contact', 'coolboy', 'coolg', 'cooper', 'copyright', 'cor', 'coral', 'core', 'cornerstone', 'cortez', 'costel', 'covenant', 'cowchip', 'cr', 'crafts', 'crap', 'creator', 'creek', 'criminal', 'crispy', 'crow', 'crowley', 'crw', 'cth', 'cubby', 'cuda', 'cumberland', 'custo', 'cypress', 'd', 'da', 'daewoo', 'daffodil', 'dagger', 'dah', 'dais', 'daisey', 'daisies', 'damion', 'dana', 'dandelion', 'danish', 'darkcloud', 'darkone', 'dash', 'database', 'dav', 'davids', 'dawgs', 'dbz', 'dcs', 'dd', 'dden', 'de', 'deadbolt', 'deathnote', 'dee', 'deep', 'deepa', 'degrees', 'deion', 'delhi', 'demand', 'denis', 'dentist', 'denzel', 'devine', 'devon', 'dew', 'dhaka', 'di', 'dickhead', 'didi', 'die', 'dietpepsi', 'digi', 'digiview', 'dildil', 'dimebag', 'ding', 'dirty', 'discus', 'divinity', 'dix', 'djr', 'dlw', 'dm', 'dmw', 'do', 'dob', 'doberman', 'dodgeram', 'dog', 'dogboy', 'dogg', 'doggies', 'dogma', 'doit', 'doll', 'dollface', 'dolores', 'dominick', 'dondon', 'done', 'dorian', 'dover', 'dre', 'drea', 'droopy', 'ds', 'ducati', 'duchess', 'ducks', 'dunbar', 'dune', 'dupont', 'durango', 'dust', 'duster', 'dwade', 'dy', 'e', 'ea', 'eag', 'eanna', 'easter', 'eatshit', 'ecko', 'ed', 'edc', 'edd', 'edith', 'eduardo', 'ee', 'eefrog', 'ei', 'ejhej', 'ejs', 'ekim', 'el', 'elajg', 'elder', 'elisabeth', 'elise', 'elives', 'ell', 'elle', 'ello', 'elohim', 'elvisp', 'email', 'ember', 'emc', 'emilee', 'emilie', 'emm', 'emmy', 'emo', 'emy', 'en', 'enchanted', 'encore', 'end', 'ennings', 'enoch', 'enport', 'ent', 'enter', 'enupnow', 'er', 'erbert', 'ergie', 'erick', 'ericka', 'erie', 'ernest', 'ernie', 'ers', 'es', 'espana', 'et', 'ethel', 'etnies', 'eu', 'eused', 'evolution', 'ewok', 'exc', 'excellence', 'excellent', 'ey', 'eyes', 'f', 'fa', 'fame', 'faster', 'favour', 'faye', 'feathers', 'felicity', 'fenwick', 'fernando', 'fi', 'fiction', 'figaro', 'filmmaker', 'finnegan', 'firdaus', 'fire', 'fireball', 'firestone', 'first', 'fish', 'fishes', 'fitz', 'fl', 'fla', 'flames', 'flashdog', 'flatron', 'fleming', 'flexible', 'flounder', 'fly', 'flyaway', 'flyingbird', 'fm', 'focus', 'folklore', 'follow', 'fool', 'foolish', 'for', 'forgive', 'fosters', 'foxy', 'foxylady', 'fp', 'fr', 'fra', 'franny', 'fredfred', 'free', 'freefall', 'freeway', 'fuckbush', 'fucku', 'funky', 'funstuff', 'fy', 'g', 'ga', 'galadriel', 'gallaghe', 'gameboy', 'gameover', 'gamer', 'gan', 'ganesha', 'gar', 'gators', 'gaurav', 'gautam', 'gayathri', 'gazebo', 'ge', 'gene', 'geous', 'ger', 'geronimo', 'gertrude', 'getout', 'ggg', 'gh', 'ghosts', 'gift', 'gilligan', 'gilmore', 'gin', 'gingersnaps', 'girls', 'gisele', 'gle', 'glenwood', 'glock', 'go', 'goals', 'goats', 'god', 'godfirst', 'godlove', 'godlovesme', 'gods', 'gogo', 'goirish', 'gold', 'goldchair', 'goldeneagle', 'goldy', 'gomets', 'gomez', 'gon', 'goobers', 'goody', 'googoo', 'gooper', 'gor', 'goth', 'gr', 'gra', 'gracey', 'grady', 'gramma', 'grammar', 'granite', 'grass', 'grate', 'gray', 'grea', 'greentree', 'greenwood', 'gringo', 'grow', 'grunt', 'gryphon', 'gs', 'gsxr', 'guitarist', 'gust', 'gv', 'gwapako', 'gymnast', 'h', 'hair', 'hall', 'hammad', 'han', 'hanges', 'hanna', 'hans', 'hansolo', 'happ', 'har', 'harish', 'harleygirl', 'harman', 'harper', 'hat', 'hateyou', 'haveatry', 'hawkeyes', 'hayabusa', 'haz', 'he', 'heaven', 'hedgehog', 'hellos', 'hellowo', 'hemy', 'herb', 'here', 'hex', 'hi', 'higgins', 'highway', 'hiomega', 'hippie', 'hitech', 'hmb', 'hms', 'ho', 'hola', 'hollister', 'holycow', 'homewood', 'honduras', 'honeydip', 'hood', 'hoopla', 'hoosier', 'hooters', 'horace', 'hornets', 'hoss', 'hot', 'hotel', 'how', 'howareyou', 'howdy', 'howie', 'hubert', 'huggies', 'huggybear', 'hugs', 'humtumas', 'hussain', 'hustler', 'hv', 'hyper', 'i', 'ia', 'iamgreat', 'iamme', 'iamthebest', 'ian', 'ic', 'ica', 'icebox', 'iching', 'ide', 'idunno', 'ie', 'ife', 'iknow', 'il', 'ildcare', 'ill', 'illinois', 'illuminati', 'iloveeric', 'iloveher', 'iloveindia', 'ilovelife', 'ilovemike', 'ilovemyf', 'ilovesam', 'ily', 'im', 'iman', 'imf', 'imm', 'immortal', 'improdus', 'in', 'ine', 'ineedmoney', 'inez', 'info', 'ing', 'ining', 'inmouse', 'intense', 'io', 'ion', 'iq', 'is', 'ise', 'issac', 'istanbul', 'itarman', 'itchen', 'its', 'ius', 'ivy', 'iwan', 'j', 'ja', 'jack', 'jackass', 'jackpot', 'jacks', 'jadore', 'jakarta', 'jakers', 'jam', 'jamaal', 'jamesd', 'jami', 'jamison', 'janet', 'jar', 'jarell', 'jarmonal', 'jarrett', 'jarvis', 'jasm', 'jaxon', 'jayda', 'jayl', 'jbm', 'jcg', 'jcs', 'je', 'jeanett', 'jeanie', 'jeannie', 'jeebus', 'jeffhardy', 'jellyfish', 'jessika', 'jesuslovesme', 'ji', 'jigga', 'jjj', 'jlg', 'jmb', 'jmc', 'jmh', 'jml', 'jmw', 'joan', 'joaquin', 'jobhunt', 'joelle', 'johnathan', 'johndeere', 'johnjohn', 'jolly', 'jonnie', 'jor', 'jos', 'journalist', 'jq', 'jrc', 'jrs', 'jrw', 'ju', 'juanito', 'juju', 'junk', 'k', 'ka', 'kah', 'kai', 'kakashi', 'kali', 'kameron', 'kamryn', 'kangaroo', 'kaplan', 'kashmir', 'katia', 'katz', 'kaushik', 'kay', 'kayak', 'kayli', 'kaylynn', 'kds', 'ke', 'keaton', 'kee', 'keegan', 'keepout', 'kelvin', 'ken', 'kendrick', 'kent', 'kenyatta', 'keon', 'ker', 'keshia', 'ketchup', 'kev', 'key', 'khalid', 'khalil', 'khushi', 'ki', 'kic', 'kickflip', 'kidd', 'kie', 'kill', 'killbill', 'killers', 'kimba', 'kimber', 'kimkim', 'kin', 'king', 'kingjames', 'kisskiss', 'kittys', 'kjh', 'kkk', 'kkkk', 'kkkkkk', 'kkwwaaqq', 'kmart', 'kms', 'knob', 'knowledge', 'ko', 'kodi', 'kody', 'koolaid', 'kram', 'kristopher', 'ksb', 'kumar', 'ky', 'kyla', 'kylee', 'l', 'la', 'labtec', 'ladies', 'ladyluck', 'lafayette', 'lamb', 'lancelot', 'landis', 'langley', 'larrys', 'laser', 'late', 'lateralus', 'latoya', 'laurence', 'laurentiu', 'le', 'leaves', 'leeloo', 'lena', 'lennox', 'lenny', 'lentina', 'les', 'letmeinnow', 'lexus', 'lexy', 'lfa', 'li', 'licorice', 'lights', 'lil', 'lila', 'lilacs', 'lilbear', 'liliana', 'lilmama', 'lilman', 'lilo', 'limerick', 'lin', 'linkin', 'links', 'linz', 'lionheart', 'lisalisa', 'lissa', 'literature', 'littlebear', 'littlemama', 'littleman', 'litz', 'liv', 'livestro', 'lkjhgf', 'll', 'lla', 'llcool', 'lloyd', 'lly', 'ln', 'lo', 'loc', 'locker', 'log', 'lok', 'lon', 'loop', 'louisiana', 'lourdes', 'love', 'loveh', 'loveit', 'lph', 'ls', 'lu', 'luc', 'luca', 'lucia', 'lucille', 'luckylady', 'lucylou', 'ludacris', 'luigi', 'lululu', 'lyf', 'lynnette', 'lyric', 'm', 'ma', 'macdaddy', 'mad', 'madd', 'madisyn', 'madrid', 'mag', 'magg', 'magnum', 'mahalko', 'makebank', 'makeit', 'makemoney', 'makeup', 'maltese', 'mama', 'mamie', 'man', 'manatee', 'mandee', 'mandie', 'manga', 'mankind', 'manu', 'maple', 'maplestory', 'mar', 'marbles', 'marce', 'march', 'marcia', 'margie', 'mari', 'mariah', 'mariam', 'marine', 'mariusica', 'marker', 'marlin', 'marquis', 'mas', 'mash', 'masraanas', 'mass', 'mathis', 'matisse', 'mav', 'maxell', 'maxie', 'maxima', 'maximum', 'maxmax', 'maxx', 'maybe', 'maymay', 'mb', 'mck', 'mckenzie', 'mcs', 'me', 'meatball', 'meatwad', 'mega', 'meka', 'mel', 'melon', 'meme', 'memorex', 'merlot', 'merman', 'merrill', 'mes', 'messier', 'metallica', 'mew', 'mh', 'mi', 'mikaela', 'mikki', 'military', 'milky', 'millenium', 'mingus', 'ministry', 'minnes', 'mira', 'misfit', 'misha', 'mishka', 'misskitty', 'missouri', 'mit', 'mivida', 'mjob', 'mlb', 'mlt', 'mm', 'mna', 'mnb', 'mo', 'mob', 'mobius', 'mockingbird', 'moemoe', 'mom', 'mon', 'monarch', 'mond', 'monica', 'monkeyboy', 'monu', 'moody', 'mops', 'morales', 'morrowind', 'mortgage', 'motherof', 'motion', 'mouser', 'moxie', 'mrkitty', 'ms', 'muff', 'mumdad', 'musical', 'my', 'mydaddy', 'myfather', 'myjesus', 'myjob', 'mynameis', 'myp', 'mys', 'mysecret', 'myyear', 'n', 'na', 'nac', 'nag', 'nai', 'nani', 'nap', 'nar', 'narayana', 'nash', 'natalia', 'nba', 'nbv', 'nce', 'nces', 'nch', 'nd', 'ndme', 'ne', 'nee', 'neon', 'nephi', 'nestle', 'nevermind', 'newday', 'newhope', 'newmoney', 'newpassword', 'newsboys', 'ney', 'ng', 'ngsta', 'ni', 'nidhi', 'niggers', 'nikolas', 'nin', 'ning', 'nitin', 'nitro', 'nn', 'no', 'nodoubt', 'nomar', 'nonenone', 'nora', 'norma', 'northern', 'norwood', 'nosferatu', 'notorious', 'ns', 'nst', 'number', 'nusf', 'nut', 'nutrition', 'nx', 'nyboy', 'nyjets', 'o', 'oakley', 'od', 'oddball', 'odie', 'oe', 'office', 'ohbaby', 'ohiostate', 'oile', 'oilers', 'okij', 'oldspice', 'olga', 'oli', 'ollie', 'om', 'oml', 'omo', 'on', 'one', 'onmyway', 'ons', 'ont', 'onyx', 'oo', 'ooo', 'opal', 'opar', 'opcat', 'operator', 'opus', 'or', 'ord', 'oses', 'oswego', 'othello', 'overlord', 'owen', 'ozzie', 'p', 'pa', 'packard', 'pai', 'pal', 'palmer', 'pandabe', 'pants', 'pappy', 'pasha', 'pass', 'passcode', 'patsy', 'pawpaw', 'payme', 'paymenow', 'pberry', 'pe', 'pearls', 'penpen', 'pentium', 'peoria', 'per', 'peter', 'peterson', 'petey', 'peyton', 'ph', 'phi', 'phillies', 'philly', 'phone', 'pianist', 'picture', 'pillow', 'pingpong', 'pinklady', 'platypus', 'ple', 'pleasur', 'plutarch', 'po', 'pob', 'pobox', 'poke', 'polarbear', 'polish', 'polska', 'pontiac', 'pooka', 'poopsie', 'poopy', 'popo', 'pops', 'possum', 'ppl', 'pr', 'pregnant', 'prettygirl', 'pri', 'price', 'printer', 'profit', 'promo', 'ps', 'psw', 'psych', 'psychology', 'pt', 'public', 'publishing', 'publishme', 'puddles', 'pugsle', 'px', 'qaz', 'qazwsx', 'qc', 'qg', 'qqqqq', 'quartz', 'queens', 'quentin', 'quest', 'quimbala', 'quinn', 'qwas', 'qwerasdf', 'qwertyu', 'qz', 'r', 'ra', 'racecar', 'radha', 'rag', 'ragnarok', 'rah', 'rainman', 'ralphie', 'rand', 'razor', 'rba', 'rcar', 'rct', 'rd', 're', 'realmadrid', 'realtor', 'rebekah', 'redalert', 'redbird', 'redd', 'reddress', 'redfish', 'redit', 'redred', 'ree', 'reena', 'reeves', 'reilly', 'remote', 'rence', 'ret', 'revolver', 'reznor', 'rhett', 'rhubarb', 'ria', 'riches', 'richgirl', 'riddick', 'righ', 'rink', 'riom', 'riyan', 'rk', 'rling', 'rm', 'rmani', 'rmb', 'rmm', 'rn', 'rns', 'ro', 'rock', 'rockets', 'rodriguez', 'rohit', 'roller', 'rolltide', 'roman', 'romantic', 'romario', 'romila', 'ron', 'rontier', 'rory', 'rp', 'rs', 'rstlne', 'rt', 'rto', 'ru', 'rub', 'run', 'runtski', 'rus', 'rusalem', 'rushmore', 'russel', 'ry', 's', 'sa', 'saab', 'sab', 'sabi', 'sag', 'sailormoon', 'saki', 'salome', 'salvador', 'sambo', 'sammi', 'samwise', 'sanders', 'sangreal', 'sangria', 'santos', 'santosh', 'sara', 'sat', 'satnam', 'satori', 'sausages', 'savan', 'sawyer', 'say', 'sayangku', 'scarecrow', 'sco', 'scooby', 'scorp', 'scrabb', 'sd', 'se', 'seagu', 'seashell', 'section', 'security', 'sed', 'see', 'selene', 'seniors', 'serendipity', 'series', 'serpent', 'sexyone', 'sh', 'shamus', 'sharky', 'shauna', 'sheldon', 'shelley', 'shil', 'shivin', 'sho', 'shopgirl', 'shr', 'shriram', 'si', 'sienna', 'silent', 'silky', 'silver', 'ska', 'ski', 'skillz', 'skunks', 'sky', 'skylark', 'sl', 'slave', 'sleep', 'slimj', 'smackdown', 'smeagol', 'smh', 'smokey', 'smurfette', 'smw', 'snapple', 'snowbi', 'sns', 'snuffy', 'so', 'sofi', 'softz', 'solaris', 'solutions', 'sons', 'sookie', 'sosa', 'sowhat', 'sox', 'sp', 'spa', 'space', 'spades', 'sparrow', 'sparta', 'spectrum', 'spiker', 'spikey', 'spiral', 'splash', 'sponge', 'spring', 'sprint', 'spruce', 'sq', 'squ', 'srilanka', 'srin', 'ss', 'ssor', 'st', 'sta', 'standard', 'staples', 'star', 'starburst', 'ste', 'steel', 'stephanie', 'stephen', 'ster', 'stew', 'sticky', 'stitch', 'stjohn', 'stooges', 'story', 'stp', 'stranger', 'strike', 'strive', 'stubby', 'stup', 'su', 'subway', 'suck', 'suga', 'sugars', 'sullivan', 'sunfire', 'sunflowers', 'sunlight', 'supe', 'superwoman', 'supreme', 'sure', 'suresh', 'survival', 'sushi', 'swan', 'swoosh', 'synergy', 'syscon', 'syt', 't', 'ta', 'tabasco', 'taboo', 'tac', 'taekwondo', 'tahoe', 'talk', 'talon', 'tap', 'tas', 'tatum', 'tayta', 'tazmania', 'teh', 'tekk', 'tempest', 'tempestade_', 'ter', 'teri', 'termite', 'terrylee', 'tess', 'tgirl', 'th', 'thai', 'thalia', 'that', 'theo', 'ther', 'thetruth', 'thewriter', 'thirty', 'tho', 'thorn', 'threeboys', 'threekids', 'thuglife', 'ti', 'tiana', 'tic', 'tickets', 'ticktock', 'tie', 'tiffani', 'tilly', 'timtim', 'tin', 'tincan', 'tindoor', 'tish', 'titan', 'tlanta', 'tlm', 'tlp', 'to', 'toaster', 'tobias', 'tombo', 'tombstone', 'ton', 'toocool', 'tornado', 'tower', 'towson', 'tr', 'trading', 'trainer', 'trance', 'transam', 'tri', 'tricky', 'triumph', 'trucks', 'truffles', 'ts', 'tt', 'tu', 'tubby', 'tuck', 'tugger', 'tum', 'tupelo', 'turtl', 'tw', 'ty', 'u', 'ught', 'un', 'unc', 'unforgiv', 'uperduper', 'upons', 'urantia', 'uranus', 'urban', 'urner', 'us', 'ute', 'uw', 'ux', 'uy', 'v', 'va', 'vacuum', 'vade', 'valeria', 'valkyrie', 'vanhalen', 'vanhelsing', 'var', 'vd', 've', 'venezuela', 'vengeance', 'ventura', 'ver', 'vera', 'vern', 'very', 'vey', 'vf', 'vi', 'video', 'vietnam', 'viewsonic', 'vince', 'vinod', 'vishnu', 'visions', 'volley', 'vonnie', 'vp', 'vwjett', 'vx', 'w', 'wa', 'wab', 'waldo', 'walkman', 'walleye', 'wanker', 'waprr', 'wash', 'washbu', 'wat', 'watts', 'we', 'webber', 'wed', 'weewee', 'weiner', 'weird', 'welkom', 'wellington', 'werdna', 'whale', 'what', 'whatsu', 'when', 'whisky', 'wife', 'wil', 'wiley', 'will', 'willis', 'wind', 'winky', 'winona', 'wins', 'wire', 'wiseg', 'wish', 'witch', 'wnt', 'wolfgang', 'wolfman', 'wonder', 'wood', 'woohoo', 'word', 'wordlife', 'wordsmith', 'worldwide', 'wowwow', 'wrestler', 'writ', 'writeme', 'wyorker', 'x', 'xk', 'xm', 'xn', 'xo', 'xtreme', 'xw', 'xyzzy', 'y', 'ya', 'yan', 'yanks', 'ybaby', 'yinyang', 'ym', 'ymay', 'yoko', 'yomomma', 'yoo+su=yoosu', 'yoohoo', 'yosemite', 'youandme', 'yourface', 'youtube', 'ytrewq', 'yukon', 'yw', 'z', 'za', 'zapper', 'zaria', 'zb', 'zd', 'ze', 'zeta', 'zi', 'zildjia', 'zimmer', 'zj', 'zky', 'zxasqw', 'zzz', 'zzzzzzzz']\n"
          ],
          "name": "stdout"
        }
      ]
    },
    {
      "cell_type": "code",
      "metadata": {
        "id": "oyCsFqtDWrhS"
      },
      "source": [
        "pairs=list(combinations(unique_latent,2))\r\n",
        "pairs_list=[''.join(pair) for pair in pairs]"
      ],
      "execution_count": 156,
      "outputs": []
    },
    {
      "cell_type": "code",
      "metadata": {
        "colab": {
          "base_uri": "https://localhost:8080/"
        },
        "id": "f25Y64ft69Xk",
        "outputId": "df7f1b7b-5e6c-4845-a485-e669adc2f99c"
      },
      "source": [
        "print('Number of unique segments: ',len(unique_latent))\r\n",
        "print('Number of all posible pairs of unique segments: ',len(pairs_list))"
      ],
      "execution_count": 157,
      "outputs": [
        {
          "output_type": "stream",
          "text": [
            "Number of unique segments:  2301\n",
            "Number of all posible pairs of unique segments:  2646150\n"
          ],
          "name": "stdout"
        }
      ]
    },
    {
      "cell_type": "code",
      "metadata": {
        "id": "Nslywhs77u1y"
      },
      "source": [
        "complete_list = unique_latent+pairs_list"
      ],
      "execution_count": 158,
      "outputs": []
    },
    {
      "cell_type": "code",
      "metadata": {
        "colab": {
          "base_uri": "https://localhost:8080/"
        },
        "id": "tdN9SxxfGLf4",
        "outputId": "8fd6e6e0-95f9-44b2-a9b8-62143c2f61fa"
      },
      "source": [
        "#let's try to find words!\r\n",
        "try:\r\n",
        "  ind=complete_list.index(str(input()))\r\n",
        "  print(complete_list[ind:ind+100])\r\n",
        "except:\r\n",
        "  print(random.sample(complete_list,100))"
      ],
      "execution_count": 163,
      "outputs": [
        {
          "output_type": "stream",
          "text": [
            "dog\n",
            "['dog', 'dogboy', 'dogg', 'doggies', 'dogma', 'doit', 'doll', 'dollface', 'dolores', 'dominick', 'dondon', 'done', 'dorian', 'dover', 'dre', 'drea', 'droopy', 'ds', 'ducati', 'duchess', 'ducks', 'dunbar', 'dune', 'dupont', 'durango', 'dust', 'duster', 'dwade', 'dy', 'e', 'ea', 'eag', 'eanna', 'easter', 'eatshit', 'ecko', 'ed', 'edc', 'edd', 'edith', 'eduardo', 'ee', 'eefrog', 'ei', 'ejhej', 'ejs', 'ekim', 'el', 'elajg', 'elder', 'elisabeth', 'elise', 'elives', 'ell', 'elle', 'ello', 'elohim', 'elvisp', 'email', 'ember', 'emc', 'emilee', 'emilie', 'emm', 'emmy', 'emo', 'emy', 'en', 'enchanted', 'encore', 'end', 'ennings', 'enoch', 'enport', 'ent', 'enter', 'enupnow', 'er', 'erbert', 'ergie', 'erick', 'ericka', 'erie', 'ernest', 'ernie', 'ers', 'es', 'espana', 'et', 'ethel', 'etnies', 'eu', 'eused', 'evolution', 'ewok', 'exc', 'excellence', 'excellent', 'ey', 'eyes']\n"
          ],
          "name": "stdout"
        }
      ]
    },
    {
      "cell_type": "code",
      "metadata": {
        "id": "2Gq2ydSu7wkh"
      },
      "source": [
        "# Amazing! \r\n",
        "# out of only 100 vectors from the latent space we got more than 300k different words!"
      ],
      "execution_count": null,
      "outputs": []
    }
  ]
}