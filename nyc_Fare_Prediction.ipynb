{
 "cells": [
  {
   "cell_type": "markdown",
   "metadata": {},
   "source": [
    "# Real-time Taxi Fare Prediction: New York City\n",
    "The NYC-taxi dataset contains information from 50000 trips completed in the city. The geographical coordinates (latitude and longitude) were captured for pickups and drop-offs as well as the date and time of the pickup. There is also a column for the number of passengers and the correspding charged fare for each of the trips. \n",
    "### Let's start by importing the libraries:"
   ]
  },
  {
   "cell_type": "code",
   "execution_count": 2,
   "metadata": {},
   "outputs": [],
   "source": [
    "import pandas as pd\n",
    "import os \n",
    "import random\n",
    "import numpy as np \n",
    "import matplotlib.pyplot as plt\n",
    "import sklearn\n",
    "from sklearn.linear_model import LinearRegression, Ridge, Lasso\n",
    "import seaborn as sns\n",
    "import tensorflow as tf\n",
    "import tensorflow.keras\n",
    "from tensorflow.keras.layers import Dense, Input\n",
    "from tensorflow.keras.models import Sequential"
   ]
  },
  {
   "cell_type": "markdown",
   "metadata": {},
   "source": [
    "Now we can import the dataset as a dataframe with Pandas and see its full description to look for the first inconsistencies:"
   ]
  },
  {
   "cell_type": "code",
   "execution_count": 3,
   "metadata": {},
   "outputs": [],
   "source": [
    "folder = os.getcwd().replace('\\\\','/')+'/NYC_taxi'"
   ]
  },
  {
   "cell_type": "code",
   "execution_count": 4,
   "metadata": {},
   "outputs": [],
   "source": [
    "df = pd.read_csv(folder+'/NYC_taxi.csv', sep=',', parse_dates=['pickup_datetime'])"
   ]
  },
  {
   "cell_type": "code",
   "execution_count": 5,
   "metadata": {},
   "outputs": [
    {
     "data": {
      "text/html": [
       "<div>\n",
       "<style scoped>\n",
       "    .dataframe tbody tr th:only-of-type {\n",
       "        vertical-align: middle;\n",
       "    }\n",
       "\n",
       "    .dataframe tbody tr th {\n",
       "        vertical-align: top;\n",
       "    }\n",
       "\n",
       "    .dataframe thead th {\n",
       "        text-align: right;\n",
       "    }\n",
       "</style>\n",
       "<table border=\"1\" class=\"dataframe\">\n",
       "  <thead>\n",
       "    <tr style=\"text-align: right;\">\n",
       "      <th></th>\n",
       "      <th>fare_amount</th>\n",
       "      <th>pickup_longitude</th>\n",
       "      <th>pickup_latitude</th>\n",
       "      <th>dropoff_longitude</th>\n",
       "      <th>dropoff_latitude</th>\n",
       "      <th>passenger_count</th>\n",
       "    </tr>\n",
       "  </thead>\n",
       "  <tbody>\n",
       "    <tr>\n",
       "      <th>count</th>\n",
       "      <td>50000.000000</td>\n",
       "      <td>50000.000000</td>\n",
       "      <td>50000.000000</td>\n",
       "      <td>50000.000000</td>\n",
       "      <td>50000.000000</td>\n",
       "      <td>50000.000000</td>\n",
       "    </tr>\n",
       "    <tr>\n",
       "      <th>mean</th>\n",
       "      <td>11.364171</td>\n",
       "      <td>-72.509756</td>\n",
       "      <td>39.933759</td>\n",
       "      <td>-72.504616</td>\n",
       "      <td>39.926251</td>\n",
       "      <td>1.667840</td>\n",
       "    </tr>\n",
       "    <tr>\n",
       "      <th>std</th>\n",
       "      <td>9.685557</td>\n",
       "      <td>10.393860</td>\n",
       "      <td>6.224857</td>\n",
       "      <td>10.407570</td>\n",
       "      <td>6.014737</td>\n",
       "      <td>1.289195</td>\n",
       "    </tr>\n",
       "    <tr>\n",
       "      <th>min</th>\n",
       "      <td>-5.000000</td>\n",
       "      <td>-75.423848</td>\n",
       "      <td>-74.006893</td>\n",
       "      <td>-84.654241</td>\n",
       "      <td>-74.006377</td>\n",
       "      <td>0.000000</td>\n",
       "    </tr>\n",
       "    <tr>\n",
       "      <th>25%</th>\n",
       "      <td>6.000000</td>\n",
       "      <td>-73.992062</td>\n",
       "      <td>40.734880</td>\n",
       "      <td>-73.991152</td>\n",
       "      <td>40.734371</td>\n",
       "      <td>1.000000</td>\n",
       "    </tr>\n",
       "    <tr>\n",
       "      <th>50%</th>\n",
       "      <td>8.500000</td>\n",
       "      <td>-73.981840</td>\n",
       "      <td>40.752678</td>\n",
       "      <td>-73.980082</td>\n",
       "      <td>40.753372</td>\n",
       "      <td>1.000000</td>\n",
       "    </tr>\n",
       "    <tr>\n",
       "      <th>75%</th>\n",
       "      <td>12.500000</td>\n",
       "      <td>-73.967148</td>\n",
       "      <td>40.767360</td>\n",
       "      <td>-73.963584</td>\n",
       "      <td>40.768167</td>\n",
       "      <td>2.000000</td>\n",
       "    </tr>\n",
       "    <tr>\n",
       "      <th>max</th>\n",
       "      <td>200.000000</td>\n",
       "      <td>40.783472</td>\n",
       "      <td>401.083332</td>\n",
       "      <td>40.851027</td>\n",
       "      <td>43.415190</td>\n",
       "      <td>6.000000</td>\n",
       "    </tr>\n",
       "  </tbody>\n",
       "</table>\n",
       "</div>"
      ],
      "text/plain": [
       "        fare_amount  pickup_longitude  pickup_latitude  dropoff_longitude  \\\n",
       "count  50000.000000      50000.000000     50000.000000       50000.000000   \n",
       "mean      11.364171        -72.509756        39.933759         -72.504616   \n",
       "std        9.685557         10.393860         6.224857          10.407570   \n",
       "min       -5.000000        -75.423848       -74.006893         -84.654241   \n",
       "25%        6.000000        -73.992062        40.734880         -73.991152   \n",
       "50%        8.500000        -73.981840        40.752678         -73.980082   \n",
       "75%       12.500000        -73.967148        40.767360         -73.963584   \n",
       "max      200.000000         40.783472       401.083332          40.851027   \n",
       "\n",
       "       dropoff_latitude  passenger_count  \n",
       "count      50000.000000     50000.000000  \n",
       "mean          39.926251         1.667840  \n",
       "std            6.014737         1.289195  \n",
       "min          -74.006377         0.000000  \n",
       "25%           40.734371         1.000000  \n",
       "50%           40.753372         1.000000  \n",
       "75%           40.768167         2.000000  \n",
       "max           43.415190         6.000000  "
      ]
     },
     "execution_count": 5,
     "metadata": {},
     "output_type": "execute_result"
    }
   ],
   "source": [
    "#general stats\n",
    "df.describe()"
   ]
  },
  {
   "cell_type": "code",
   "execution_count": 6,
   "metadata": {},
   "outputs": [
    {
     "name": "stdout",
     "output_type": "stream",
     "text": [
      "<class 'pandas.core.frame.DataFrame'>\n",
      "RangeIndex: 50000 entries, 0 to 49999\n",
      "Data columns (total 8 columns):\n",
      " #   Column             Non-Null Count  Dtype              \n",
      "---  ------             --------------  -----              \n",
      " 0   key                50000 non-null  object             \n",
      " 1   fare_amount        50000 non-null  float64            \n",
      " 2   pickup_datetime    50000 non-null  datetime64[ns, UTC]\n",
      " 3   pickup_longitude   50000 non-null  float64            \n",
      " 4   pickup_latitude    50000 non-null  float64            \n",
      " 5   dropoff_longitude  50000 non-null  float64            \n",
      " 6   dropoff_latitude   50000 non-null  float64            \n",
      " 7   passenger_count    50000 non-null  int64              \n",
      "dtypes: datetime64[ns, UTC](1), float64(5), int64(1), object(1)\n",
      "memory usage: 3.1+ MB\n"
     ]
    }
   ],
   "source": [
    "#data types of the different columns\n",
    "df.info()"
   ]
  },
  {
   "cell_type": "code",
   "execution_count": 7,
   "metadata": {},
   "outputs": [
    {
     "data": {
      "text/html": [
       "<div>\n",
       "<style scoped>\n",
       "    .dataframe tbody tr th:only-of-type {\n",
       "        vertical-align: middle;\n",
       "    }\n",
       "\n",
       "    .dataframe tbody tr th {\n",
       "        vertical-align: top;\n",
       "    }\n",
       "\n",
       "    .dataframe thead th {\n",
       "        text-align: right;\n",
       "    }\n",
       "</style>\n",
       "<table border=\"1\" class=\"dataframe\">\n",
       "  <thead>\n",
       "    <tr style=\"text-align: right;\">\n",
       "      <th></th>\n",
       "      <th>key</th>\n",
       "      <th>fare_amount</th>\n",
       "      <th>pickup_datetime</th>\n",
       "      <th>pickup_longitude</th>\n",
       "      <th>pickup_latitude</th>\n",
       "      <th>dropoff_longitude</th>\n",
       "      <th>dropoff_latitude</th>\n",
       "      <th>passenger_count</th>\n",
       "    </tr>\n",
       "  </thead>\n",
       "  <tbody>\n",
       "    <tr>\n",
       "      <th>0</th>\n",
       "      <td>2009-06-15 17:26:21.0000001</td>\n",
       "      <td>4.5</td>\n",
       "      <td>2009-06-15 17:26:21+00:00</td>\n",
       "      <td>-73.844311</td>\n",
       "      <td>40.721319</td>\n",
       "      <td>-73.841610</td>\n",
       "      <td>40.712278</td>\n",
       "      <td>1</td>\n",
       "    </tr>\n",
       "    <tr>\n",
       "      <th>1</th>\n",
       "      <td>2010-01-05 16:52:16.0000002</td>\n",
       "      <td>16.9</td>\n",
       "      <td>2010-01-05 16:52:16+00:00</td>\n",
       "      <td>-74.016048</td>\n",
       "      <td>40.711303</td>\n",
       "      <td>-73.979268</td>\n",
       "      <td>40.782004</td>\n",
       "      <td>1</td>\n",
       "    </tr>\n",
       "    <tr>\n",
       "      <th>2</th>\n",
       "      <td>2011-08-18 00:35:00.00000049</td>\n",
       "      <td>5.7</td>\n",
       "      <td>2011-08-18 00:35:00+00:00</td>\n",
       "      <td>-73.982738</td>\n",
       "      <td>40.761270</td>\n",
       "      <td>-73.991242</td>\n",
       "      <td>40.750562</td>\n",
       "      <td>2</td>\n",
       "    </tr>\n",
       "    <tr>\n",
       "      <th>3</th>\n",
       "      <td>2012-04-21 04:30:42.0000001</td>\n",
       "      <td>7.7</td>\n",
       "      <td>2012-04-21 04:30:42+00:00</td>\n",
       "      <td>-73.987130</td>\n",
       "      <td>40.733143</td>\n",
       "      <td>-73.991567</td>\n",
       "      <td>40.758092</td>\n",
       "      <td>1</td>\n",
       "    </tr>\n",
       "    <tr>\n",
       "      <th>4</th>\n",
       "      <td>2010-03-09 07:51:00.000000135</td>\n",
       "      <td>5.3</td>\n",
       "      <td>2010-03-09 07:51:00+00:00</td>\n",
       "      <td>-73.968095</td>\n",
       "      <td>40.768008</td>\n",
       "      <td>-73.956655</td>\n",
       "      <td>40.783762</td>\n",
       "      <td>1</td>\n",
       "    </tr>\n",
       "  </tbody>\n",
       "</table>\n",
       "</div>"
      ],
      "text/plain": [
       "                             key  fare_amount           pickup_datetime  \\\n",
       "0    2009-06-15 17:26:21.0000001          4.5 2009-06-15 17:26:21+00:00   \n",
       "1    2010-01-05 16:52:16.0000002         16.9 2010-01-05 16:52:16+00:00   \n",
       "2   2011-08-18 00:35:00.00000049          5.7 2011-08-18 00:35:00+00:00   \n",
       "3    2012-04-21 04:30:42.0000001          7.7 2012-04-21 04:30:42+00:00   \n",
       "4  2010-03-09 07:51:00.000000135          5.3 2010-03-09 07:51:00+00:00   \n",
       "\n",
       "   pickup_longitude  pickup_latitude  dropoff_longitude  dropoff_latitude  \\\n",
       "0        -73.844311        40.721319         -73.841610         40.712278   \n",
       "1        -74.016048        40.711303         -73.979268         40.782004   \n",
       "2        -73.982738        40.761270         -73.991242         40.750562   \n",
       "3        -73.987130        40.733143         -73.991567         40.758092   \n",
       "4        -73.968095        40.768008         -73.956655         40.783762   \n",
       "\n",
       "   passenger_count  \n",
       "0                1  \n",
       "1                1  \n",
       "2                2  \n",
       "3                1  \n",
       "4                1  "
      ]
     },
     "execution_count": 7,
     "metadata": {},
     "output_type": "execute_result"
    }
   ],
   "source": [
    "df.head()"
   ]
  },
  {
   "cell_type": "markdown",
   "metadata": {},
   "source": [
    "The key column seems to be redundant so we can safely remove it. We can further look for some empty values to remove in case the data is not yet clean:"
   ]
  },
  {
   "cell_type": "code",
   "execution_count": 8,
   "metadata": {},
   "outputs": [],
   "source": [
    "#remove key column as it appears to be redundant\n",
    "df = df.drop(['key'], axis=1)"
   ]
  },
  {
   "cell_type": "code",
   "execution_count": 9,
   "metadata": {},
   "outputs": [
    {
     "data": {
      "text/plain": [
       "fare_amount          0\n",
       "pickup_datetime      0\n",
       "pickup_longitude     0\n",
       "pickup_latitude      0\n",
       "dropoff_longitude    0\n",
       "dropoff_latitude     0\n",
       "passenger_count      0\n",
       "dtype: int64"
      ]
     },
     "execution_count": 9,
     "metadata": {},
     "output_type": "execute_result"
    }
   ],
   "source": [
    "df.isnull().sum() #data seems to be clean *smiley*"
   ]
  },
  {
   "cell_type": "code",
   "execution_count": 10,
   "metadata": {},
   "outputs": [
    {
     "data": {
      "text/html": [
       "<div>\n",
       "<style scoped>\n",
       "    .dataframe tbody tr th:only-of-type {\n",
       "        vertical-align: middle;\n",
       "    }\n",
       "\n",
       "    .dataframe tbody tr th {\n",
       "        vertical-align: top;\n",
       "    }\n",
       "\n",
       "    .dataframe thead th {\n",
       "        text-align: right;\n",
       "    }\n",
       "</style>\n",
       "<table border=\"1\" class=\"dataframe\">\n",
       "  <thead>\n",
       "    <tr style=\"text-align: right;\">\n",
       "      <th></th>\n",
       "      <th>fare_amount</th>\n",
       "      <th>pickup_longitude</th>\n",
       "      <th>pickup_latitude</th>\n",
       "      <th>dropoff_longitude</th>\n",
       "      <th>dropoff_latitude</th>\n",
       "      <th>passenger_count</th>\n",
       "    </tr>\n",
       "  </thead>\n",
       "  <tbody>\n",
       "    <tr>\n",
       "      <th>count</th>\n",
       "      <td>50000.000000</td>\n",
       "      <td>50000.000000</td>\n",
       "      <td>50000.000000</td>\n",
       "      <td>50000.000000</td>\n",
       "      <td>50000.000000</td>\n",
       "      <td>50000.000000</td>\n",
       "    </tr>\n",
       "    <tr>\n",
       "      <th>mean</th>\n",
       "      <td>11.364171</td>\n",
       "      <td>-72.509756</td>\n",
       "      <td>39.933759</td>\n",
       "      <td>-72.504616</td>\n",
       "      <td>39.926251</td>\n",
       "      <td>1.667840</td>\n",
       "    </tr>\n",
       "    <tr>\n",
       "      <th>std</th>\n",
       "      <td>9.685557</td>\n",
       "      <td>10.393860</td>\n",
       "      <td>6.224857</td>\n",
       "      <td>10.407570</td>\n",
       "      <td>6.014737</td>\n",
       "      <td>1.289195</td>\n",
       "    </tr>\n",
       "    <tr>\n",
       "      <th>min</th>\n",
       "      <td>-5.000000</td>\n",
       "      <td>-75.423848</td>\n",
       "      <td>-74.006893</td>\n",
       "      <td>-84.654241</td>\n",
       "      <td>-74.006377</td>\n",
       "      <td>0.000000</td>\n",
       "    </tr>\n",
       "    <tr>\n",
       "      <th>25%</th>\n",
       "      <td>6.000000</td>\n",
       "      <td>-73.992062</td>\n",
       "      <td>40.734880</td>\n",
       "      <td>-73.991152</td>\n",
       "      <td>40.734371</td>\n",
       "      <td>1.000000</td>\n",
       "    </tr>\n",
       "    <tr>\n",
       "      <th>50%</th>\n",
       "      <td>8.500000</td>\n",
       "      <td>-73.981840</td>\n",
       "      <td>40.752678</td>\n",
       "      <td>-73.980082</td>\n",
       "      <td>40.753372</td>\n",
       "      <td>1.000000</td>\n",
       "    </tr>\n",
       "    <tr>\n",
       "      <th>75%</th>\n",
       "      <td>12.500000</td>\n",
       "      <td>-73.967148</td>\n",
       "      <td>40.767360</td>\n",
       "      <td>-73.963584</td>\n",
       "      <td>40.768167</td>\n",
       "      <td>2.000000</td>\n",
       "    </tr>\n",
       "    <tr>\n",
       "      <th>max</th>\n",
       "      <td>200.000000</td>\n",
       "      <td>40.783472</td>\n",
       "      <td>401.083332</td>\n",
       "      <td>40.851027</td>\n",
       "      <td>43.415190</td>\n",
       "      <td>6.000000</td>\n",
       "    </tr>\n",
       "  </tbody>\n",
       "</table>\n",
       "</div>"
      ],
      "text/plain": [
       "        fare_amount  pickup_longitude  pickup_latitude  dropoff_longitude  \\\n",
       "count  50000.000000      50000.000000     50000.000000       50000.000000   \n",
       "mean      11.364171        -72.509756        39.933759         -72.504616   \n",
       "std        9.685557         10.393860         6.224857          10.407570   \n",
       "min       -5.000000        -75.423848       -74.006893         -84.654241   \n",
       "25%        6.000000        -73.992062        40.734880         -73.991152   \n",
       "50%        8.500000        -73.981840        40.752678         -73.980082   \n",
       "75%       12.500000        -73.967148        40.767360         -73.963584   \n",
       "max      200.000000         40.783472       401.083332          40.851027   \n",
       "\n",
       "       dropoff_latitude  passenger_count  \n",
       "count      50000.000000     50000.000000  \n",
       "mean          39.926251         1.667840  \n",
       "std            6.014737         1.289195  \n",
       "min          -74.006377         0.000000  \n",
       "25%           40.734371         1.000000  \n",
       "50%           40.753372         1.000000  \n",
       "75%           40.768167         2.000000  \n",
       "max           43.415190         6.000000  "
      ]
     },
     "execution_count": 10,
     "metadata": {},
     "output_type": "execute_result"
    }
   ],
   "source": [
    "df.dropna()\n",
    "df.describe() "
   ]
  },
  {
   "cell_type": "markdown",
   "metadata": {},
   "source": [
    "In the following we plot some histograms of the fare_amount column, longitudes and latitudes. It is worth mentioning that fares should make sense i.e. values must be greater than zero and not really big like, say 100.\n",
    "\n",
    "From geographical conventions latitude values range between $0$ and $\\pi$ $(-90°, 90°)$ while longitude ranges from $0$ to $2\\pi$ $(-180°, 180°)$."
   ]
  },
  {
   "cell_type": "code",
   "execution_count": 16,
   "metadata": {},
   "outputs": [
    {
     "data": {
      "text/plain": [
       "<matplotlib.axes._subplots.AxesSubplot at 0x2800662e5c8>"
      ]
     },
     "execution_count": 16,
     "metadata": {},
     "output_type": "execute_result"
    },
    {
     "data": {
      "image/png": "[encoded data removed]",
      "text/plain": [
       "<Figure size 432x288 with 1 Axes>"
      ]
     },
     "metadata": {
      "needs_background": "light"
     },
     "output_type": "display_data"
    }
   ],
   "source": [
    "df['fare_amount'].hist(bins=100)"
   ]
  },
  {
   "cell_type": "code",
   "execution_count": 25,
   "metadata": {},
   "outputs": [
    {
     "data": {
      "text/plain": [
       "array([[<matplotlib.axes._subplots.AxesSubplot object at 0x000002800910BA08>,\n",
       "        <matplotlib.axes._subplots.AxesSubplot object at 0x00000280078D9F88>],\n",
       "       [<matplotlib.axes._subplots.AxesSubplot object at 0x00000280077DBE48>,\n",
       "        <matplotlib.axes._subplots.AxesSubplot object at 0x0000028007903F48>]],\n",
       "      dtype=object)"
      ]
     },
     "execution_count": 25,
     "metadata": {},
     "output_type": "execute_result"
    },
    {
     "data": {
      "image/png": "[encoded data removed]",
      "text/plain": [
       "<Figure size 576x576 with 4 Axes>"
      ]
     },
     "metadata": {
      "needs_background": "light"
     },
     "output_type": "display_data"
    }
   ],
   "source": [
    "#plt.figure(figsize=(10,10))\n",
    "df[['pickup_latitude', 'pickup_longitude','dropoff_latitude', 'dropoff_longitude']].hist(figsize=(8,8),bins=20)\n",
    "#df['pickup_longitude'].hist()\n",
    "#df['pickup_latitude'].hist()"
   ]
  },
  {
   "cell_type": "markdown",
   "metadata": {},
   "source": [
    "Let's now proceede to clean the dataset following the already mention conventions. In the case of the passenger_count column there are some zero values. Since that doesn't typically make sense and we don't want to remove those values altogether, it is a better practice to replace them with the mode which in this case is 1 (from the above describe column where the 50% quantile is shown)."
   ]
  },
  {
   "cell_type": "code",
   "execution_count": 42,
   "metadata": {},
   "outputs": [],
   "source": [
    "df = df[(df['fare_amount'] >=0) & (df['fare_amount'] <= 100)] # 200 is way over the average so maybe is an error (or ripoff) \n",
    "df = df[(df['pickup_longitude'] >=-180) & (df['pickup_longitude'] <= 180)]\n",
    "df = df[(df['dropoff_longitude'] >=-180) & (df['dropoff_longitude'] <= 180)]\n",
    "df = df[(df['pickup_latitude'] >=-90) & (df['pickup_latitude'] <= 90)]\n",
    "df = df[(df['dropoff_latitude'] >=-90) & (df['dropoff_latitude'] <= 90)]"
   ]
  },
  {
   "cell_type": "code",
   "execution_count": 39,
   "metadata": {},
   "outputs": [],
   "source": [
    "#let's replace zeros in the passenger_count column with the mode\n",
    "df.loc[df['passenger_count']==0, 'passenger_count'] = 1"
   ]
  },
  {
   "cell_type": "markdown",
   "metadata": {},
   "source": [
    "To have a grasp at the feature columns we can compute the correlation matrix to see what it can tell about the corelations between the features and the target variable (fare_amount):"
   ]
  },
  {
   "cell_type": "code",
   "execution_count": 45,
   "metadata": {},
   "outputs": [
    {
     "data": {
      "text/plain": [
       "fare_amount          1.000000\n",
       "pickup_longitude     0.004889\n",
       "pickup_latitude     -0.005746\n",
       "dropoff_longitude    0.003393\n",
       "dropoff_latitude    -0.004787\n",
       "passenger_count      0.017215\n",
       "Name: fare_amount, dtype: float64"
      ]
     },
     "execution_count": 45,
     "metadata": {},
     "output_type": "execute_result"
    }
   ],
   "source": [
    "corr = df.corr()\n",
    "corr.fare_amount "
   ]
  },
  {
   "cell_type": "markdown",
   "metadata": {},
   "source": [
    "That doesn't make much sense. It looks like we need a more physically relevant variable: the geographical distance.\n",
    "The geographical distance between two points in the earth globe can be given by the following formula:\n",
    "\n",
    "\\begin{equation}\n",
    "D = R \\sqrt{(\\Delta\\phi)^2 + (\\cos(\\bar{\\phi})\\,\\Delta\\lambda)^2}\n",
    "\\end{equation}\n",
    "\n",
    "Where $R\\approx 6371$ Kms is the earth radius in Kilometers, $\\phi, \\lambda$ are the latitude and longitude, respectively and $\\bar{\\phi}$ is the mean latitude give by:\n",
    "\n",
    "\\begin{equation}\n",
    "\\bar{\\phi} = \\frac{\\phi_{pickup}+\\phi_{dropoff}}{2}\n",
    "\\end{equation}"
   ]
  },
  {
   "cell_type": "code",
   "execution_count": 46,
   "metadata": {},
   "outputs": [],
   "source": [
    "# mean latittude calculation:\n",
    "phi_mean = np.radians((df.pickup_latitude+df.dropoff_latitude)/2)"
   ]
  },
  {
   "cell_type": "code",
   "execution_count": 47,
   "metadata": {},
   "outputs": [],
   "source": [
    "#differences in latitudes and longitudes:\n",
    "dphi = np.radians(df.pickup_latitude-df.dropoff_latitude)\n",
    "dlambda = np.radians(df.pickup_longitude-df.dropoff_longitude)"
   ]
  },
  {
   "cell_type": "code",
   "execution_count": 48,
   "metadata": {},
   "outputs": [],
   "source": [
    "# calculate trip (geographical) distance:\n",
    "R =  6371 #radius of the earth in kilometers\n",
    "distance = R*np.sqrt(dphi**2 + (np.cos(phi_mean)*dlambda)**2)"
   ]
  },
  {
   "cell_type": "code",
   "execution_count": 49,
   "metadata": {},
   "outputs": [],
   "source": [
    "# now we set the calculated distance as a new column in the dataframe:\n",
    "df['distance']=distance"
   ]
  },
  {
   "cell_type": "markdown",
   "metadata": {},
   "source": [
    "Let's look at the histogram to seek for extreme values that can be removed. Values above 100 for a city of roughly 20 kms of extension can be considered out of the range:"
   ]
  },
  {
   "cell_type": "code",
   "execution_count": 58,
   "metadata": {},
   "outputs": [
    {
     "data": {
      "text/plain": [
       "<matplotlib.axes._subplots.AxesSubplot at 0x2800b13e108>"
      ]
     },
     "execution_count": 58,
     "metadata": {},
     "output_type": "execute_result"
    },
    {
     "data": {
      "image/png": "[encoded data removed]",
      "text/plain": [
       "<Figure size 432x288 with 1 Axes>"
      ]
     },
     "metadata": {
      "needs_background": "light"
     },
     "output_type": "display_data"
    }
   ],
   "source": [
    "df.distance.hist()"
   ]
  },
  {
   "cell_type": "code",
   "execution_count": 68,
   "metadata": {},
   "outputs": [],
   "source": [
    "df.distance = df[df.distance < 100]"
   ]
  },
  {
   "cell_type": "markdown",
   "metadata": {},
   "source": [
    "Now we can also split the values in the pickup_datetime column to have individual values for year, month, day, weekday and hour. To further check the influence of the feature values over the fares we display the correlations. A Scatter plot of the distance vs fare_amount is added to assert whether a linear regression is justified for this model."
   ]
  },
  {
   "cell_type": "code",
   "execution_count": 69,
   "metadata": {},
   "outputs": [],
   "source": [
    "import datetime as dt\n",
    "df['year'] = df['pickup_datetime'].dt.year\n",
    "df['month'] = df['pickup_datetime'].dt.month\n",
    "df['day'] = df['pickup_datetime'].dt.day\n",
    "df['day_of_week'] = df['pickup_datetime'].dt.dayofweek\n",
    "df['hour'] = df['pickup_datetime'].dt.hour\n",
    "df = df.drop(['pickup_datetime'], axis=1)"
   ]
  },
  {
   "cell_type": "code",
   "execution_count": 70,
   "metadata": {},
   "outputs": [
    {
     "data": {
      "text/html": [
       "<div>\n",
       "<style scoped>\n",
       "    .dataframe tbody tr th:only-of-type {\n",
       "        vertical-align: middle;\n",
       "    }\n",
       "\n",
       "    .dataframe tbody tr th {\n",
       "        vertical-align: top;\n",
       "    }\n",
       "\n",
       "    .dataframe thead th {\n",
       "        text-align: right;\n",
       "    }\n",
       "</style>\n",
       "<table border=\"1\" class=\"dataframe\">\n",
       "  <thead>\n",
       "    <tr style=\"text-align: right;\">\n",
       "      <th></th>\n",
       "      <th>fare_amount</th>\n",
       "      <th>pickup_longitude</th>\n",
       "      <th>pickup_latitude</th>\n",
       "      <th>dropoff_longitude</th>\n",
       "      <th>dropoff_latitude</th>\n",
       "      <th>passenger_count</th>\n",
       "      <th>year</th>\n",
       "      <th>month</th>\n",
       "      <th>day</th>\n",
       "      <th>day_of_week</th>\n",
       "      <th>hour</th>\n",
       "    </tr>\n",
       "  </thead>\n",
       "  <tbody>\n",
       "    <tr>\n",
       "      <th>fare_amount</th>\n",
       "      <td>1.000000</td>\n",
       "      <td>0.004889</td>\n",
       "      <td>-0.005746</td>\n",
       "      <td>0.003393</td>\n",
       "      <td>-0.004787</td>\n",
       "      <td>0.017215</td>\n",
       "      <td>0.123476</td>\n",
       "      <td>0.027958</td>\n",
       "      <td>-0.000168</td>\n",
       "      <td>-0.000588</td>\n",
       "      <td>-0.021957</td>\n",
       "    </tr>\n",
       "    <tr>\n",
       "      <th>pickup_longitude</th>\n",
       "      <td>0.004889</td>\n",
       "      <td>1.000000</td>\n",
       "      <td>-0.984118</td>\n",
       "      <td>0.956571</td>\n",
       "      <td>-0.947354</td>\n",
       "      <td>-0.005473</td>\n",
       "      <td>-0.001427</td>\n",
       "      <td>0.000458</td>\n",
       "      <td>0.005999</td>\n",
       "      <td>-0.003285</td>\n",
       "      <td>0.005176</td>\n",
       "    </tr>\n",
       "    <tr>\n",
       "      <th>pickup_latitude</th>\n",
       "      <td>-0.005746</td>\n",
       "      <td>-0.984118</td>\n",
       "      <td>1.000000</td>\n",
       "      <td>-0.943690</td>\n",
       "      <td>0.961340</td>\n",
       "      <td>0.003853</td>\n",
       "      <td>-0.000768</td>\n",
       "      <td>0.000444</td>\n",
       "      <td>-0.008876</td>\n",
       "      <td>0.001965</td>\n",
       "      <td>-0.004560</td>\n",
       "    </tr>\n",
       "    <tr>\n",
       "      <th>dropoff_longitude</th>\n",
       "      <td>0.003393</td>\n",
       "      <td>0.956571</td>\n",
       "      <td>-0.943690</td>\n",
       "      <td>1.000000</td>\n",
       "      <td>-0.982087</td>\n",
       "      <td>-0.004731</td>\n",
       "      <td>-0.000489</td>\n",
       "      <td>0.001379</td>\n",
       "      <td>0.005211</td>\n",
       "      <td>-0.002502</td>\n",
       "      <td>0.005770</td>\n",
       "    </tr>\n",
       "    <tr>\n",
       "      <th>dropoff_latitude</th>\n",
       "      <td>-0.004787</td>\n",
       "      <td>-0.947354</td>\n",
       "      <td>0.961340</td>\n",
       "      <td>-0.982087</td>\n",
       "      <td>1.000000</td>\n",
       "      <td>0.002768</td>\n",
       "      <td>-0.001661</td>\n",
       "      <td>-0.000394</td>\n",
       "      <td>-0.008003</td>\n",
       "      <td>0.001677</td>\n",
       "      <td>-0.004775</td>\n",
       "    </tr>\n",
       "    <tr>\n",
       "      <th>passenger_count</th>\n",
       "      <td>0.017215</td>\n",
       "      <td>-0.005473</td>\n",
       "      <td>0.003853</td>\n",
       "      <td>-0.004731</td>\n",
       "      <td>0.002768</td>\n",
       "      <td>1.000000</td>\n",
       "      <td>0.006035</td>\n",
       "      <td>0.008499</td>\n",
       "      <td>0.006844</td>\n",
       "      <td>0.038714</td>\n",
       "      <td>0.011377</td>\n",
       "    </tr>\n",
       "    <tr>\n",
       "      <th>year</th>\n",
       "      <td>0.123476</td>\n",
       "      <td>-0.001427</td>\n",
       "      <td>-0.000768</td>\n",
       "      <td>-0.000489</td>\n",
       "      <td>-0.001661</td>\n",
       "      <td>0.006035</td>\n",
       "      <td>1.000000</td>\n",
       "      <td>-0.115664</td>\n",
       "      <td>-0.011309</td>\n",
       "      <td>0.006952</td>\n",
       "      <td>0.004429</td>\n",
       "    </tr>\n",
       "    <tr>\n",
       "      <th>month</th>\n",
       "      <td>0.027958</td>\n",
       "      <td>0.000458</td>\n",
       "      <td>0.000444</td>\n",
       "      <td>0.001379</td>\n",
       "      <td>-0.000394</td>\n",
       "      <td>0.008499</td>\n",
       "      <td>-0.115664</td>\n",
       "      <td>1.000000</td>\n",
       "      <td>-0.017098</td>\n",
       "      <td>-0.009955</td>\n",
       "      <td>-0.001996</td>\n",
       "    </tr>\n",
       "    <tr>\n",
       "      <th>day</th>\n",
       "      <td>-0.000168</td>\n",
       "      <td>0.005999</td>\n",
       "      <td>-0.008876</td>\n",
       "      <td>0.005211</td>\n",
       "      <td>-0.008003</td>\n",
       "      <td>0.006844</td>\n",
       "      <td>-0.011309</td>\n",
       "      <td>-0.017098</td>\n",
       "      <td>1.000000</td>\n",
       "      <td>0.008502</td>\n",
       "      <td>-0.008180</td>\n",
       "    </tr>\n",
       "    <tr>\n",
       "      <th>day_of_week</th>\n",
       "      <td>-0.000588</td>\n",
       "      <td>-0.003285</td>\n",
       "      <td>0.001965</td>\n",
       "      <td>-0.002502</td>\n",
       "      <td>0.001677</td>\n",
       "      <td>0.038714</td>\n",
       "      <td>0.006952</td>\n",
       "      <td>-0.009955</td>\n",
       "      <td>0.008502</td>\n",
       "      <td>1.000000</td>\n",
       "      <td>-0.091151</td>\n",
       "    </tr>\n",
       "    <tr>\n",
       "      <th>hour</th>\n",
       "      <td>-0.021957</td>\n",
       "      <td>0.005176</td>\n",
       "      <td>-0.004560</td>\n",
       "      <td>0.005770</td>\n",
       "      <td>-0.004775</td>\n",
       "      <td>0.011377</td>\n",
       "      <td>0.004429</td>\n",
       "      <td>-0.001996</td>\n",
       "      <td>-0.008180</td>\n",
       "      <td>-0.091151</td>\n",
       "      <td>1.000000</td>\n",
       "    </tr>\n",
       "  </tbody>\n",
       "</table>\n",
       "</div>"
      ],
      "text/plain": [
       "                   fare_amount  pickup_longitude  pickup_latitude  \\\n",
       "fare_amount           1.000000          0.004889        -0.005746   \n",
       "pickup_longitude      0.004889          1.000000        -0.984118   \n",
       "pickup_latitude      -0.005746         -0.984118         1.000000   \n",
       "dropoff_longitude     0.003393          0.956571        -0.943690   \n",
       "dropoff_latitude     -0.004787         -0.947354         0.961340   \n",
       "passenger_count       0.017215         -0.005473         0.003853   \n",
       "year                  0.123476         -0.001427        -0.000768   \n",
       "month                 0.027958          0.000458         0.000444   \n",
       "day                  -0.000168          0.005999        -0.008876   \n",
       "day_of_week          -0.000588         -0.003285         0.001965   \n",
       "hour                 -0.021957          0.005176        -0.004560   \n",
       "\n",
       "                   dropoff_longitude  dropoff_latitude  passenger_count  \\\n",
       "fare_amount                 0.003393         -0.004787         0.017215   \n",
       "pickup_longitude            0.956571         -0.947354        -0.005473   \n",
       "pickup_latitude            -0.943690          0.961340         0.003853   \n",
       "dropoff_longitude           1.000000         -0.982087        -0.004731   \n",
       "dropoff_latitude           -0.982087          1.000000         0.002768   \n",
       "passenger_count            -0.004731          0.002768         1.000000   \n",
       "year                       -0.000489         -0.001661         0.006035   \n",
       "month                       0.001379         -0.000394         0.008499   \n",
       "day                         0.005211         -0.008003         0.006844   \n",
       "day_of_week                -0.002502          0.001677         0.038714   \n",
       "hour                        0.005770         -0.004775         0.011377   \n",
       "\n",
       "                       year     month       day  day_of_week      hour  \n",
       "fare_amount        0.123476  0.027958 -0.000168    -0.000588 -0.021957  \n",
       "pickup_longitude  -0.001427  0.000458  0.005999    -0.003285  0.005176  \n",
       "pickup_latitude   -0.000768  0.000444 -0.008876     0.001965 -0.004560  \n",
       "dropoff_longitude -0.000489  0.001379  0.005211    -0.002502  0.005770  \n",
       "dropoff_latitude  -0.001661 -0.000394 -0.008003     0.001677 -0.004775  \n",
       "passenger_count    0.006035  0.008499  0.006844     0.038714  0.011377  \n",
       "year               1.000000 -0.115664 -0.011309     0.006952  0.004429  \n",
       "month             -0.115664  1.000000 -0.017098    -0.009955 -0.001996  \n",
       "day               -0.011309 -0.017098  1.000000     0.008502 -0.008180  \n",
       "day_of_week        0.006952 -0.009955  0.008502     1.000000 -0.091151  \n",
       "hour               0.004429 -0.001996 -0.008180    -0.091151  1.000000  "
      ]
     },
     "execution_count": 70,
     "metadata": {},
     "output_type": "execute_result"
    }
   ],
   "source": [
    "corr2 = df.corr()\n",
    "corr2 "
   ]
  },
  {
   "cell_type": "code",
   "execution_count": 71,
   "metadata": {},
   "outputs": [
    {
     "data": {
      "text/plain": [
       "fare_amount          1.000000\n",
       "pickup_longitude     0.004889\n",
       "pickup_latitude     -0.005746\n",
       "dropoff_longitude    0.003393\n",
       "dropoff_latitude    -0.004787\n",
       "passenger_count      0.017215\n",
       "year                 0.123476\n",
       "month                0.027958\n",
       "day                 -0.000168\n",
       "day_of_week         -0.000588\n",
       "hour                -0.021957\n",
       "Name: fare_amount, dtype: float64"
      ]
     },
     "execution_count": 71,
     "metadata": {},
     "output_type": "execute_result"
    }
   ],
   "source": [
    "corr2['fare_amount']"
   ]
  },
  {
   "cell_type": "code",
   "execution_count": 72,
   "metadata": {},
   "outputs": [
    {
     "data": {
      "text/plain": [
       "<matplotlib.axes._subplots.AxesSubplot at 0x2800b5fdc88>"
      ]
     },
     "execution_count": 72,
     "metadata": {},
     "output_type": "execute_result"
    },
    {
     "data": {
      "image/png": "[encoded data removed]",
      "text/plain": [
       "<Figure size 432x288 with 1 Axes>"
      ]
     },
     "metadata": {
      "needs_background": "light"
     },
     "output_type": "display_data"
    }
   ],
   "source": [
    "df.plot.scatter('distance','fare_amount')"
   ]
  },
  {
   "cell_type": "code",
   "execution_count": 73,
   "metadata": {},
   "outputs": [],
   "source": [
    "df = df.dropna()"
   ]
  },
  {
   "cell_type": "markdown",
   "metadata": {},
   "source": [
    "As expected, the distance and the fares are directly correlated and the linear relation is evident. It also seems that the year has a small influence on the price which might be due to the typical legal annual increase. The next lines are finally dedicated to the modelling."
   ]
  },
  {
   "cell_type": "markdown",
   "metadata": {},
   "source": [
    "## Model Selection\n",
    "As seen from the last part, the most appropriate model to choose is linear regression. Based upon what has been learned so far, we can select the three most known examples from scikit-Learn: Linear Regression, Ridge and Lasso and see if there are comparable differences. At the end, neural network is implemented consisting of Input, Output layers and four fully connected hidden layers with mean-squared-error as the preferred loss function and Adam as optimizer: "
   ]
  },
  {
   "cell_type": "code",
   "execution_count": 74,
   "metadata": {},
   "outputs": [],
   "source": [
    "X = df.loc[:, df.columns != 'fare_amount'].astype('float32')\n",
    "y = df['fare_amount'].astype('float32')"
   ]
  },
  {
   "cell_type": "code",
   "execution_count": 75,
   "metadata": {},
   "outputs": [],
   "source": [
    "from sklearn.model_selection import train_test_split"
   ]
  },
  {
   "cell_type": "code",
   "execution_count": 76,
   "metadata": {},
   "outputs": [],
   "source": [
    "X_train, X_test, y_train, y_test = train_test_split(X, y, test_size=0.2, random_state = 42)"
   ]
  },
  {
   "cell_type": "code",
   "execution_count": 77,
   "metadata": {},
   "outputs": [
    {
     "data": {
      "text/plain": [
       "array([[  0.      ,   0.      ,   0.      , ...,  28.      ,   2.      ,\n",
       "          2.      ],\n",
       "       [-74.00505 ,  40.740807, -73.98663 , ...,   5.      ,   1.      ,\n",
       "         14.      ],\n",
       "       [-73.99864 ,  40.764286, -73.99773 , ...,  15.      ,   0.      ,\n",
       "          2.      ],\n",
       "       ...,\n",
       "       [-74.00944 ,  40.710587, -74.0148  , ...,  31.      ,   5.      ,\n",
       "         15.      ],\n",
       "       [-73.95288 ,  40.783466, -73.9579  , ...,   6.      ,   3.      ,\n",
       "         16.      ],\n",
       "       [-73.968475,  40.799812, -73.98384 , ...,   9.      ,   5.      ,\n",
       "         13.      ]], dtype=float32)"
      ]
     },
     "execution_count": 77,
     "metadata": {},
     "output_type": "execute_result"
    }
   ],
   "source": [
    "X_train.values"
   ]
  },
  {
   "cell_type": "code",
   "execution_count": 78,
   "metadata": {},
   "outputs": [],
   "source": [
    "lr = LinearRegression()\n",
    "rg = Ridge()\n",
    "ls = Lasso()"
   ]
  },
  {
   "cell_type": "code",
   "execution_count": 79,
   "metadata": {},
   "outputs": [
    {
     "data": {
      "text/plain": [
       "Lasso()"
      ]
     },
     "execution_count": 79,
     "metadata": {},
     "output_type": "execute_result"
    }
   ],
   "source": [
    "lr.fit(X_train, y_train)\n",
    "rg.fit(X_train, y_train)\n",
    "ls.fit(X_train, y_train)"
   ]
  },
  {
   "cell_type": "code",
   "execution_count": 80,
   "metadata": {},
   "outputs": [
    {
     "name": "stdout",
     "output_type": "stream",
     "text": [
      "Scores for:\n",
      "\n",
      "Linear Regression || Ridge Regression || Lasso Regression \n",
      "\n",
      " 1.00 \t\t\t 1.00 \t\t\t 1.00  \n"
     ]
    }
   ],
   "source": [
    "print('Scores for:\\n\\nLinear Regression || Ridge Regression || Lasso Regression \\n\\n {:0.2f} \\t\\t\\t {:0.2f} \\t\\t\\t {:0.2f}  '.format(lr.score(X_test, y_test), rg.score(X_test, y_test), ls.score(X_test, y_test)))"
   ]
  },
  {
   "cell_type": "code",
   "execution_count": 81,
   "metadata": {},
   "outputs": [
    {
     "name": "stdout",
     "output_type": "stream",
     "text": [
      "Model: \"sequential\"\n",
      "_________________________________________________________________\n",
      "Layer (type)                 Output Shape              Param #   \n",
      "=================================================================\n",
      "dense (Dense)                (None, 128)               1536      \n",
      "_________________________________________________________________\n",
      "dense_1 (Dense)              (None, 64)                8256      \n",
      "_________________________________________________________________\n",
      "dense_2 (Dense)              (None, 32)                2080      \n",
      "_________________________________________________________________\n",
      "dense_3 (Dense)              (None, 8)                 264       \n",
      "_________________________________________________________________\n",
      "dense_4 (Dense)              (None, 1)                 9         \n",
      "=================================================================\n",
      "Total params: 12,145\n",
      "Trainable params: 12,145\n",
      "Non-trainable params: 0\n",
      "_________________________________________________________________\n"
     ]
    }
   ],
   "source": [
    "model = Sequential()\n",
    "model.add(Input(shape=(X_train.shape[1])))\n",
    "model.add(Dense(128, activation='relu')) \n",
    "model.add(Dense(64, activation='relu'))\n",
    "model.add(Dense(32, activation='relu'))\n",
    "model.add(Dense(8, activation='relu'))\n",
    "model.add(Dense(1))\n",
    "\n",
    "model.compile(loss='mse', optimizer='adam', metrics=['mse'])\n",
    "model.summary()"
   ]
  },
  {
   "cell_type": "code",
   "execution_count": 82,
   "metadata": {},
   "outputs": [
    {
     "name": "stdout",
     "output_type": "stream",
     "text": [
      "Train on 39896 samples\n",
      "Epoch 1/5\n",
      "39896/39896 [==============================] - 10s 263us/sample - loss: 55.2018 - mse: 55.2016\n",
      "Epoch 2/5\n",
      "39896/39896 [==============================] - 8s 188us/sample - loss: 0.5010 - mse: 0.5010\n",
      "Epoch 3/5\n",
      "39896/39896 [==============================] - 8s 189us/sample - loss: 1.0563 - mse: 1.0563\n",
      "Epoch 4/5\n",
      "39896/39896 [==============================] - 8s 190us/sample - loss: 0.8774 - mse: 0.8774\n",
      "Epoch 5/5\n",
      "39896/39896 [==============================] - 8s 199us/sample - loss: 0.7239 - mse: 0.7239\n"
     ]
    }
   ],
   "source": [
    "history = model.fit(X_train, y_train, epochs=5, batch_size = 32)"
   ]
  },
  {
   "cell_type": "code",
   "execution_count": 83,
   "metadata": {},
   "outputs": [
    {
     "name": "stdout",
     "output_type": "stream",
     "text": [
      "9975/9975 [==============================] - 2s 161us/sample - loss: 0.2704 - mse: 0.2704\n"
     ]
    }
   ],
   "source": [
    "mse,_ = model.evaluate(X_test, y_test)"
   ]
  },
  {
   "cell_type": "markdown",
   "metadata": {},
   "source": [
    "## Model predictions \n",
    "It is evident that the model behaves well with a linear fit, so there was no real need for a regularization in any form. The neural network also gives very good results in noth the training and test datasets. \n",
    "Now it's time for some predictions, for that purpose a dictionary with coordinatized addresses in NYC is stored and a function to calculate the predicted fares is given. The whole details of the trip are displayed along with the prediction for each selected case concluding the development of the model."
   ]
  },
  {
   "cell_type": "code",
   "execution_count": 84,
   "metadata": {},
   "outputs": [],
   "source": [
    "landmarks = {'JFK Airport': (-73.78,40.643),\n",
    "             'Laguardia Airport': (-73.87, 40.77),\n",
    "             'Midtown': (-73.98, 40.76),\n",
    "             'Lower Manhattan': (-74.00, 40.72),\n",
    "             'Upper Manhattan': (-73.94, 40.82),\n",
    "             'Brooklyn': (-73.95, 40.66),\n",
    "             'Jamaica Estates': (-73.78, 40.72),\n",
    "             'St. John’s University': (-73.79, 40.72),\n",
    "             'Empire State Building': (-73.98, 40.75),\n",
    "             'Riverdale': (-74.30, 40.99)\n",
    "            }    "
   ]
  },
  {
   "cell_type": "code",
   "execution_count": 85,
   "metadata": {},
   "outputs": [],
   "source": [
    "def trip_calculator(start, end, passengers):\n",
    "    \n",
    "    pickup_longitude = landmarks[start][0]\n",
    "    pickup_latitude = landmarks[start][1]\n",
    "    dropoff_longitude = landmarks[end][0]\n",
    "    dropoff_latitude = landmarks[end][1]\n",
    "    \n",
    "    phi_mean = np.radians((pickup_latitude+dropoff_latitude)/2)\n",
    "    dphi = np.radians(pickup_latitude-dropoff_latitude)\n",
    "    dlambda = np.radians(pickup_longitude-dropoff_longitude)\n",
    "    R =  6371 #radius of the earth in kilometers\n",
    "    \n",
    "    passenger_count = passengers\n",
    "    distance = R*np.sqrt(dphi**2 + (np.cos(phi_mean)*dlambda)**2)\n",
    "    \n",
    "    actual_date = dt.datetime.now()\n",
    "    year = actual_date.year\n",
    "    month = actual_date.month\n",
    "    day = actual_date.day\n",
    "    day_of_week = actual_date.weekday()\n",
    "    hour = actual_date.hour\n",
    "    \n",
    "    trip = np.array([pickup_longitude, pickup_latitude, dropoff_longitude, dropoff_latitude, passenger_count, distance, year,\n",
    "                 month, day, day_of_week, hour])\n",
    "    trip = pd.DataFrame(trip.reshape(1,11), columns=X.columns)\n",
    "    fare = round(model.predict(trip)[0][0],2)\n",
    "    \n",
    "    trip['fare_amount'] = fare\n",
    "    trip.set_index('fare_amount', inplace=True)\n",
    "\n",
    "    \n",
    "    return trip.iloc[:,:6]\n",
    "    \n",
    "    "
   ]
  },
  {
   "cell_type": "code",
   "execution_count": 88,
   "metadata": {},
   "outputs": [],
   "source": [
    "keys = [key for key in landmarks.keys()]\n",
    "# We can pick adresses Randomly as follows:\n",
    "start = keys[np.random.randint(len(keys))]\n",
    "stop = keys[np.random.randint(len(keys))]\n",
    "trip = trip_calculator(start, stop, 1)"
   ]
  },
  {
   "cell_type": "code",
   "execution_count": 89,
   "metadata": {},
   "outputs": [
    {
     "name": "stdout",
     "output_type": "stream",
     "text": [
      "Details from the trip from Jamaica Estates to Upper Manhattan at 2020-12-23 15:18:13.123671:\n"
     ]
    },
    {
     "data": {
      "text/html": [
       "<div>\n",
       "<style scoped>\n",
       "    .dataframe tbody tr th:only-of-type {\n",
       "        vertical-align: middle;\n",
       "    }\n",
       "\n",
       "    .dataframe tbody tr th {\n",
       "        vertical-align: top;\n",
       "    }\n",
       "\n",
       "    .dataframe thead th {\n",
       "        text-align: right;\n",
       "    }\n",
       "</style>\n",
       "<table border=\"1\" class=\"dataframe\">\n",
       "  <thead>\n",
       "    <tr style=\"text-align: right;\">\n",
       "      <th></th>\n",
       "      <th>pickup_longitude</th>\n",
       "      <th>pickup_latitude</th>\n",
       "      <th>dropoff_longitude</th>\n",
       "      <th>dropoff_latitude</th>\n",
       "      <th>passenger_count</th>\n",
       "      <th>distance</th>\n",
       "    </tr>\n",
       "    <tr>\n",
       "      <th>fare_amount</th>\n",
       "      <th></th>\n",
       "      <th></th>\n",
       "      <th></th>\n",
       "      <th></th>\n",
       "      <th></th>\n",
       "      <th></th>\n",
       "    </tr>\n",
       "  </thead>\n",
       "  <tbody>\n",
       "    <tr>\n",
       "      <th>16.83</th>\n",
       "      <td>-73.78</td>\n",
       "      <td>40.72</td>\n",
       "      <td>-73.94</td>\n",
       "      <td>40.82</td>\n",
       "      <td>1.0</td>\n",
       "      <td>17.469683</td>\n",
       "    </tr>\n",
       "  </tbody>\n",
       "</table>\n",
       "</div>"
      ],
      "text/plain": [
       "             pickup_longitude  pickup_latitude  dropoff_longitude  \\\n",
       "fare_amount                                                         \n",
       "16.83                  -73.78            40.72             -73.94   \n",
       "\n",
       "             dropoff_latitude  passenger_count   distance  \n",
       "fare_amount                                                \n",
       "16.83                   40.82              1.0  17.469683  "
      ]
     },
     "execution_count": 89,
     "metadata": {},
     "output_type": "execute_result"
    }
   ],
   "source": [
    "print('Details from the trip from {} to {} at {}:'.format(start, stop, dt.datetime.now()))\n",
    "trip"
   ]
  },
  {
   "cell_type": "code",
   "execution_count": null,
   "metadata": {},
   "outputs": [],
   "source": []
  }
 ],
 "metadata": {
  "kernelspec": {
   "display_name": "intel",
   "language": "python",
   "name": "intel"
  },
  "language_info": {
   "codemirror_mode": {
    "name": "ipython",
    "version": 3
   },
   "file_extension": ".py",
   "mimetype": "text/x-python",
   "name": "python",
   "nbconvert_exporter": "python",
   "pygments_lexer": "ipython3",
   "version": "3.7.9"
  }
 },
 "nbformat": 4,
 "nbformat_minor": 4
}
