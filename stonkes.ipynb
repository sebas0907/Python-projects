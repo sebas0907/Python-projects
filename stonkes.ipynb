{
 "cells": [
  {
   "cell_type": "code",
   "execution_count": 1,
   "metadata": {},
   "outputs": [],
   "source": [
    "import bs4 \n",
    "import requests \n",
    "from bs4 import BeautifulSoup\n",
    "import io\n",
    "import csv\n",
    "import numpy as np\n",
    "import pandas as pd\n",
    "import matplotlib.pyplot as plt\n",
    "import tensorflow as tf\n",
    "from tensorflow import keras\n",
    "from tensorflow.keras.models import Sequential\n",
    "from tensorflow.keras.layers import LSTM, Dense\n",
    "from sklearn.preprocessing import MinMaxScaler"
   ]
  },
  {
   "cell_type": "code",
   "execution_count": 42,
   "metadata": {},
   "outputs": [
    {
     "data": {
      "text/html": [
       "<style>.container { width:100% !important; }</style>"
      ],
      "text/plain": [
       "<IPython.core.display.HTML object>"
      ]
     },
     "metadata": {},
     "output_type": "display_data"
    }
   ],
   "source": [
    "from IPython.core.display import display, HTML\n",
    "display(HTML(\"<style>.container { width:100% !important; }</style>\"))"
   ]
  },
  {
   "cell_type": "code",
   "execution_count": 2,
   "metadata": {},
   "outputs": [],
   "source": [
    "corp_dict={\n",
    "'Facebook': 'FB',\n",
    "'Tesla': 'TSLA',\n",
    "'Apple': 'AAPL',\n",
    "'Amazon': 'AMZN',\n",
    "'Google': 'GOOG',\n",
    "'Netflix': 'NFLX',\n",
    "'Tilray': 'TLRY',\n",
    "'Aphria': 'APHA',\n",
    "'Canopy': 'CGC',\n",
    "'Aurora': 'ACB',\n",
    "'Tron': 'TRX-USD'\n",
    "}"
   ]
  },
  {
   "cell_type": "code",
   "execution_count": 3,
   "metadata": {},
   "outputs": [],
   "source": [
    "keys = list(corp_dict.keys())\n",
    "values = list(corp_dict.values())"
   ]
  },
  {
   "cell_type": "code",
   "execution_count": 4,
   "metadata": {},
   "outputs": [
    {
     "name": "stdout",
     "output_type": "stream",
     "text": [
      "Netflix\n"
     ]
    }
   ],
   "source": [
    "corp = corp_dict[input()]\n",
    "url = 'https://finance.yahoo.com/quote/{}?p={}'.format(corp,corp)"
   ]
  },
  {
   "cell_type": "code",
   "execution_count": 5,
   "metadata": {},
   "outputs": [],
   "source": [
    "def parseStonks():\n",
    "    r = requests.get(url)\n",
    "    soup = BeautifulSoup(r.text, \"html.parser\")\n",
    "    price = soup.find_all('div', {'class': 'D(ib) Mend(20px)'})[0].find('span').text\n",
    "    \n",
    "    return price"
   ]
  },
  {
   "cell_type": "code",
   "execution_count": 6,
   "metadata": {},
   "outputs": [
    {
     "name": "stdout",
     "output_type": "stream",
     "text": [
      "current Netflix stonk price:  503.84\n"
     ]
    }
   ],
   "source": [
    "for i in range(1):\n",
    "    print('current {} stonk price: '.format(keys[values.index(corp)]), str(parseStonks()))"
   ]
  },
  {
   "cell_type": "code",
   "execution_count": 7,
   "metadata": {},
   "outputs": [],
   "source": [
    "url_stonk='https://query1.finance.yahoo.com/v7/finance/download/{}?'.format(corp)"
   ]
  },
  {
   "cell_type": "code",
   "execution_count": null,
   "metadata": {},
   "outputs": [],
   "source": [
    "#'https://query1.finance.yahoo.com/v7/finance/download/FB?period1=1605398400&period2=1613347200&interval=1d&events=history&includeAdjustedClose=true'"
   ]
  },
  {
   "cell_type": "code",
   "execution_count": 8,
   "metadata": {},
   "outputs": [],
   "source": [
    "params =  {\n",
    "    'range': '5y',\n",
    "    'interval': '1d',\n",
    "    'events': 'history',\n",
    "    'includeAdjustedClose': 'true'\n",
    "}"
   ]
  },
  {
   "cell_type": "code",
   "execution_count": 9,
   "metadata": {},
   "outputs": [],
   "source": [
    "def csvStonk():\n",
    "    history = requests.get(url_stonk, params=params).text\n",
    "    filename = '{}_stonks.csv'.format(corp)\n",
    "    with open(filename,'w') as file:\n",
    "        file.write(history)\n",
    "        file.close()\n",
    "    df = pd.read_csv(filename,sep=',')\n",
    "    \n",
    "    return df"
   ]
  },
  {
   "cell_type": "code",
   "execution_count": 10,
   "metadata": {},
   "outputs": [],
   "source": [
    "df = csvStonk()"
   ]
  },
  {
   "cell_type": "code",
   "execution_count": 11,
   "metadata": {},
   "outputs": [],
   "source": [
    "df=df.sort_values(by='Date', ascending=True)"
   ]
  },
  {
   "cell_type": "code",
   "execution_count": 12,
   "metadata": {},
   "outputs": [
    {
     "name": "stdout",
     "output_type": "stream",
     "text": [
      "Stonks de Netflix:  \n"
     ]
    },
    {
     "data": {
      "text/html": [
       "<div>\n",
       "<style scoped>\n",
       "    .dataframe tbody tr th:only-of-type {\n",
       "        vertical-align: middle;\n",
       "    }\n",
       "\n",
       "    .dataframe tbody tr th {\n",
       "        vertical-align: top;\n",
       "    }\n",
       "\n",
       "    .dataframe thead th {\n",
       "        text-align: right;\n",
       "    }\n",
       "</style>\n",
       "<table border=\"1\" class=\"dataframe\">\n",
       "  <thead>\n",
       "    <tr style=\"text-align: right;\">\n",
       "      <th></th>\n",
       "      <th>Date</th>\n",
       "      <th>Open</th>\n",
       "      <th>High</th>\n",
       "      <th>Low</th>\n",
       "      <th>Close</th>\n",
       "      <th>Adj Close</th>\n",
       "      <th>Volume</th>\n",
       "    </tr>\n",
       "  </thead>\n",
       "  <tbody>\n",
       "    <tr>\n",
       "      <th>1254</th>\n",
       "      <td>2021-05-03</td>\n",
       "      <td>512.650024</td>\n",
       "      <td>518.950012</td>\n",
       "      <td>505.200012</td>\n",
       "      <td>509.109985</td>\n",
       "      <td>509.109985</td>\n",
       "      <td>4091900</td>\n",
       "    </tr>\n",
       "    <tr>\n",
       "      <th>1255</th>\n",
       "      <td>2021-05-04</td>\n",
       "      <td>510.779999</td>\n",
       "      <td>511.630005</td>\n",
       "      <td>496.790009</td>\n",
       "      <td>503.179993</td>\n",
       "      <td>503.179993</td>\n",
       "      <td>4349500</td>\n",
       "    </tr>\n",
       "    <tr>\n",
       "      <th>1256</th>\n",
       "      <td>2021-05-05</td>\n",
       "      <td>504.989990</td>\n",
       "      <td>507.779999</td>\n",
       "      <td>494.630005</td>\n",
       "      <td>496.079987</td>\n",
       "      <td>496.079987</td>\n",
       "      <td>3129400</td>\n",
       "    </tr>\n",
       "    <tr>\n",
       "      <th>1257</th>\n",
       "      <td>2021-05-06</td>\n",
       "      <td>495.989990</td>\n",
       "      <td>499.549988</td>\n",
       "      <td>491.369995</td>\n",
       "      <td>499.549988</td>\n",
       "      <td>499.549988</td>\n",
       "      <td>3783700</td>\n",
       "    </tr>\n",
       "    <tr>\n",
       "      <th>1258</th>\n",
       "      <td>2021-05-07</td>\n",
       "      <td>504.619995</td>\n",
       "      <td>508.549988</td>\n",
       "      <td>501.119995</td>\n",
       "      <td>503.839996</td>\n",
       "      <td>503.839996</td>\n",
       "      <td>3131100</td>\n",
       "    </tr>\n",
       "  </tbody>\n",
       "</table>\n",
       "</div>"
      ],
      "text/plain": [
       "            Date        Open        High         Low       Close   Adj Close  \\\n",
       "1254  2021-05-03  512.650024  518.950012  505.200012  509.109985  509.109985   \n",
       "1255  2021-05-04  510.779999  511.630005  496.790009  503.179993  503.179993   \n",
       "1256  2021-05-05  504.989990  507.779999  494.630005  496.079987  496.079987   \n",
       "1257  2021-05-06  495.989990  499.549988  491.369995  499.549988  499.549988   \n",
       "1258  2021-05-07  504.619995  508.549988  501.119995  503.839996  503.839996   \n",
       "\n",
       "       Volume  \n",
       "1254  4091900  \n",
       "1255  4349500  \n",
       "1256  3129400  \n",
       "1257  3783700  \n",
       "1258  3131100  "
      ]
     },
     "execution_count": 12,
     "metadata": {},
     "output_type": "execute_result"
    }
   ],
   "source": [
    "print('Stonks de {}:  '.format(keys[values.index(corp)]))\n",
    "df.tail()"
   ]
  },
  {
   "cell_type": "code",
   "execution_count": 13,
   "metadata": {},
   "outputs": [],
   "source": [
    "url_symbols=\"https://pkgstore.datahub.io/core/nasdaq-listings/nasdaq-listed_csv/data/7665719fb51081ba0bd834fde71ce822/nasdaq-listed_csv.csv\"\n",
    "s = requests.get(url_symbols).content\n",
    "companies = pd.read_csv(io.StringIO(s.decode('utf-8')))"
   ]
  },
  {
   "cell_type": "code",
   "execution_count": 38,
   "metadata": {},
   "outputs": [
    {
     "name": "stdout",
     "output_type": "stream",
     "text": [
      "335.83501449999994\n"
     ]
    }
   ],
   "source": [
    "mi = df.Close.min()\n",
    "ma = df.Close.max()"
   ]
  },
  {
   "cell_type": "code",
   "execution_count": 19,
   "metadata": {},
   "outputs": [
    {
     "data": {
      "text/plain": [
       "<matplotlib.axes._subplots.AxesSubplot at 0x209f91f61c8>"
      ]
     },
     "execution_count": 19,
     "metadata": {},
     "output_type": "execute_result"
    },
    {
     "data": {
      "image/png": "[encoded data removed]",
      "text/plain": [
       "<Figure size 1440x720 with 1 Axes>"
      ]
     },
     "metadata": {
      "needs_background": "light"
     },
     "output_type": "display_data"
    }
   ],
   "source": [
    "df.plot(x='Date', y='Close', title= '{} Stonks'.format(keys[values.index(corp)]), figsize = (20,10), grid=True)"
   ]
  },
  {
   "cell_type": "code",
   "execution_count": 20,
   "metadata": {},
   "outputs": [],
   "source": [
    "initial_stock_data = df.Close.values.reshape(-1,1)"
   ]
  },
  {
   "cell_type": "code",
   "execution_count": 21,
   "metadata": {},
   "outputs": [
    {
     "data": {
      "text/plain": [
       "(1259, 1)"
      ]
     },
     "execution_count": 21,
     "metadata": {},
     "output_type": "execute_result"
    }
   ],
   "source": [
    "initial_stock_data.shape"
   ]
  },
  {
   "cell_type": "code",
   "execution_count": 22,
   "metadata": {},
   "outputs": [],
   "source": [
    "sc = MinMaxScaler(feature_range=(0,1))\n",
    "stock_data = sc.fit_transform(initial_stock_data)"
   ]
  },
  {
   "cell_type": "code",
   "execution_count": 23,
   "metadata": {},
   "outputs": [],
   "source": [
    "def arrange_data(data, days):\n",
    "    days_before_values = []\n",
    "    days_values = []\n",
    "    \n",
    "    for i in range(len(data)- days): #-1\n",
    "        days_before_values.append(data[i:(i+days)])\n",
    "        days_values.append(data[i+days])\n",
    "    \n",
    "    return np.array(days_before_values), np.array(days_values)"
   ]
  },
  {
   "cell_type": "code",
   "execution_count": 24,
   "metadata": {},
   "outputs": [],
   "source": [
    "DAYS_BEFORE = 20"
   ]
  },
  {
   "cell_type": "code",
   "execution_count": 25,
   "metadata": {},
   "outputs": [],
   "source": [
    "days_before_values, days_values = arrange_data(stock_data, DAYS_BEFORE)\n",
    "days_before_values = days_before_values.reshape((days_before_values.shape[0], DAYS_BEFORE, 1))"
   ]
  },
  {
   "cell_type": "code",
   "execution_count": 26,
   "metadata": {},
   "outputs": [],
   "source": [
    "X = days_before_values\n",
    "y = days_values"
   ]
  },
  {
   "cell_type": "code",
   "execution_count": 27,
   "metadata": {},
   "outputs": [
    {
     "name": "stdout",
     "output_type": "stream",
     "text": [
      "(1239, 20, 1)\n",
      "(1239, 1)\n"
     ]
    }
   ],
   "source": [
    "print(X.shape)\n",
    "print(y.shape)"
   ]
  },
  {
   "cell_type": "code",
   "execution_count": 28,
   "metadata": {},
   "outputs": [],
   "source": [
    "a = X.reshape((X.shape[0],X.shape[1]))\n",
    "b = y.reshape((y.shape[0]))"
   ]
  },
  {
   "cell_type": "code",
   "execution_count": 29,
   "metadata": {},
   "outputs": [],
   "source": [
    "dfd = pd.DataFrame(a)\n",
    "dfd['value'] = b "
   ]
  },
  {
   "cell_type": "code",
   "execution_count": 31,
   "metadata": {},
   "outputs": [
    {
     "data": {
      "text/html": [
       "<div>\n",
       "<style scoped>\n",
       "    .dataframe tbody tr th:only-of-type {\n",
       "        vertical-align: middle;\n",
       "    }\n",
       "\n",
       "    .dataframe tbody tr th {\n",
       "        vertical-align: top;\n",
       "    }\n",
       "\n",
       "    .dataframe thead th {\n",
       "        text-align: right;\n",
       "    }\n",
       "</style>\n",
       "<table border=\"1\" class=\"dataframe\">\n",
       "  <thead>\n",
       "    <tr style=\"text-align: right;\">\n",
       "      <th></th>\n",
       "      <th>0</th>\n",
       "      <th>1</th>\n",
       "      <th>2</th>\n",
       "      <th>3</th>\n",
       "      <th>4</th>\n",
       "      <th>5</th>\n",
       "      <th>6</th>\n",
       "      <th>7</th>\n",
       "      <th>8</th>\n",
       "      <th>9</th>\n",
       "      <th>...</th>\n",
       "      <th>11</th>\n",
       "      <th>12</th>\n",
       "      <th>13</th>\n",
       "      <th>14</th>\n",
       "      <th>15</th>\n",
       "      <th>16</th>\n",
       "      <th>17</th>\n",
       "      <th>18</th>\n",
       "      <th>19</th>\n",
       "      <th>value</th>\n",
       "    </tr>\n",
       "  </thead>\n",
       "  <tbody>\n",
       "    <tr>\n",
       "      <th>0</th>\n",
       "      <td>0.010399</td>\n",
       "      <td>0.015090</td>\n",
       "      <td>0.009361</td>\n",
       "      <td>0.004810</td>\n",
       "      <td>0.005090</td>\n",
       "      <td>0.007565</td>\n",
       "      <td>0.006587</td>\n",
       "      <td>0.010319</td>\n",
       "      <td>0.008423</td>\n",
       "      <td>0.014291</td>\n",
       "      <td>...</td>\n",
       "      <td>0.025069</td>\n",
       "      <td>0.029680</td>\n",
       "      <td>0.034890</td>\n",
       "      <td>0.035868</td>\n",
       "      <td>0.034410</td>\n",
       "      <td>0.032295</td>\n",
       "      <td>0.031776</td>\n",
       "      <td>0.028462</td>\n",
       "      <td>0.030758</td>\n",
       "      <td>0.029061</td>\n",
       "    </tr>\n",
       "    <tr>\n",
       "      <th>1</th>\n",
       "      <td>0.015090</td>\n",
       "      <td>0.009361</td>\n",
       "      <td>0.004810</td>\n",
       "      <td>0.005090</td>\n",
       "      <td>0.007565</td>\n",
       "      <td>0.006587</td>\n",
       "      <td>0.010319</td>\n",
       "      <td>0.008423</td>\n",
       "      <td>0.014291</td>\n",
       "      <td>0.019081</td>\n",
       "      <td>...</td>\n",
       "      <td>0.029680</td>\n",
       "      <td>0.034890</td>\n",
       "      <td>0.035868</td>\n",
       "      <td>0.034410</td>\n",
       "      <td>0.032295</td>\n",
       "      <td>0.031776</td>\n",
       "      <td>0.028462</td>\n",
       "      <td>0.030758</td>\n",
       "      <td>0.029061</td>\n",
       "      <td>0.025009</td>\n",
       "    </tr>\n",
       "    <tr>\n",
       "      <th>2</th>\n",
       "      <td>0.009361</td>\n",
       "      <td>0.004810</td>\n",
       "      <td>0.005090</td>\n",
       "      <td>0.007565</td>\n",
       "      <td>0.006587</td>\n",
       "      <td>0.010319</td>\n",
       "      <td>0.008423</td>\n",
       "      <td>0.014291</td>\n",
       "      <td>0.019081</td>\n",
       "      <td>0.025069</td>\n",
       "      <td>...</td>\n",
       "      <td>0.034890</td>\n",
       "      <td>0.035868</td>\n",
       "      <td>0.034410</td>\n",
       "      <td>0.032295</td>\n",
       "      <td>0.031776</td>\n",
       "      <td>0.028462</td>\n",
       "      <td>0.030758</td>\n",
       "      <td>0.029061</td>\n",
       "      <td>0.025009</td>\n",
       "      <td>0.023473</td>\n",
       "    </tr>\n",
       "    <tr>\n",
       "      <th>3</th>\n",
       "      <td>0.004810</td>\n",
       "      <td>0.005090</td>\n",
       "      <td>0.007565</td>\n",
       "      <td>0.006587</td>\n",
       "      <td>0.010319</td>\n",
       "      <td>0.008423</td>\n",
       "      <td>0.014291</td>\n",
       "      <td>0.019081</td>\n",
       "      <td>0.025069</td>\n",
       "      <td>0.029680</td>\n",
       "      <td>...</td>\n",
       "      <td>0.035868</td>\n",
       "      <td>0.034410</td>\n",
       "      <td>0.032295</td>\n",
       "      <td>0.031776</td>\n",
       "      <td>0.028462</td>\n",
       "      <td>0.030758</td>\n",
       "      <td>0.029061</td>\n",
       "      <td>0.025009</td>\n",
       "      <td>0.023473</td>\n",
       "      <td>0.016806</td>\n",
       "    </tr>\n",
       "    <tr>\n",
       "      <th>4</th>\n",
       "      <td>0.005090</td>\n",
       "      <td>0.007565</td>\n",
       "      <td>0.006587</td>\n",
       "      <td>0.010319</td>\n",
       "      <td>0.008423</td>\n",
       "      <td>0.014291</td>\n",
       "      <td>0.019081</td>\n",
       "      <td>0.025069</td>\n",
       "      <td>0.029680</td>\n",
       "      <td>0.034890</td>\n",
       "      <td>...</td>\n",
       "      <td>0.034410</td>\n",
       "      <td>0.032295</td>\n",
       "      <td>0.031776</td>\n",
       "      <td>0.028462</td>\n",
       "      <td>0.030758</td>\n",
       "      <td>0.029061</td>\n",
       "      <td>0.025009</td>\n",
       "      <td>0.023473</td>\n",
       "      <td>0.016806</td>\n",
       "      <td>0.017006</td>\n",
       "    </tr>\n",
       "  </tbody>\n",
       "</table>\n",
       "<p>5 rows × 21 columns</p>\n",
       "</div>"
      ],
      "text/plain": [
       "          0         1         2         3         4         5         6  \\\n",
       "0  0.010399  0.015090  0.009361  0.004810  0.005090  0.007565  0.006587   \n",
       "1  0.015090  0.009361  0.004810  0.005090  0.007565  0.006587  0.010319   \n",
       "2  0.009361  0.004810  0.005090  0.007565  0.006587  0.010319  0.008423   \n",
       "3  0.004810  0.005090  0.007565  0.006587  0.010319  0.008423  0.014291   \n",
       "4  0.005090  0.007565  0.006587  0.010319  0.008423  0.014291  0.019081   \n",
       "\n",
       "          7         8         9  ...        11        12        13        14  \\\n",
       "0  0.010319  0.008423  0.014291  ...  0.025069  0.029680  0.034890  0.035868   \n",
       "1  0.008423  0.014291  0.019081  ...  0.029680  0.034890  0.035868  0.034410   \n",
       "2  0.014291  0.019081  0.025069  ...  0.034890  0.035868  0.034410  0.032295   \n",
       "3  0.019081  0.025069  0.029680  ...  0.035868  0.034410  0.032295  0.031776   \n",
       "4  0.025069  0.029680  0.034890  ...  0.034410  0.032295  0.031776  0.028462   \n",
       "\n",
       "         15        16        17        18        19     value  \n",
       "0  0.034410  0.032295  0.031776  0.028462  0.030758  0.029061  \n",
       "1  0.032295  0.031776  0.028462  0.030758  0.029061  0.025009  \n",
       "2  0.031776  0.028462  0.030758  0.029061  0.025009  0.023473  \n",
       "3  0.028462  0.030758  0.029061  0.025009  0.023473  0.016806  \n",
       "4  0.030758  0.029061  0.025009  0.023473  0.016806  0.017006  \n",
       "\n",
       "[5 rows x 21 columns]"
      ]
     },
     "execution_count": 31,
     "metadata": {},
     "output_type": "execute_result"
    }
   ],
   "source": [
    "dfd.head()"
   ]
  },
  {
   "cell_type": "code",
   "execution_count": 76,
   "metadata": {},
   "outputs": [],
   "source": [
    "dfd.to_csv('data_stonks.csv', index=False)"
   ]
  },
  {
   "cell_type": "code",
   "execution_count": 64,
   "metadata": {},
   "outputs": [
    {
     "name": "stdout",
     "output_type": "stream",
     "text": [
      "Model: \"sequential_3\"\n",
      "_________________________________________________________________\n",
      "Layer (type)                 Output Shape              Param #   \n",
      "=================================================================\n",
      "lstm_3 (LSTM)                (None, 32)                4352      \n",
      "_________________________________________________________________\n",
      "dense_3 (Dense)              (None, 64)                2112      \n",
      "_________________________________________________________________\n",
      "dense_4 (Dense)              (None, 1)                 65        \n",
      "=================================================================\n",
      "Total params: 6,529\n",
      "Trainable params: 6,529\n",
      "Non-trainable params: 0\n",
      "_________________________________________________________________\n"
     ]
    }
   ],
   "source": [
    "model = Sequential()\n",
    "model.add(LSTM(32, input_shape=(DAYS_BEFORE,1)))\n",
    "model.add(Dense(64, activation='relu'))\n",
    "model.add(Dense(1))\n",
    "\n",
    "model.compile(loss = 'mean_squared_error', optimizer = 'SGD', metrics = ['mse'])\n",
    "\n",
    "model.summary()"
   ]
  },
  {
   "cell_type": "code",
   "execution_count": 24,
   "metadata": {},
   "outputs": [
    {
     "name": "stdout",
     "output_type": "stream",
     "text": [
      "Model: \"sequential_1\"\n",
      "_________________________________________________________________\n",
      "Layer (type)                 Output Shape              Param #   \n",
      "=================================================================\n",
      "conv1d (Conv1D)              (None, 20, 32)            192       \n",
      "_________________________________________________________________\n",
      "lstm_1 (LSTM)                (None, 20, 64)            24832     \n",
      "_________________________________________________________________\n",
      "lstm_2 (LSTM)                (None, 64)                33024     \n",
      "_________________________________________________________________\n",
      "dense_1 (Dense)              (None, 30)                1950      \n",
      "_________________________________________________________________\n",
      "dense_2 (Dense)              (None, 10)                310       \n",
      "_________________________________________________________________\n",
      "dense_3 (Dense)              (None, 1)                 11        \n",
      "=================================================================\n",
      "Total params: 60,319\n",
      "Trainable params: 60,319\n",
      "Non-trainable params: 0\n",
      "_________________________________________________________________\n"
     ]
    }
   ],
   "source": [
    "model = tf.keras.models.Sequential([\n",
    "    tf.keras.layers.Conv1D(filters=32, kernel_size=5, strides=1, padding=\"causal\", activation=\"relu\", input_shape=(DAYS_BEFORE,1)),\n",
    "    tf.keras.layers.LSTM(64, return_sequences=True),\n",
    "    tf.keras.layers.LSTM(64),\n",
    "    tf.keras.layers.Dense(30, activation=\"relu\"),\n",
    "    tf.keras.layers.Dense(10, activation=\"relu\"),\n",
    "    tf.keras.layers.Dense(1),\n",
    "])\n",
    "\n",
    "model.compile(loss = 'mean_squared_error', optimizer = 'adam', metrics = ['mse'])\n",
    "model.summary()"
   ]
  },
  {
   "cell_type": "code",
   "execution_count": 65,
   "metadata": {},
   "outputs": [],
   "source": [
    "ES = tf.keras.callbacks.EarlyStopping(monitor='mse', patience=4)"
   ]
  },
  {
   "cell_type": "code",
   "execution_count": 66,
   "metadata": {},
   "outputs": [
    {
     "name": "stdout",
     "output_type": "stream",
     "text": [
      "Train on 1239 samples\n",
      "Epoch 1/100\n",
      "1239/1239 [==============================] - 7s 6ms/sample - loss: 0.1821 - mse: 0.1821\n",
      "Epoch 2/100\n",
      "1239/1239 [==============================] - 1s 586us/sample - loss: 0.0680 - mse: 0.0680\n",
      "Epoch 3/100\n",
      "1239/1239 [==============================] - 1s 656us/sample - loss: 0.0472 - mse: 0.0472\n",
      "Epoch 4/100\n",
      "1239/1239 [==============================] - 1s 678us/sample - loss: 0.0401 - mse: 0.0401\n",
      "Epoch 5/100\n",
      "1239/1239 [==============================] - 1s 532us/sample - loss: 0.0356 - mse: 0.0356\n",
      "Epoch 6/100\n",
      "1239/1239 [==============================] - 1s 528us/sample - loss: 0.0316 - mse: 0.0316\n",
      "Epoch 7/100\n",
      "1239/1239 [==============================] - 1s 510us/sample - loss: 0.0279 - mse: 0.0279\n",
      "Epoch 8/100\n",
      "1239/1239 [==============================] - 1s 555us/sample - loss: 0.0246 - mse: 0.0246\n",
      "Epoch 9/100\n",
      "1239/1239 [==============================] - 1s 576us/sample - loss: 0.0216 - mse: 0.0216\n",
      "Epoch 10/100\n",
      "1239/1239 [==============================] - 1s 589us/sample - loss: 0.0188 - mse: 0.0188\n",
      "Epoch 11/100\n",
      "1239/1239 [==============================] - 1s 558us/sample - loss: 0.0163 - mse: 0.0163\n",
      "Epoch 12/100\n",
      "1239/1239 [==============================] - 1s 633us/sample - loss: 0.0141 - mse: 0.0141\n",
      "Epoch 13/100\n",
      "1239/1239 [==============================] - 1s 637us/sample - loss: 0.0121 - mse: 0.0121s - loss: 0.0122 - mse\n",
      "Epoch 14/100\n",
      "1239/1239 [==============================] - 1s 610us/sample - loss: 0.0104 - mse: 0.0104\n",
      "Epoch 15/100\n",
      "1239/1239 [==============================] - 1s 515us/sample - loss: 0.0089 - mse: 0.0089\n",
      "Epoch 16/100\n",
      "1239/1239 [==============================] - 1s 544us/sample - loss: 0.0076 - mse: 0.0076s - loss: 0.0075 - mse\n",
      "Epoch 17/100\n",
      "1239/1239 [==============================] - 1s 493us/sample - loss: 0.0064 - mse: 0.0064\n",
      "Epoch 18/100\n",
      "1239/1239 [==============================] - 1s 490us/sample - loss: 0.0055 - mse: 0.0055s - loss: 0.0054 - ms\n",
      "Epoch 19/100\n",
      "1239/1239 [==============================] - 1s 492us/sample - loss: 0.0047 - mse: 0.0047\n",
      "Epoch 20/100\n",
      "1239/1239 [==============================] - 1s 498us/sample - loss: 0.0040 - mse: 0.0040\n",
      "Epoch 21/100\n",
      "1239/1239 [==============================] - 1s 489us/sample - loss: 0.0034 - mse: 0.0034\n",
      "Epoch 22/100\n",
      "1239/1239 [==============================] - 1s 575us/sample - loss: 0.0030 - mse: 0.0030\n",
      "Epoch 23/100\n",
      "1239/1239 [==============================] - 1s 660us/sample - loss: 0.0026 - mse: 0.0026\n",
      "Epoch 24/100\n",
      "1239/1239 [==============================] - 1s 634us/sample - loss: 0.0022 - mse: 0.0022\n",
      "Epoch 25/100\n",
      "1239/1239 [==============================] - 1s 531us/sample - loss: 0.0020 - mse: 0.0020\n",
      "Epoch 26/100\n",
      "1239/1239 [==============================] - 1s 515us/sample - loss: 0.0018 - mse: 0.0018\n",
      "Epoch 27/100\n",
      "1239/1239 [==============================] - 1s 491us/sample - loss: 0.0016 - mse: 0.0016\n",
      "Epoch 28/100\n",
      "1239/1239 [==============================] - 1s 496us/sample - loss: 0.0015 - mse: 0.0015\n",
      "Epoch 29/100\n",
      "1239/1239 [==============================] - 1s 496us/sample - loss: 0.0014 - mse: 0.0014\n",
      "Epoch 30/100\n",
      "1239/1239 [==============================] - 1s 497us/sample - loss: 0.0013 - mse: 0.0013\n",
      "Epoch 31/100\n",
      "1239/1239 [==============================] - 1s 482us/sample - loss: 0.0012 - mse: 0.0012\n",
      "Epoch 32/100\n",
      "1239/1239 [==============================] - 1s 514us/sample - loss: 0.0012 - mse: 0.0012\n",
      "Epoch 33/100\n",
      "1239/1239 [==============================] - 1s 629us/sample - loss: 0.0011 - mse: 0.0011\n",
      "Epoch 34/100\n",
      "1239/1239 [==============================] - 1s 656us/sample - loss: 0.0011 - mse: 0.0011\n",
      "Epoch 35/100\n",
      "1239/1239 [==============================] - 1s 627us/sample - loss: 0.0011 - mse: 0.0011\n",
      "Epoch 36/100\n",
      "1239/1239 [==============================] - 1s 504us/sample - loss: 0.0010 - mse: 0.0010\n",
      "Epoch 37/100\n",
      "1239/1239 [==============================] - 1s 493us/sample - loss: 0.0010 - mse: 0.0010\n",
      "Epoch 38/100\n",
      "1239/1239 [==============================] - 1s 500us/sample - loss: 0.0010 - mse: 0.0010s - loss: 9.4776e-04 - mse: 9\n",
      "Epoch 39/100\n",
      "1239/1239 [==============================] - 1s 530us/sample - loss: 0.0010 - mse: 0.0010\n",
      "Epoch 40/100\n",
      "1239/1239 [==============================] - 1s 508us/sample - loss: 9.9052e-04 - mse: 9.9052e-04\n",
      "Epoch 41/100\n",
      "1239/1239 [==============================] - 1s 525us/sample - loss: 9.8111e-04 - mse: 9.8111e-04\n",
      "Epoch 42/100\n",
      "1239/1239 [==============================] - 1s 549us/sample - loss: 9.7280e-04 - mse: 9.7280e-04\n",
      "Epoch 43/100\n",
      "1239/1239 [==============================] - 1s 583us/sample - loss: 9.6584e-04 - mse: 9.6584e-04\n",
      "Epoch 44/100\n",
      "1239/1239 [==============================] - 1s 627us/sample - loss: 9.6042e-04 - mse: 9.6042e-04\n",
      "Epoch 45/100\n",
      "1239/1239 [==============================] - 1s 632us/sample - loss: 9.5351e-04 - mse: 9.5351e-04\n",
      "Epoch 46/100\n",
      "1239/1239 [==============================] - 1s 535us/sample - loss: 9.4947e-04 - mse: 9.4947e-04\n",
      "Epoch 47/100\n",
      "1239/1239 [==============================] - 1s 493us/sample - loss: 9.4397e-04 - mse: 9.4397e-04\n",
      "Epoch 48/100\n",
      "1239/1239 [==============================] - 1s 474us/sample - loss: 9.3912e-04 - mse: 9.3912e-04\n",
      "Epoch 49/100\n",
      "1239/1239 [==============================] - 1s 491us/sample - loss: 9.3460e-04 - mse: 9.3460e-04s - loss: 9.2171e-04 - mse: 9.2171e-0\n",
      "Epoch 50/100\n",
      "1239/1239 [==============================] - 1s 504us/sample - loss: 9.3048e-04 - mse: 9.3048e-04\n",
      "Epoch 51/100\n",
      "1239/1239 [==============================] - 1s 488us/sample - loss: 9.2700e-04 - mse: 9.2700e-04\n",
      "Epoch 52/100\n",
      "1239/1239 [==============================] - 1s 510us/sample - loss: 9.2305e-04 - mse: 9.2305e-04\n",
      "Epoch 53/100\n",
      "1239/1239 [==============================] - 1s 490us/sample - loss: 9.2106e-04 - mse: 9.2106e-04\n",
      "Epoch 54/100\n",
      "1239/1239 [==============================] - 1s 625us/sample - loss: 9.1725e-04 - mse: 9.1725e-04\n",
      "Epoch 55/100\n",
      "1239/1239 [==============================] - 1s 661us/sample - loss: 9.1296e-04 - mse: 9.1296e-04\n",
      "Epoch 56/100\n",
      "1239/1239 [==============================] - 1s 712us/sample - loss: 9.1131e-04 - mse: 9.1131e-04\n",
      "Epoch 57/100\n",
      "1239/1239 [==============================] - 1s 512us/sample - loss: 9.0810e-04 - mse: 9.0810e-04\n",
      "Epoch 58/100\n",
      "1239/1239 [==============================] - 1s 531us/sample - loss: 9.0485e-04 - mse: 9.0485e-04\n",
      "Epoch 59/100\n",
      "1239/1239 [==============================] - 1s 517us/sample - loss: 9.0199e-04 - mse: 9.0199e-04\n",
      "Epoch 60/100\n",
      "1239/1239 [==============================] - 1s 478us/sample - loss: 8.9907e-04 - mse: 8.9907e-04\n",
      "Epoch 61/100\n",
      "1239/1239 [==============================] - 1s 492us/sample - loss: 8.9731e-04 - mse: 8.9731e-04\n",
      "Epoch 62/100\n",
      "1239/1239 [==============================] - 1s 484us/sample - loss: 8.9220e-04 - mse: 8.9220e-04\n",
      "Epoch 63/100\n",
      "1239/1239 [==============================] - 1s 477us/sample - loss: 8.9029e-04 - mse: 8.9029e-04\n",
      "Epoch 64/100\n",
      "1239/1239 [==============================] - 1s 499us/sample - loss: 8.8757e-04 - mse: 8.8757e-04\n",
      "Epoch 65/100\n",
      "1239/1239 [==============================] - 1s 609us/sample - loss: 8.8590e-04 - mse: 8.8590e-04\n",
      "Epoch 66/100\n",
      "1239/1239 [==============================] - 1s 668us/sample - loss: 8.8241e-04 - mse: 8.8241e-04\n",
      "Epoch 67/100\n",
      "1239/1239 [==============================] - 1s 591us/sample - loss: 8.7914e-04 - mse: 8.7914e-04\n",
      "Epoch 68/100\n",
      "1239/1239 [==============================] - 1s 476us/sample - loss: 8.7595e-04 - mse: 8.7595e-04\n",
      "Epoch 69/100\n",
      "1239/1239 [==============================] - 1s 493us/sample - loss: 8.7276e-04 - mse: 8.7276e-04\n",
      "Epoch 70/100\n",
      "1239/1239 [==============================] - 1s 507us/sample - loss: 8.7049e-04 - mse: 8.7049e-04\n",
      "Epoch 71/100\n",
      "1239/1239 [==============================] - 1s 495us/sample - loss: 8.6785e-04 - mse: 8.6785e-04\n",
      "Epoch 72/100\n",
      "1239/1239 [==============================] - 1s 507us/sample - loss: 8.6525e-04 - mse: 8.6525e-04s - loss: 9.1042e-04 - mse: 9.1042\n",
      "Epoch 73/100\n",
      "1239/1239 [==============================] - 1s 487us/sample - loss: 8.6309e-04 - mse: 8.6309e-04\n",
      "Epoch 74/100\n",
      "1239/1239 [==============================] - 1s 483us/sample - loss: 8.6152e-04 - mse: 8.6152e-04\n",
      "Epoch 75/100\n",
      "1239/1239 [==============================] - 1s 588us/sample - loss: 8.5872e-04 - mse: 8.5872e-04\n",
      "Epoch 76/100\n"
     ]
    },
    {
     "name": "stdout",
     "output_type": "stream",
     "text": [
      "1239/1239 [==============================] - 1s 617us/sample - loss: 8.5542e-04 - mse: 8.5542e-04\n",
      "Epoch 77/100\n",
      "1239/1239 [==============================] - 1s 705us/sample - loss: 8.5356e-04 - mse: 8.5356e-04\n",
      "Epoch 78/100\n",
      "1239/1239 [==============================] - 1s 539us/sample - loss: 8.5145e-04 - mse: 8.5145e-04\n",
      "Epoch 79/100\n",
      "1239/1239 [==============================] - 1s 526us/sample - loss: 8.4929e-04 - mse: 8.4929e-04\n",
      "Epoch 80/100\n",
      "1239/1239 [==============================] - 1s 518us/sample - loss: 8.4871e-04 - mse: 8.4871e-04\n",
      "Epoch 81/100\n",
      "1239/1239 [==============================] - 1s 517us/sample - loss: 8.4579e-04 - mse: 8.4579e-04\n",
      "Epoch 82/100\n",
      "1239/1239 [==============================] - 1s 499us/sample - loss: 8.4399e-04 - mse: 8.4399e-04\n",
      "Epoch 83/100\n",
      "1239/1239 [==============================] - 1s 507us/sample - loss: 8.4164e-04 - mse: 8.4164e-04\n",
      "Epoch 84/100\n",
      "1239/1239 [==============================] - 1s 528us/sample - loss: 8.4038e-04 - mse: 8.4038e-04\n",
      "Epoch 85/100\n",
      "1239/1239 [==============================] - 1s 605us/sample - loss: 8.3833e-04 - mse: 8.3833e-04\n",
      "Epoch 86/100\n",
      "1239/1239 [==============================] - 1s 683us/sample - loss: 8.3630e-04 - mse: 8.3630e-04\n",
      "Epoch 87/100\n",
      "1239/1239 [==============================] - 1s 638us/sample - loss: 8.3515e-04 - mse: 8.3515e-04\n",
      "Epoch 88/100\n",
      "1239/1239 [==============================] - 1s 546us/sample - loss: 8.3404e-04 - mse: 8.3404e-04s - loss: 8.6222e-04 - mse: 8.6222e\n",
      "Epoch 89/100\n",
      "1239/1239 [==============================] - 1s 503us/sample - loss: 8.3104e-04 - mse: 8.3104e-04\n",
      "Epoch 90/100\n",
      "1239/1239 [==============================] - 1s 493us/sample - loss: 8.3039e-04 - mse: 8.3039e-04\n",
      "Epoch 91/100\n",
      "1239/1239 [==============================] - 1s 512us/sample - loss: 8.2863e-04 - mse: 8.2863e-04\n",
      "Epoch 92/100\n",
      "1239/1239 [==============================] - 1s 496us/sample - loss: 8.2690e-04 - mse: 8.2690e-04s - loss: 7.9006e-04 - mse: 7.9006e\n",
      "Epoch 93/100\n",
      "1239/1239 [==============================] - 1s 507us/sample - loss: 8.2535e-04 - mse: 8.2535e-04\n",
      "Epoch 94/100\n",
      "1239/1239 [==============================] - 1s 511us/sample - loss: 8.2414e-04 - mse: 8.2414e-04\n",
      "Epoch 95/100\n",
      "1239/1239 [==============================] - 1s 574us/sample - loss: 8.2303e-04 - mse: 8.2303e-04\n",
      "Epoch 96/100\n",
      "1239/1239 [==============================] - 1s 660us/sample - loss: 8.2008e-04 - mse: 8.2008e-04\n",
      "Epoch 97/100\n",
      "1239/1239 [==============================] - 1s 650us/sample - loss: 8.2029e-04 - mse: 8.2029e-04\n",
      "Epoch 98/100\n",
      "1239/1239 [==============================] - 1s 541us/sample - loss: 8.1880e-04 - mse: 8.1880e-04\n",
      "Epoch 99/100\n",
      "1239/1239 [==============================] - 1s 503us/sample - loss: 8.1797e-04 - mse: 8.1797e-04\n",
      "Epoch 100/100\n",
      "1239/1239 [==============================] - 1s 513us/sample - loss: 8.1603e-04 - mse: 8.1603e-04\n"
     ]
    }
   ],
   "source": [
    "history = model.fit(X, y, epochs = 100, batch_size=64, callbacks=[ES])"
   ]
  },
  {
   "cell_type": "code",
   "execution_count": 67,
   "metadata": {},
   "outputs": [],
   "source": [
    "X_test = X[-1]\n",
    "X_test = np.expand_dims(X_test, axis=0)"
   ]
  },
  {
   "cell_type": "code",
   "execution_count": 68,
   "metadata": {},
   "outputs": [],
   "source": [
    "X_pred = stock_data[-20:]\n",
    "X_pred = np.expand_dims(X_pred, axis=0)"
   ]
  },
  {
   "cell_type": "code",
   "execution_count": 69,
   "metadata": {},
   "outputs": [],
   "source": [
    "prediction = sc.inverse_transform(model.predict(X_test)).flatten()[0]"
   ]
  },
  {
   "cell_type": "code",
   "execution_count": 70,
   "metadata": {},
   "outputs": [],
   "source": [
    "y_pred = sc.inverse_transform(model.predict(X_pred)).flatten()[0]"
   ]
  },
  {
   "cell_type": "code",
   "execution_count": 71,
   "metadata": {},
   "outputs": [],
   "source": [
    "predictions_on_training = sc.inverse_transform(model.predict(X))"
   ]
  },
  {
   "cell_type": "code",
   "execution_count": 72,
   "metadata": {},
   "outputs": [],
   "source": [
    "before_price = y[-1].reshape(1,-1)\n",
    "before_price = sc.inverse_transform(before_price).flatten()[0]"
   ]
  },
  {
   "cell_type": "code",
   "execution_count": 73,
   "metadata": {},
   "outputs": [],
   "source": [
    "actual_price = parseStonks()"
   ]
  },
  {
   "cell_type": "code",
   "execution_count": 74,
   "metadata": {},
   "outputs": [
    {
     "name": "stdout",
     "output_type": "stream",
     "text": [
      "predicted price:  502.83\n",
      "actual price:  503.84\n",
      "prediction for tomorrow:  502.25\n"
     ]
    }
   ],
   "source": [
    "#print('last day price: ', last_price)\n",
    "print('predicted price: ', np.round(prediction,2))\n",
    "print('actual price: ', actual_price)\n",
    "print('prediction for tomorrow: ', np.round(y_pred,2))"
   ]
  },
  {
   "cell_type": "code",
   "execution_count": 75,
   "metadata": {},
   "outputs": [
    {
     "data": {
      "image/png": "[encoded data removed]",
      "text/plain": [
       "<Figure size 1440x720 with 1 Axes>"
      ]
     },
     "metadata": {
      "needs_background": "light"
     },
     "output_type": "display_data"
    }
   ],
   "source": [
    "plt.figure(figsize = (20,10))\n",
    "plt.plot(len(initial_stock_data),prediction, 'o', color='red')\n",
    "plt.plot(len(initial_stock_data)+1,y_pred, 'o', color='blue')\n",
    "plt.plot(initial_stock_data, color = 'gray')\n",
    "plt.plot(predictions_on_training, color = 'green', dashes = [6,2])\n",
    "plt.xlabel('Days')\n",
    "plt.ylabel('Price')\n",
    "plt.grid()\n",
    "plt.show()"
   ]
  },
  {
   "cell_type": "code",
   "execution_count": null,
   "metadata": {},
   "outputs": [],
   "source": []
  }
 ],
 "metadata": {
  "kernelspec": {
   "display_name": "intel",
   "language": "python",
   "name": "intel"
  },
  "language_info": {
   "codemirror_mode": {
    "name": "ipython",
    "version": 3
   },
   "file_extension": ".py",
   "mimetype": "text/x-python",
   "name": "python",
   "nbconvert_exporter": "python",
   "pygments_lexer": "ipython3",
   "version": "3.7.9"
  }
 },
 "nbformat": 4,
 "nbformat_minor": 4
}
