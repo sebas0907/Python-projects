{
 "cells": [
  {
   "cell_type": "code",
   "execution_count": 1,
   "metadata": {},
   "outputs": [],
   "source": [
    "import numpy as np"
   ]
  },
  {
   "cell_type": "code",
   "execution_count": 2,
   "metadata": {},
   "outputs": [],
   "source": [
    "example = [\"3 + 855\", \"3801 - 2\", \"45 + 43\", \"123 + 49\"]"
   ]
  },
  {
   "cell_type": "code",
   "execution_count": 462,
   "metadata": {},
   "outputs": [],
   "source": [
    "def arithmetic_arranger(problems, answers=False):\n",
    "    operations = [op.split(' ',2) for op in problems]\n",
    "    upper = [operations[i][0] for i in range(len(operations))]\n",
    "    lower = [operations[i][-1] for i in range(len(operations))]\n",
    "    dashes = ['-'*(max(len(i),len(j))+2) for i, j in zip(upper,lower)]\n",
    "    signs = [operations[i][-2] for i in range(len(operations))]\n",
    "    zipper = list(zip(signs,lower))\n",
    "    #dashes = ['-'*len(op) for op in problems]\n",
    "    results = [eval(op) for op in problems]\n",
    "    sign_lower = [] \n",
    "    total_list = []\n",
    "    \n",
    "    for i in zipper:\n",
    "        sign_lower.append(list(i))\n",
    "    for sublist in sign_lower:\n",
    "        for item in sublist:\n",
    "            total_list.append(item)\n",
    "    if answers:\n",
    "    #    arranged_problems = \"{:>12}{:>12}{:>12}{:>12}\\n\n",
    "    #    {:>12}{:>12}{:>12}{:>12}\\n\n",
    "    #    {:>12}{:>12}{:>12}{:>12}\\n\n",
    "    #    {:>12}{:>12}{:>12}{:>12}\"\\\n",
    "    #  .format(*upper,*lower,*dashes,*results)\n",
    "        arranged_problems = \"{:>8}{:>8}{:>8}{:>8}\\n{:>4}{:>4}{:>3}{:>5}{:>5}{:>3}{:>4}{:>4}\\n{:>8}{:>8}{:>8}{:>8}\\n{:>8}{:>8}{:>8}{:>8}\".format(*upper,*total_list,*dashes,*results)\n",
    "    else:\n",
    "        #arranged_problems = \"{:>12}{:>12}{:>12}{:>12}\\n{:>12}{:>12}{:>12}{:>12}\\n{:>12}{:>12}{:>12}{:>12}\".format(*upper,*lower,*dashes)\n",
    "        arranged_problems = \"{:>8}{:>8}{:>8}{:>8}\\n{:>4}{:>4}{:>3}{:>5}{:>5}{:>3}{:>4}{:>4}\\n{:>8}{:>8}{:>8}{:>8}\".format(*upper,*total_list,*dashes)\n",
    "\n",
    "    return arranged_problems"
   ]
  },
  {
   "cell_type": "code",
   "execution_count": 463,
   "metadata": {},
   "outputs": [],
   "source": [
    "actual = arithmetic_arranger([\"3 + 855\", \"3801 - 2\", \"45 + 43\", \"123 + 49\"])"
   ]
  },
  {
   "cell_type": "code",
   "execution_count": 3,
   "metadata": {},
   "outputs": [],
   "source": [
    "operations = [op.split(' ',2) for op in example]"
   ]
  },
  {
   "cell_type": "code",
   "execution_count": 4,
   "metadata": {},
   "outputs": [],
   "source": [
    "upper = [operations[i][0] for i in range(len(operations))]"
   ]
  },
  {
   "cell_type": "code",
   "execution_count": 5,
   "metadata": {},
   "outputs": [],
   "source": [
    "lower = [operations[i][-1] for i in range(len(operations))]"
   ]
  },
  {
   "cell_type": "code",
   "execution_count": 6,
   "metadata": {},
   "outputs": [],
   "source": [
    "dashes = ['-'*(max(len(i),len(j))+2) for i, j in zip(upper,lower)]"
   ]
  },
  {
   "cell_type": "code",
   "execution_count": 7,
   "metadata": {},
   "outputs": [],
   "source": [
    "signs = [ operations[i][-2] for i in range(len(operations))]"
   ]
  },
  {
   "cell_type": "code",
   "execution_count": 8,
   "metadata": {},
   "outputs": [],
   "source": [
    "results = [eval(problem) for problem in example]"
   ]
  },
  {
   "cell_type": "code",
   "execution_count": 9,
   "metadata": {},
   "outputs": [],
   "source": [
    "sign_lower = [] \n",
    "total_list = []\n",
    "zipper = list(zip(signs,lower))\n",
    "for i in zipper:\n",
    "    sign_lower.append(list(i))\n",
    "for sublist in sign_lower:\n",
    "    for item in sublist:\n",
    "        total_list.append(item)"
   ]
  },
  {
   "cell_type": "code",
   "execution_count": 182,
   "metadata": {},
   "outputs": [],
   "source": [
    "expected = \"    3      3801      45      123\\n+ 855    -    2    + 43    +  49\\n-----    ------    ----    -----\""
   ]
  },
  {
   "cell_type": "code",
   "execution_count": 522,
   "metadata": {},
   "outputs": [],
   "source": [
    "a= \"{:>6}{:>6}{:>6}{:>6}\\n{}{:>5}{:>5}{:>5}{:>5}{:>5}{:>5}{:>5}\\n{:>5}{:>5}{:>5}{:>5}\\n{:>5}{:>5}{:>5}{:>5}\".format(*upper,*total_list,*dashes,*results)"
   ]
  },
  {
   "cell_type": "code",
   "execution_count": 656,
   "metadata": {},
   "outputs": [],
   "source": [
    "a = '{:>5}     {:>5}   {:>5}    {:>5}\\n\\\n",
    "{}{:>4}     {}{:>4}   {}{:>4}    {}{:>4}\\n\\\n",
    "\\n{}    {:>4}    {:>4}    {:>4}\\n'.format(*upper,*total_list,*dashes)"
   ]
  },
  {
   "cell_type": "code",
   "execution_count": 10,
   "metadata": {},
   "outputs": [
    {
     "data": {
      "text/plain": [
       "[['3', '+', '855'], ['3801', '-', '2'], ['45', '+', '43'], ['123', '+', '49']]"
      ]
     },
     "execution_count": 10,
     "metadata": {},
     "output_type": "execute_result"
    }
   ],
   "source": [
    "operations"
   ]
  },
  {
   "cell_type": "code",
   "execution_count": 33,
   "metadata": {},
   "outputs": [],
   "source": [
    "u_operators = \"\"\n",
    "for i in upper:\n",
    "    u_operators+=i"
   ]
  },
  {
   "cell_type": "code",
   "execution_count": 38,
   "metadata": {},
   "outputs": [],
   "source": [
    "frase = '    '.join(upper)"
   ]
  },
  {
   "cell_type": "code",
   "execution_count": 39,
   "metadata": {},
   "outputs": [
    {
     "name": "stdout",
     "output_type": "stream",
     "text": [
      "3    3801    45    123\n"
     ]
    }
   ],
   "source": [
    "print(frase.rjust(20))"
   ]
  },
  {
   "cell_type": "code",
   "execution_count": 34,
   "metadata": {},
   "outputs": [
    {
     "data": {
      "text/plain": [
       "'3380145123'"
      ]
     },
     "execution_count": 34,
     "metadata": {},
     "output_type": "execute_result"
    }
   ],
   "source": [
    "u_operators"
   ]
  },
  {
   "cell_type": "code",
   "execution_count": null,
   "metadata": {},
   "outputs": [],
   "source": []
  }
 ],
 "metadata": {
  "kernelspec": {
   "display_name": "intel",
   "language": "python",
   "name": "intel"
  },
  "language_info": {
   "codemirror_mode": {
    "name": "ipython",
    "version": 3
   },
   "file_extension": ".py",
   "mimetype": "text/x-python",
   "name": "python",
   "nbconvert_exporter": "python",
   "pygments_lexer": "ipython3",
   "version": "3.7.9"
  }
 },
 "nbformat": 4,
 "nbformat_minor": 4
}
